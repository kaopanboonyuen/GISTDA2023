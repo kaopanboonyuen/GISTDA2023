{
 "cells": [
  {
   "cell_type": "markdown",
   "metadata": {
    "id": "2XJLMuRZzVvj"
   },
   "source": [
    "# Spark Preparation\n",
    "We check if we are in Google Colab.  If this is the case, install all necessary packages.\n",
    "\n",
    "To run spark in Colab, we need to first install all the dependencies in Colab environment i.e. Apache Spark 3.2.1 with hadoop 3.2, Java 8 and Findspark to locate the spark in the system. The tools installation can be carried out inside the Jupyter Notebook of the Colab.\n",
    "Learn more from [A Must-Read Guide on How to Work with PySpark on Google Colab for Data Scientists!](https://www.analyticsvidhya.com/blog/2020/11/a-must-read-guide-on-how-to-work-with-pyspark-on-google-colab-for-data-scientists/)\n",
    "\n",
    "credit: Natawut Nupairoj"
   ]
  },
  {
   "cell_type": "code",
   "execution_count": null,
   "metadata": {
    "id": "mY4k6MAjRtwN"
   },
   "outputs": [],
   "source": [
    "try:\n",
    "  import google.colab\n",
    "  IN_COLAB = True\n",
    "except:\n",
    "  IN_COLAB = False"
   ]
  },
  {
   "cell_type": "code",
   "execution_count": null,
   "metadata": {
    "id": "3oOHdfZ9Rvkv"
   },
   "outputs": [],
   "source": [
    "if IN_COLAB:\n",
    "    !apt-get install openjdk-8-jdk-headless -qq > /dev/null\n",
    "    !wget -q https://dlcdn.apache.org/spark/spark-3.2.1/spark-3.2.1-bin-hadoop3.2.tgz\n",
    "    !tar xf spark-3.2.1-bin-hadoop3.2.tgz\n",
    "    !mv spark-3.2.1-bin-hadoop3.2 spark\n",
    "    !pip install -q findspark"
   ]
  },
  {
   "cell_type": "code",
   "execution_count": null,
   "metadata": {
    "id": "RXrgVYikzav0"
   },
   "outputs": [],
   "source": [
    "if IN_COLAB:\n",
    "  import os\n",
    "  os.environ[\"JAVA_HOME\"] = \"/usr/lib/jvm/java-8-openjdk-amd64\"\n",
    "  os.environ[\"SPARK_HOME\"] = \"/content/spark\""
   ]
  },
  {
   "cell_type": "markdown",
   "metadata": {
    "id": "Zs_Soa06-0P7"
   },
   "source": [
    "# Pyspark_Basic_DataFrame"
   ]
  },
  {
   "cell_type": "code",
   "execution_count": null,
   "metadata": {
    "id": "xn9qWqn9z1TN"
   },
   "outputs": [],
   "source": [
    "import findspark\n",
    "findspark.init()"
   ]
  },
  {
   "cell_type": "code",
   "execution_count": null,
   "metadata": {
    "id": "Fz2lkP3l-0P8"
   },
   "outputs": [],
   "source": [
    "#1 - import module\n",
    "from pyspark import SparkContext\n",
    "from pyspark.sql import SparkSession\n",
    "from pyspark.sql.functions import *\n",
    "\n",
    "import numpy\n",
    "import pandas"
   ]
  },
  {
   "cell_type": "code",
   "execution_count": null,
   "metadata": {
    "colab": {
     "base_uri": "https://localhost:8080/",
     "height": 198
    },
    "id": "NSBFT9FO-0QB",
    "outputId": "1b9f1c87-6eeb-4fa1-dc57-6e5be9906c4c"
   },
   "outputs": [],
   "source": [
    "#2 - Create SparkContext\n",
    "sc = SparkContext.getOrCreate()\n",
    "\n",
    "sc"
   ]
  },
  {
   "cell_type": "code",
   "execution_count": null,
   "metadata": {
    "colab": {
     "base_uri": "https://localhost:8080/"
    },
    "id": "U_gj4uIt-0QG",
    "outputId": "ffc7f83d-8d7a-453b-f5b7-c1e9097407f2"
   },
   "outputs": [],
   "source": [
    "#3 - Setup SparkSession(SparkSQL)\n",
    "spark = (SparkSession\n",
    "         .builder\n",
    "         .appName(\"DataFrameHandOn\")\n",
    "         .getOrCreate())\n",
    "print(spark)"
   ]
  },
  {
   "cell_type": "code",
   "execution_count": null,
   "metadata": {
    "colab": {
     "base_uri": "https://localhost:8080/"
    },
    "id": "lt-hTnx8zd7d",
    "outputId": "1a89a087-5349-4f80-a7fe-efed79aa1594"
   },
   "outputs": [],
   "source": [
    "!wget https://github.com/kaopanboonyuen/GISTDA2022/raw/main/dataset/iris.csv"
   ]
  },
  {
   "cell_type": "code",
   "execution_count": null,
   "metadata": {
    "colab": {
     "base_uri": "https://localhost:8080/"
    },
    "id": "O_PT0rm4-0QM",
    "outputId": "e3234e00-570c-4964-a8cb-6d24c4c92df1"
   },
   "outputs": [],
   "source": [
    "#4 - Read file to spark DataFrame\n",
    "df = (spark\n",
    "        .read\n",
    "        .option(\"header\",\"false\")\n",
    "        .option(\"inferSchema\", \"true\")\n",
    "        .csv(\"iris.csv\"))\n",
    "# If the path don't have file:/// -> it will call hdfs instead of local file system\n",
    "df.cache()\n",
    "print(\"finish caching data\")\n",
    "\n",
    "# Attribute Information:\n",
    "# 1. sepal length in cm \n",
    "# 2. sepal width in cm \n",
    "# 3. petal length in cm \n",
    "# 4. petal width in cm \n",
    "# 5. class: \n",
    "# -- Iris Setosa \n",
    "# -- Iris Versicolour \n",
    "# -- Iris Virginica\n"
   ]
  },
  {
   "cell_type": "code",
   "execution_count": null,
   "metadata": {
    "colab": {
     "base_uri": "https://localhost:8080/"
    },
    "id": "jOsGUUxO-0QQ",
    "outputId": "4ce15758-9a67-4d16-d7fc-353ae8479cdd"
   },
   "outputs": [],
   "source": [
    "#5 - Print sample 5 rows of all variables and schema\n",
    "df.show(5)\n",
    "\n",
    "print(\"\\n\")\n",
    "\n",
    "df.printSchema()"
   ]
  },
  {
   "cell_type": "code",
   "execution_count": null,
   "metadata": {
    "colab": {
     "base_uri": "https://localhost:8080/",
     "height": 331
    },
    "id": "zRxGYG_o-0QT",
    "outputId": "b08a8d98-d8ff-46e7-b9d4-c19f39fce84d"
   },
   "outputs": [],
   "source": [
    "df.sample(False, 0.05, 1234).toPandas()"
   ]
  },
  {
   "cell_type": "code",
   "execution_count": null,
   "metadata": {
    "colab": {
     "base_uri": "https://localhost:8080/",
     "height": 424
    },
    "id": "krjQcGsfXDE9",
    "outputId": "65582b4a-bd49-40ee-b150-e93d922b0ff2"
   },
   "outputs": [],
   "source": [
    "df.sort('_c0').toPandas()\n"
   ]
  },
  {
   "cell_type": "code",
   "execution_count": null,
   "metadata": {
    "colab": {
     "base_uri": "https://localhost:8080/",
     "height": 424
    },
    "id": "Swa0eL6bXrXZ",
    "outputId": "64b978b1-c5ad-424a-eb1c-32705f178a6b"
   },
   "outputs": [],
   "source": [
    "df.sort(desc('_c0')).toPandas()"
   ]
  },
  {
   "cell_type": "code",
   "execution_count": null,
   "metadata": {
    "colab": {
     "base_uri": "https://localhost:8080/"
    },
    "id": "1pH2j6-Y-0QX",
    "outputId": "e018b360-b2bc-4b34-e20b-96878bc472da"
   },
   "outputs": [],
   "source": [
    "#6 - change column name\n",
    "renamed_df = df.selectExpr(\"_c0 as sepal_length\", \"_c1 as sepal_width\", \"_c2 as petal_length\",\"_c3 as petal_width\",\"_c4\")\n",
    "renamed_df = renamed_df.withColumnRenamed(\"_c4\",\"label\")\n",
    "#6 - Print sample 5 rows of all variables\n",
    "renamed_df.show(5)\n",
    "\n",
    "print(\"\\n\")\n",
    "\n",
    "renamed_df.printSchema()"
   ]
  },
  {
   "cell_type": "code",
   "execution_count": null,
   "metadata": {
    "colab": {
     "base_uri": "https://localhost:8080/",
     "height": 331
    },
    "id": "C9gVCq71-0Qb",
    "outputId": "249ed5ad-cb6f-470f-d53b-15859997070d"
   },
   "outputs": [],
   "source": [
    "(renamed_df\n",
    "    .sample(False, 0.05, 1234)\n",
    "    .toPandas())"
   ]
  },
  {
   "cell_type": "code",
   "execution_count": null,
   "metadata": {
    "colab": {
     "base_uri": "https://localhost:8080/",
     "height": 331
    },
    "id": "-0PSJcum-0Qf",
    "outputId": "c0d74676-aca7-439c-9f51-cc911d570633"
   },
   "outputs": [],
   "source": [
    "#7 - create unique id\n",
    "(renamed_df\n",
    "    .withColumn(\"id\",monotonically_increasing_id())\n",
    "    .sample(False, 0.05, 1234) \n",
    "    .toPandas())"
   ]
  },
  {
   "cell_type": "code",
   "execution_count": null,
   "metadata": {
    "colab": {
     "base_uri": "https://localhost:8080/"
    },
    "id": "vVlTsubW-0Qi",
    "outputId": "f8f841d3-8616-44ff-dbef-4badb7ee27c4"
   },
   "outputs": [],
   "source": [
    "#8 - sample data\n",
    "sample_df = renamed_df.sample(withReplacement=False, fraction=0.5, seed=50)\n",
    "print(\"sample_df count : \" + str(sample_df.count()))"
   ]
  },
  {
   "cell_type": "code",
   "execution_count": null,
   "metadata": {
    "colab": {
     "base_uri": "https://localhost:8080/"
    },
    "id": "gcm_Rleb-0Ql",
    "outputId": "6fbb2741-4b22-408d-ffa6-2cb34fb35f5f"
   },
   "outputs": [],
   "source": [
    "#9 - union and intersect\n",
    "sample1_df = renamed_df.sample(withReplacement=False, fraction=0.5, seed=25)\n",
    "sample2_df = renamed_df.sample(withReplacement=False, fraction=0.5, seed=50)\n",
    "union_df = sample1_df.union(sample2_df)\n",
    "intersected_df = sample1_df.intersect(sample2_df)\n",
    "\n",
    "print(\"sample1_df count : \" + str(sample1_df.count()))\n",
    "print(\"sample2_df count : \" + str(sample2_df.count()))\n",
    "print(\"union_df count : \" + str(union_df.count()))\n",
    "print(\"intersected_df count : \" + str(intersected_df.count()))"
   ]
  },
  {
   "cell_type": "code",
   "execution_count": null,
   "metadata": {
    "colab": {
     "base_uri": "https://localhost:8080/",
     "height": 143
    },
    "id": "o6DGuwt5-0Qp",
    "outputId": "bcd224a8-4461-47e4-b3f1-b9c706f3dd87"
   },
   "outputs": [],
   "source": [
    "#10 - groupBy with count\n",
    "renamed_df.groupBy(\"label\").count().toPandas()"
   ]
  },
  {
   "cell_type": "code",
   "execution_count": null,
   "metadata": {
    "colab": {
     "base_uri": "https://localhost:8080/",
     "height": 143
    },
    "id": "1j_vQ0mb-0Qt",
    "outputId": "57ca3e40-526c-4a58-dba6-01d9d675e950"
   },
   "outputs": [],
   "source": [
    "#11 - groupBy with average\n",
    "avg_df = renamed_df.groupBy(\"label\").avg(\"sepal_length\")\n",
    "avg_df.toPandas()\n"
   ]
  },
  {
   "cell_type": "code",
   "execution_count": null,
   "metadata": {
    "colab": {
     "base_uri": "https://localhost:8080/",
     "height": 143
    },
    "id": "CwRXov46-0Q1",
    "outputId": "d12921d9-0665-4a60-cd01-f77749b34539"
   },
   "outputs": [],
   "source": [
    "avg_df = renamed_df.groupBy(\"label\").avg(\"sepal_length\",\"sepal_width\",\"petal_length\",\"petal_width\")\n",
    "avg_df.toPandas()"
   ]
  },
  {
   "cell_type": "code",
   "execution_count": null,
   "metadata": {
    "colab": {
     "base_uri": "https://localhost:8080/",
     "height": 331
    },
    "id": "tXOGsJQp-0Q7",
    "outputId": "2df5fe03-a4e9-43c8-edc5-1ed765a294f4"
   },
   "outputs": [],
   "source": [
    "#12 - compute dataframe using sql command via string\n",
    "renamed_df.createOrReplaceTempView(\"iris\")\n",
    "all_df = spark.sql(\"select * from iris\")\n",
    "(all_df\n",
    "    .sample(False, 0.05, 1234)\n",
    "    .toPandas())"
   ]
  },
  {
   "cell_type": "code",
   "execution_count": null,
   "metadata": {
    "colab": {
     "base_uri": "https://localhost:8080/",
     "height": 143
    },
    "id": "MqX5-3Ns-0RA",
    "outputId": "41db7ebe-9b7a-4461-b8c9-abbabafffd3d"
   },
   "outputs": [],
   "source": [
    "avg_df2 = spark.sql(\"select label,avg(sepal_length),avg(sepal_width),avg(petal_length),avg(petal_width) from iris group by label\")\n",
    "avg_df2.toPandas()"
   ]
  },
  {
   "cell_type": "code",
   "execution_count": null,
   "metadata": {
    "colab": {
     "base_uri": "https://localhost:8080/"
    },
    "id": "1m60-8Qm-0RD",
    "outputId": "3b066378-e050-403c-af1d-ed178d395542"
   },
   "outputs": [],
   "source": [
    "#13 - collect dataframe\n",
    "avg_row_list = avg_df2.collect()\n",
    "for row in avg_row_list :\n",
    "    print(row)"
   ]
  },
  {
   "cell_type": "code",
   "execution_count": null,
   "metadata": {
    "colab": {
     "base_uri": "https://localhost:8080/"
    },
    "id": "6os_fNPu-0RI",
    "outputId": "00ea587e-f9b5-4b6d-881b-eb74ce2e4723"
   },
   "outputs": [],
   "source": [
    "#14 - row operations and properties\n",
    "temp_row = avg_row_list[0]\n",
    "print(row.label)\n",
    "print(row[\"label\"])\n",
    "print(\"label\" in row)\n",
    "print(\"wrong label\" in row)\n",
    "print(\"all keys : \" + str(list(row.asDict().keys())))"
   ]
  },
  {
   "cell_type": "code",
   "execution_count": null,
   "metadata": {
    "colab": {
     "base_uri": "https://localhost:8080/"
    },
    "id": "bHVeaaJ4-0RO",
    "outputId": "cd9f2979-b54a-4e3e-8472-36188362fa7d"
   },
   "outputs": [],
   "source": [
    "#15 - collect dataframe as rdd\n",
    "avg_row_rdd = avg_df2.rdd\n",
    "for row in avg_row_rdd.collect() :\n",
    "    print(row)"
   ]
  },
  {
   "cell_type": "code",
   "execution_count": null,
   "metadata": {
    "colab": {
     "base_uri": "https://localhost:8080/"
    },
    "id": "1DLTzKrm-0RT",
    "outputId": "c5ce1497-0e86-4854-e0b7-1f505a0222f4"
   },
   "outputs": [],
   "source": [
    "#16 - Extract row in rdd 1\n",
    "avg_rdd = avg_row_rdd.map(lambda row : (row[\"label\"],row[\"avg(sepal_length)\"],row[\"avg(sepal_width)\"],row[\"avg(petal_length)\"],row[\"avg(petal_width)\"]) )\n",
    "for row in avg_rdd.collect() :\n",
    "    print(row)"
   ]
  },
  {
   "cell_type": "code",
   "execution_count": null,
   "metadata": {
    "colab": {
     "base_uri": "https://localhost:8080/"
    },
    "id": "pbUVwxhN-0RX",
    "outputId": "bd2d667f-3cd5-4510-ef1d-868ba6ed8df2"
   },
   "outputs": [],
   "source": [
    "#17 - Extract row in rdd 2\n",
    "keys = [\"label\",\"avg(sepal_length)\",\"avg(sepal_width)\",\"avg(petal_length)\",\"avg(petal_width)\"]\n",
    "avg_rdd = avg_row_rdd.map(lambda row : [row[key] for key in keys] )\n",
    "for row in avg_rdd.collect() :\n",
    "    print(row)"
   ]
  },
  {
   "cell_type": "code",
   "execution_count": null,
   "metadata": {
    "colab": {
     "base_uri": "https://localhost:8080/"
    },
    "id": "waRp0--T-0Re",
    "outputId": "768bf155-e9ae-468e-b154-c64403de0b4a"
   },
   "outputs": [],
   "source": [
    "#18 - Extract row in rdd 3\n",
    "avg_rdd = avg_row_rdd.map(lambda row : [row[key] for key in row.asDict().keys()] )\n",
    "for row in avg_rdd.collect() :\n",
    "    print(row)"
   ]
  },
  {
   "cell_type": "code",
   "execution_count": null,
   "metadata": {
    "id": "RgbooMAt-0Rh"
   },
   "outputs": [],
   "source": []
  }
 ],
 "metadata": {
  "colab": {
   "collapsed_sections": [],
   "name": "4_Pyspark_Basic_DataFrame.ipynb",
   "provenance": []
  },
  "kernelspec": {
   "display_name": "Python 3",
   "language": "python",
   "name": "python3"
  },
  "language_info": {
   "codemirror_mode": {
    "name": "ipython",
    "version": 3
   },
   "file_extension": ".py",
   "mimetype": "text/x-python",
   "name": "python",
   "nbconvert_exporter": "python",
   "pygments_lexer": "ipython3",
   "version": "3.8.3"
  },
  "toc": {
   "base_numbering": 1,
   "nav_menu": {},
   "number_sections": true,
   "sideBar": true,
   "skip_h1_title": false,
   "title_cell": "Table of Contents",
   "title_sidebar": "Contents",
   "toc_cell": false,
   "toc_position": {},
   "toc_section_display": true,
   "toc_window_display": false
  }
 },
 "nbformat": 4,
 "nbformat_minor": 1
}
