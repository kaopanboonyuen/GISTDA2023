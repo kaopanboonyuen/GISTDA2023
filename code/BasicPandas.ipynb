{
  "cells": [
    {
      "attachments": {},
      "cell_type": "markdown",
      "metadata": {
        "id": "YQibouG4iHAQ"
      },
      "source": [
        "# Import Library"
      ]
    },
    {
      "cell_type": "code",
      "execution_count": null,
      "metadata": {
        "id": "uD1qAqYuiHAR"
      },
      "outputs": [],
      "source": [
        "import pandas as pd\n",
        "import numpy as np"
      ]
    },
    {
      "attachments": {},
      "cell_type": "markdown",
      "metadata": {
        "id": "xZ93LnsmiHAV"
      },
      "source": [
        "# Series"
      ]
    },
    {
      "attachments": {},
      "cell_type": "markdown",
      "metadata": {
        "id": "QVmY7u58iHAW"
      },
      "source": [
        "## Create Series"
      ]
    },
    {
      "attachments": {},
      "cell_type": "markdown",
      "metadata": {
        "id": "ArvcnmK5iHAW"
      },
      "source": [
        "There are many approaches to create a Series.  We first create a Series with 5 elements from a list:\n",
        "\n",
        "Index | Data (int)\n",
        ":---: | :---:\n",
        "0 | 14\n",
        "1 | -8\n",
        "2 | 0\n",
        "3 | 3\n",
        "4 | 9\n",
        "\n",
        "Note that **integer index starts from 0**"
      ]
    },
    {
      "cell_type": "code",
      "execution_count": null,
      "metadata": {
        "colab": {
          "base_uri": "https://localhost:8080/"
        },
        "id": "0okZD2xSiHAX",
        "outputId": "673e2ee8-2680-4b3e-ed86-8977f2b7b600"
      },
      "outputs": [],
      "source": [
        "# create Series from a list\n",
        "s1 = pd.Series([14, -8, 0, 3, 9])\n",
        "s1"
      ]
    },
    {
      "cell_type": "code",
      "execution_count": null,
      "metadata": {
        "colab": {
          "base_uri": "https://localhost:8080/"
        },
        "id": "SqHNCqsfiHAc",
        "outputId": "a8e2f481-c756-4e54-d676-b10583b425e0"
      },
      "outputs": [],
      "source": [
        "type(s1)"
      ]
    },
    {
      "cell_type": "code",
      "execution_count": null,
      "metadata": {
        "colab": {
          "base_uri": "https://localhost:8080/"
        },
        "id": "r1D7WphoiHAg",
        "outputId": "55dcb091-d796-4e3a-b081-1855feff51da"
      },
      "outputs": [],
      "source": [
        "s1.dtype"
      ]
    },
    {
      "cell_type": "code",
      "execution_count": null,
      "metadata": {
        "colab": {
          "base_uri": "https://localhost:8080/"
        },
        "id": "uDhLS9XHiHAj",
        "outputId": "15b53f3d-cc46-4bb1-dc1b-e1a254ddafcb"
      },
      "outputs": [],
      "source": [
        "s1.values"
      ]
    },
    {
      "cell_type": "code",
      "execution_count": null,
      "metadata": {
        "colab": {
          "base_uri": "https://localhost:8080/"
        },
        "id": "2PDS0JV0iHAn",
        "outputId": "32eade2d-3161-4d83-f3c1-92b8fdc9682a"
      },
      "outputs": [],
      "source": [
        "s1.index"
      ]
    },
    {
      "cell_type": "code",
      "execution_count": null,
      "metadata": {
        "colab": {
          "base_uri": "https://localhost:8080/"
        },
        "id": "SVefUyMmiHAt",
        "outputId": "be0f3d3a-9db0-4103-cdee-7ad1b096a2b1"
      },
      "outputs": [],
      "source": [
        "#Get value in index 0\n",
        "print(s1[0])\n",
        "print(s1[2])"
      ]
    },
    {
      "attachments": {},
      "cell_type": "markdown",
      "metadata": {
        "id": "8S0VFDAfiHA2"
      },
      "source": [
        "## Create Series with Index"
      ]
    },
    {
      "attachments": {},
      "cell_type": "markdown",
      "metadata": {
        "id": "dJG58kEAiHA3"
      },
      "source": [
        "We can create a Series with labels as index.  A label can be an arbitary string.  Although, we assign labels to the Series, integer index still exists.\n",
        "\n",
        "Index | Label | Data (int)\n",
        ":---: | :---: | :---:\n",
        "0 | d | 14\n",
        "1 | b | -8\n",
        "2 | a | 0\n",
        "3 | c | 3\n",
        "4 | x | 9\n",
        "\n",
        "Note that when we display a Series, it will show labels (if exist) or integer index (otherwise)."
      ]
    },
    {
      "cell_type": "code",
      "execution_count": null,
      "metadata": {
        "colab": {
          "base_uri": "https://localhost:8080/"
        },
        "id": "GxGz9biZiHA4",
        "outputId": "51c95d82-dc30-40dc-a844-41aaf9b4198a"
      },
      "outputs": [],
      "source": [
        "# create series with index, which can be numbers or strings\n",
        "s2 = pd.Series([14, -8, 0, 3, 9], index=['d','a','b','c', 'x'])\n",
        "s2"
      ]
    },
    {
      "cell_type": "code",
      "execution_count": null,
      "metadata": {
        "colab": {
          "base_uri": "https://localhost:8080/"
        },
        "id": "GMyhV6fJiHA8",
        "outputId": "568c64f2-1676-40fc-86dd-fd8f862b51ef"
      },
      "outputs": [],
      "source": [
        "s2.index"
      ]
    },
    {
      "cell_type": "code",
      "execution_count": null,
      "metadata": {
        "colab": {
          "base_uri": "https://localhost:8080/"
        },
        "id": "wGbtZYrgiHBA",
        "outputId": "e792f7ad-2c51-4b4c-fc51-e3d84f38243d"
      },
      "outputs": [],
      "source": [
        "#Get value in index 'a'\n",
        "print(s2['a'])\n",
        "print(s2[1])"
      ]
    },
    {
      "attachments": {},
      "cell_type": "markdown",
      "metadata": {
        "id": "wDD7C_qqiHBH"
      },
      "source": [
        "# Series Operation"
      ]
    },
    {
      "cell_type": "code",
      "execution_count": null,
      "metadata": {
        "colab": {
          "base_uri": "https://localhost:8080/"
        },
        "id": "SyilPt3XiHBH",
        "outputId": "59f4b1cf-1f35-4869-ea6c-168015242851"
      },
      "outputs": [],
      "source": [
        "s2.values"
      ]
    },
    {
      "cell_type": "code",
      "execution_count": null,
      "metadata": {
        "colab": {
          "base_uri": "https://localhost:8080/"
        },
        "id": "bTx8Z-h-iHBL",
        "outputId": "0f8f5929-ef36-4a79-dd09-541ea8d40759"
      },
      "outputs": [],
      "source": [
        "# Apply with Lambda\n",
        "s2.apply(lambda x : x**2)"
      ]
    },
    {
      "cell_type": "code",
      "execution_count": null,
      "metadata": {
        "colab": {
          "base_uri": "https://localhost:8080/"
        },
        "id": "RbcFKpMdiHBO",
        "outputId": "8be50be5-d872-4d3f-f8a7-9b7782334acd"
      },
      "outputs": [],
      "source": [
        "# Apply with method\n",
        "def power(x):\n",
        "    return x**2\n",
        "s2.apply(power)"
      ]
    },
    {
      "cell_type": "code",
      "execution_count": null,
      "metadata": {
        "colab": {
          "base_uri": "https://localhost:8080/"
        },
        "id": "PrLzixM4N4_H",
        "outputId": "88b3a2f5-3a3c-4309-c0b0-3d4b5f7c2c4f"
      },
      "outputs": [],
      "source": [
        "s2"
      ]
    },
    {
      "attachments": {},
      "cell_type": "markdown",
      "metadata": {
        "id": "8LB4-VBliHBU"
      },
      "source": [
        "# DataFrame"
      ]
    },
    {
      "attachments": {},
      "cell_type": "markdown",
      "metadata": {
        "id": "CEB0WMzdiHBV"
      },
      "source": [
        "## Create DataFrame from List"
      ]
    },
    {
      "attachments": {},
      "cell_type": "markdown",
      "metadata": {
        "id": "xovWG8PuiHBV"
      },
      "source": [
        "There are several approaches to create a DataFrame.  A simple one is to create from dict.\n",
        "We create the following DataFrame:\n",
        "\n",
        "Index | province | year | population\n",
        ":---: | :---: | :---: | :---:\n",
        "0 | Chiang Mai | 2016 | 1630428\n",
        "1 | Chiang Mai | 2017 | 1664012\n",
        "2 | Chiang Mai | 2018 | 1687971\n",
        "3 | Phrae | 2016 | 398936\n",
        "4 | Phrae | 2017 | 410382\n",
        "5 | Phrae | 2018 | 421653"
      ]
    },
    {
      "cell_type": "code",
      "execution_count": null,
      "metadata": {
        "colab": {
          "base_uri": "https://localhost:8080/",
          "height": 238
        },
        "id": "hTAe8EWKiHBW",
        "outputId": "d0946ce4-8b0a-4cdc-c436-b042fe3590ff"
      },
      "outputs": [],
      "source": [
        "# Create From a List\n",
        "data = [\n",
        "    ['Chiang Mai', 2016, 1630428],\n",
        "    ['Chiang Mai', 2017, 1664012],\n",
        "    ['Chiang Mai', 2018, 1687971],\n",
        "    ['Phrae', 2016, 398936],\n",
        "    ['Phrae', 2017, 410382],\n",
        "    ['Phrae', 2018, 421653]\n",
        "]\n",
        "df = pd.DataFrame(\n",
        "    data=data,\n",
        "    columns=['province','year','population']\n",
        ")\n",
        "df"
      ]
    },
    {
      "cell_type": "code",
      "execution_count": null,
      "metadata": {
        "colab": {
          "base_uri": "https://localhost:8080/",
          "height": 238
        },
        "id": "ONGYgffciHBY",
        "outputId": "7227bd5e-81c3-49b9-c73a-2ac5d288d092"
      },
      "outputs": [],
      "source": [
        "# Create From a Dict\n",
        "data = {\n",
        "    'province': ['Chiang Mai', 'Chiang Mai', 'Chiang Mai', 'Phrae', 'Phrae', 'Phrae'],\n",
        "    'year': [2016, 2017, 2018, 2016, 2017, 2018],\n",
        "    'population': [1630428, 1664012, 1687971, 398936, 410382, 421653]\n",
        "}\n",
        "df = pd.DataFrame(data)\n",
        "df"
      ]
    },
    {
      "cell_type": "code",
      "execution_count": null,
      "metadata": {
        "colab": {
          "base_uri": "https://localhost:8080/"
        },
        "id": "KAMgnRxziHBe",
        "outputId": "fc21e25f-bf14-4549-8662-dac98f81b3b1"
      },
      "outputs": [],
      "source": [
        "# Pandas to List\n",
        "df.values.tolist()"
      ]
    },
    {
      "attachments": {},
      "cell_type": "markdown",
      "metadata": {
        "id": "mgLvfWItiHBh"
      },
      "source": [
        "## Create DataFrame from File"
      ]
    },
    {
      "attachments": {},
      "cell_type": "markdown",
      "metadata": {
        "id": "8An1gYRiiT7J"
      },
      "source": [
        "### Download Data"
      ]
    },
    {
      "attachments": {},
      "cell_type": "markdown",
      "metadata": {
        "id": "-cBxxR8PiHBi"
      },
      "source": [
        "### Read File"
      ]
    },
    {
      "cell_type": "code",
      "execution_count": null,
      "metadata": {
        "colab": {
          "base_uri": "https://localhost:8080/",
          "height": 238
        },
        "id": "_4Mn5_1_iHBi",
        "outputId": "17c21c40-e043-421e-ff43-2477c5863224"
      },
      "outputs": [],
      "source": [
        "df = pd.read_csv('https://github.com/kaopanboonyuen/2110446_DataScience_2021s2/raw/main/datasets/sample.csv')\n",
        "df"
      ]
    },
    {
      "cell_type": "code",
      "execution_count": null,
      "metadata": {
        "colab": {
          "base_uri": "https://localhost:8080/",
          "height": 238
        },
        "id": "RMH6neN4iHBk",
        "outputId": "6015f5ec-eaa6-47aa-95fd-5b712e465820"
      },
      "outputs": [],
      "source": [
        "df = pd.read_excel('https://github.com/kaopanboonyuen/2110446_DataScience_2021s2/raw/main/datasets/sample.xlsx', sheet_name='sheet1')\n",
        "df"
      ]
    },
    {
      "cell_type": "code",
      "execution_count": null,
      "metadata": {
        "colab": {
          "base_uri": "https://localhost:8080/",
          "height": 488
        },
        "id": "S1lot6iDiHBn",
        "outputId": "79598b20-ff5a-46d6-d7d5-00690acb009d"
      },
      "outputs": [],
      "source": [
        "df2 = pd.read_sas('https://github.com/kaopanboonyuen/2110446_DataScience_2021s2/raw/main/datasets/pva97nk.sas7bdat')\n",
        "df2"
      ]
    },
    {
      "attachments": {},
      "cell_type": "markdown",
      "metadata": {
        "id": "D7rfb2HviHBq"
      },
      "source": [
        "### Write File"
      ]
    },
    {
      "cell_type": "code",
      "execution_count": null,
      "metadata": {
        "id": "3NI4bcRKiHBq"
      },
      "outputs": [],
      "source": [
        "df.to_csv('sample_test.csv', index=False)"
      ]
    },
    {
      "cell_type": "code",
      "execution_count": null,
      "metadata": {
        "id": "jZq9ckbeiHBt"
      },
      "outputs": [],
      "source": [
        "df.to_excel('sample_test.xlsx', sheet_name='sheet1', index=False)"
      ]
    },
    {
      "attachments": {},
      "cell_type": "markdown",
      "metadata": {
        "id": "lspQn9feiHBv"
      },
      "source": [
        "## Index"
      ]
    },
    {
      "cell_type": "code",
      "execution_count": null,
      "metadata": {
        "colab": {
          "base_uri": "https://localhost:8080/",
          "height": 269
        },
        "id": "JXkhA468iHBv",
        "outputId": "c2b3b8b0-ba14-4ee4-e2c2-ac87023b1277"
      },
      "outputs": [],
      "source": [
        "# Index\n",
        "df.set_index('province')"
      ]
    },
    {
      "cell_type": "code",
      "execution_count": null,
      "metadata": {
        "colab": {
          "base_uri": "https://localhost:8080/",
          "height": 269
        },
        "id": "iyv_jiVLiHB2",
        "outputId": "3ee4ab7f-4b26-4f57-9b81-01c9e997b81d"
      },
      "outputs": [],
      "source": [
        "# Index\n",
        "df2 = df.set_index(['province','year'])\n",
        "df2"
      ]
    },
    {
      "cell_type": "code",
      "execution_count": null,
      "metadata": {
        "colab": {
          "base_uri": "https://localhost:8080/",
          "height": 238
        },
        "id": "DRNlEBhdiHB7",
        "outputId": "4e313f4d-d9d9-47e7-d8c9-037a061b191b",
        "scrolled": true
      },
      "outputs": [],
      "source": [
        "df2.reset_index()"
      ]
    },
    {
      "attachments": {},
      "cell_type": "markdown",
      "metadata": {
        "id": "ZzoKCDfYiHB-"
      },
      "source": [
        "## Inspecting Data"
      ]
    },
    {
      "attachments": {},
      "cell_type": "markdown",
      "metadata": {
        "id": "rqaJ-bqciHB_"
      },
      "source": [
        "### Row"
      ]
    },
    {
      "attachments": {},
      "cell_type": "markdown",
      "metadata": {
        "id": "NZ_7JT0CiHB_"
      },
      "source": [
        "#### View"
      ]
    },
    {
      "cell_type": "code",
      "execution_count": null,
      "metadata": {
        "colab": {
          "base_uri": "https://localhost:8080/",
          "height": 143
        },
        "id": "rVDMNZ60iHB_",
        "outputId": "33842708-2bb8-455b-be64-260e91be0f4c"
      },
      "outputs": [],
      "source": [
        "df.head(3)"
      ]
    },
    {
      "cell_type": "code",
      "execution_count": null,
      "metadata": {
        "colab": {
          "base_uri": "https://localhost:8080/",
          "height": 143
        },
        "id": "luFo6_ePiHCC",
        "outputId": "b6b84b1d-6b71-4777-fad1-97d0f296f87a"
      },
      "outputs": [],
      "source": [
        "df.tail(3)"
      ]
    },
    {
      "attachments": {},
      "cell_type": "markdown",
      "metadata": {
        "id": "Vys2BQhkiHCH"
      },
      "source": [
        "#### Sample"
      ]
    },
    {
      "cell_type": "code",
      "execution_count": null,
      "metadata": {
        "colab": {
          "base_uri": "https://localhost:8080/",
          "height": 270
        },
        "id": "sEBkpnwFiHCI",
        "outputId": "56749d83-a03c-415b-814a-d11d302ea62a"
      },
      "outputs": [],
      "source": [
        "#Random\n",
        "display(df.sample(3))\n",
        "display(df.sample(3))"
      ]
    },
    {
      "cell_type": "code",
      "execution_count": null,
      "metadata": {
        "colab": {
          "base_uri": "https://localhost:8080/",
          "height": 270
        },
        "id": "DrSZIDKAiHCM",
        "outputId": "2a9a977d-c434-45a2-8e9d-217c7989bca8"
      },
      "outputs": [],
      "source": [
        "#Random with fix random_state\n",
        "display(df.sample(3, random_state = 123))\n",
        "display(df.sample(3, random_state = 123))"
      ]
    },
    {
      "attachments": {},
      "cell_type": "markdown",
      "metadata": {
        "id": "M7x3wdOZiHCQ"
      },
      "source": [
        "#### Get Some Rows"
      ]
    },
    {
      "cell_type": "code",
      "execution_count": null,
      "metadata": {
        "colab": {
          "base_uri": "https://localhost:8080/",
          "height": 269
        },
        "id": "MIBlF5uxiHCR",
        "outputId": "f0315ff8-024e-4537-c299-594521a5f966"
      },
      "outputs": [],
      "source": [
        "df2 = df.set_index(['province'])\n",
        "df2"
      ]
    },
    {
      "cell_type": "code",
      "execution_count": null,
      "metadata": {
        "colab": {
          "base_uri": "https://localhost:8080/"
        },
        "id": "rhwVl28KiHCV",
        "outputId": "77e3d492-3a8d-4589-ce89-685b2613fcf5"
      },
      "outputs": [],
      "source": [
        "# Index Position\n",
        "df2.iloc[0]"
      ]
    },
    {
      "cell_type": "code",
      "execution_count": null,
      "metadata": {
        "colab": {
          "base_uri": "https://localhost:8080/",
          "height": 175
        },
        "id": "Y1QB8EbGiHCX",
        "outputId": "993fcf3a-e1d4-4add-b94e-4839c310256f"
      },
      "outputs": [],
      "source": [
        "# Index Position\n",
        "df2.iloc[1:4]"
      ]
    },
    {
      "cell_type": "code",
      "execution_count": null,
      "metadata": {
        "colab": {
          "base_uri": "https://localhost:8080/",
          "height": 175
        },
        "id": "fvb3yNUBiHCa",
        "outputId": "e029413e-c43c-4e3b-e767-dfc8c4bb7ad5"
      },
      "outputs": [],
      "source": [
        "# Index name\n",
        "df2.loc['Chiang Mai']"
      ]
    },
    {
      "cell_type": "code",
      "execution_count": null,
      "metadata": {
        "colab": {
          "base_uri": "https://localhost:8080/",
          "height": 269
        },
        "id": "Bok1Z6y6iHCc",
        "outputId": "a34063af-064c-478d-955f-c2819eedfc50"
      },
      "outputs": [],
      "source": [
        "# Index name\n",
        "df2.loc[['Chiang Mai','Phrae']]"
      ]
    },
    {
      "attachments": {},
      "cell_type": "markdown",
      "metadata": {
        "id": "kOwYAw9MiHCg"
      },
      "source": [
        "### Column"
      ]
    },
    {
      "cell_type": "code",
      "execution_count": null,
      "metadata": {
        "colab": {
          "base_uri": "https://localhost:8080/"
        },
        "id": "y84QKNJ1iHCh",
        "outputId": "bcd283a6-01d1-486a-f0d8-92cd9bdbf1ac"
      },
      "outputs": [],
      "source": [
        "df.columns"
      ]
    },
    {
      "cell_type": "code",
      "execution_count": null,
      "metadata": {
        "colab": {
          "base_uri": "https://localhost:8080/",
          "height": 238
        },
        "id": "N9M6jlhaiHCl",
        "outputId": "45480040-16bc-4986-e7f7-c3362b0711e8"
      },
      "outputs": [],
      "source": [
        "columns_list = ['year','population']\n",
        "df[columns_list]"
      ]
    },
    {
      "cell_type": "code",
      "execution_count": null,
      "metadata": {
        "colab": {
          "base_uri": "https://localhost:8080/"
        },
        "id": "v60mM5wHY8FQ",
        "outputId": "096e9db3-0aa6-4f20-c1d9-a38e2560e315"
      },
      "outputs": [],
      "source": [
        "df.year"
      ]
    },
    {
      "attachments": {},
      "cell_type": "markdown",
      "metadata": {
        "id": "DXfXZpKWiHCp"
      },
      "source": [
        "#### Drop"
      ]
    },
    {
      "cell_type": "code",
      "execution_count": null,
      "metadata": {
        "colab": {
          "base_uri": "https://localhost:8080/",
          "height": 238
        },
        "id": "cwYBUM8LiHCp",
        "outputId": "49c2b7b4-50cf-4471-9609-0d40501320f1"
      },
      "outputs": [],
      "source": [
        "df.drop(columns=['province'])"
      ]
    },
    {
      "cell_type": "code",
      "execution_count": null,
      "metadata": {
        "colab": {
          "base_uri": "https://localhost:8080/",
          "height": 238
        },
        "id": "5X_iV-VlZSoY",
        "outputId": "40fabf78-ad83-4ba0-b5d8-967210195982"
      },
      "outputs": [],
      "source": [
        "df"
      ]
    },
    {
      "attachments": {},
      "cell_type": "markdown",
      "metadata": {
        "id": "l4LcXPTkiHCt"
      },
      "source": [
        "#### Rename"
      ]
    },
    {
      "cell_type": "code",
      "execution_count": null,
      "metadata": {
        "colab": {
          "base_uri": "https://localhost:8080/",
          "height": 238
        },
        "id": "VM9E6-CwiHCu",
        "outputId": "d22e1652-f14e-4111-934e-239726f16c2f"
      },
      "outputs": [],
      "source": [
        "mapper = {\n",
        "    'province':'Province',\n",
        "    'year':'Year',\n",
        "    'population':'Population'\n",
        "}\n",
        "df.rename(columns=mapper)"
      ]
    },
    {
      "attachments": {},
      "cell_type": "markdown",
      "metadata": {
        "id": "9-UC83wNiHCx"
      },
      "source": [
        "#### Create/Replace Column with Value/Array"
      ]
    },
    {
      "cell_type": "code",
      "execution_count": null,
      "metadata": {
        "colab": {
          "base_uri": "https://localhost:8080/",
          "height": 238
        },
        "id": "osIehOSgiHCx",
        "outputId": "aca318b9-c808-4a35-d2bb-55b23431da32"
      },
      "outputs": [],
      "source": [
        "df['source'] = 'A'\n",
        "df"
      ]
    },
    {
      "cell_type": "code",
      "execution_count": null,
      "metadata": {
        "colab": {
          "base_uri": "https://localhost:8080/",
          "height": 238
        },
        "id": "TRLyNOJmiHC3",
        "outputId": "bd5fa37b-1719-4977-95c5-dd296ad0e0b3"
      },
      "outputs": [],
      "source": [
        "df['source'] = ['A','B','A','C','A','B']\n",
        "df"
      ]
    },
    {
      "cell_type": "code",
      "execution_count": null,
      "metadata": {
        "colab": {
          "base_uri": "https://localhost:8080/",
          "height": 238
        },
        "id": "p2IRL-0JiHC_",
        "outputId": "70260887-c75e-4e56-f50e-ebd7458fc425"
      },
      "outputs": [],
      "source": [
        "df['population (K)'] = df['population'] / 1000\n",
        "df"
      ]
    },
    {
      "cell_type": "code",
      "execution_count": null,
      "metadata": {
        "colab": {
          "base_uri": "https://localhost:8080/",
          "height": 238
        },
        "id": "z0zEMWmoiHDC",
        "outputId": "1a6858ff-106a-4174-b183-1ad71f097fda"
      },
      "outputs": [],
      "source": [
        "df['population (K)'] = df['population'].apply(lambda x : x / 1000)\n",
        "df"
      ]
    },
    {
      "cell_type": "code",
      "execution_count": null,
      "metadata": {
        "colab": {
          "base_uri": "https://localhost:8080/",
          "height": 238
        },
        "id": "rcKuUX86bOIM",
        "outputId": "6d08be94-51a5-4e99-d1ee-8522d8ef8217"
      },
      "outputs": [],
      "source": [
        "# extra example\n",
        "import math\n",
        "df2 = df.copy()\n",
        "# df2 = df # this will be error since it refers to address (not copy values)\n",
        "df['LN population'] = df['population'].apply(math.log)\n",
        "df2"
      ]
    },
    {
      "attachments": {},
      "cell_type": "markdown",
      "metadata": {
        "id": "8-TVxVbqiHDF"
      },
      "source": [
        "### DataFrame Information"
      ]
    },
    {
      "cell_type": "code",
      "execution_count": null,
      "metadata": {
        "colab": {
          "base_uri": "https://localhost:8080/"
        },
        "id": "9CTuGZa6iHDG",
        "outputId": "514016f5-9dc6-43e0-95d0-ba9f66191ced"
      },
      "outputs": [],
      "source": [
        "type(df)"
      ]
    },
    {
      "cell_type": "code",
      "execution_count": null,
      "metadata": {
        "colab": {
          "base_uri": "https://localhost:8080/"
        },
        "id": "558gdlOhiHDM",
        "outputId": "42046218-a140-44c3-950e-2f9bf6ae8166"
      },
      "outputs": [],
      "source": [
        "df.shape"
      ]
    },
    {
      "cell_type": "code",
      "execution_count": null,
      "metadata": {
        "colab": {
          "base_uri": "https://localhost:8080/"
        },
        "id": "RVbKwHxziHDQ",
        "outputId": "48032f44-40fe-496d-d908-d88d6baf622b"
      },
      "outputs": [],
      "source": [
        "df.info()"
      ]
    },
    {
      "cell_type": "code",
      "execution_count": null,
      "metadata": {
        "colab": {
          "base_uri": "https://localhost:8080/"
        },
        "id": "I7NSQBUDiHDT",
        "outputId": "7699fe5c-0f71-48bc-c085-95965b92cebb"
      },
      "outputs": [],
      "source": [
        "df.dtypes"
      ]
    },
    {
      "attachments": {},
      "cell_type": "markdown",
      "metadata": {
        "id": "wG1IfRT7iHDY"
      },
      "source": [
        "## Filtering and Sorting"
      ]
    },
    {
      "attachments": {},
      "cell_type": "markdown",
      "metadata": {
        "id": "HC5Kaa6XiHDZ"
      },
      "source": [
        "### Filtering"
      ]
    },
    {
      "cell_type": "code",
      "execution_count": null,
      "metadata": {
        "colab": {
          "base_uri": "https://localhost:8080/",
          "height": 238
        },
        "id": "ECXMA2kNiHDZ",
        "outputId": "f2e672c3-4d1e-43fe-e715-5aa38c529542"
      },
      "outputs": [],
      "source": [
        "condition_list = [True,True,True,True,True,True]\n",
        "df[condition_list]"
      ]
    },
    {
      "cell_type": "code",
      "execution_count": null,
      "metadata": {
        "colab": {
          "base_uri": "https://localhost:8080/",
          "height": 143
        },
        "id": "AtRshhWziHDd",
        "outputId": "bae7dd00-b6de-43dc-8639-807131778e01"
      },
      "outputs": [],
      "source": [
        "condition_list = [True,False,True,False,True,False]\n",
        "df[condition_list]"
      ]
    },
    {
      "cell_type": "code",
      "execution_count": null,
      "metadata": {
        "colab": {
          "base_uri": "https://localhost:8080/",
          "height": 265
        },
        "id": "TdOz2AACiHDg",
        "outputId": "5a176934-5c47-4d1d-9cfb-9f54bdd175c4"
      },
      "outputs": [],
      "source": [
        "condition_list = df['province'] == 'Chiang Mai'\n",
        "print(condition_list)\n",
        "display(df[condition_list])"
      ]
    },
    {
      "cell_type": "code",
      "execution_count": null,
      "metadata": {
        "colab": {
          "base_uri": "https://localhost:8080/",
          "height": 265
        },
        "id": "CrjjtfhQiHDl",
        "outputId": "8158b036-1abd-42c2-f660-be19a36b0bbc"
      },
      "outputs": [],
      "source": [
        "condition_list = df['population'] > 1000000\n",
        "print(condition_list)\n",
        "display(df[condition_list])"
      ]
    },
    {
      "cell_type": "code",
      "execution_count": null,
      "metadata": {
        "colab": {
          "base_uri": "https://localhost:8080/",
          "height": 265
        },
        "id": "HyCz7DhAiHDq",
        "outputId": "8b64ce22-1c4e-470a-d4ab-04baf174846d"
      },
      "outputs": [],
      "source": [
        "# Multiple condition (and)\n",
        "condition_list = (df['province'] == 'Chiang Mai') & (df['population'] > 1000000)\n",
        "print(condition_list)\n",
        "display(df[condition_list])"
      ]
    },
    {
      "cell_type": "code",
      "execution_count": null,
      "metadata": {
        "colab": {
          "base_uri": "https://localhost:8080/",
          "height": 265
        },
        "id": "Qa0-v43FiHDv",
        "outputId": "aff7a2c5-6f9a-4c28-85cf-263e6cfdbed8"
      },
      "outputs": [],
      "source": [
        "# Multiple condition (or)\n",
        "condition_list = (df['province'] == 'Chiang Mai') | (df['population'] > 1000000)\n",
        "print(condition_list)\n",
        "display(df[condition_list])"
      ]
    },
    {
      "attachments": {},
      "cell_type": "markdown",
      "metadata": {
        "id": "vTSvaA3tiHDx"
      },
      "source": [
        "### Sorting"
      ]
    },
    {
      "cell_type": "code",
      "execution_count": null,
      "metadata": {
        "colab": {
          "base_uri": "https://localhost:8080/",
          "height": 238
        },
        "id": "GHiiO_ohiHDx",
        "outputId": "63c664aa-5e11-4c3d-c907-255efe9349dc"
      },
      "outputs": [],
      "source": [
        "df.sort_values(by='population')"
      ]
    },
    {
      "cell_type": "code",
      "execution_count": null,
      "metadata": {
        "colab": {
          "base_uri": "https://localhost:8080/",
          "height": 238
        },
        "id": "dgmElMTliHD0",
        "outputId": "61800eae-e933-4ecd-e0ab-16c721ae3c1f"
      },
      "outputs": [],
      "source": [
        "df.sort_values(by='population', ascending=False)"
      ]
    },
    {
      "cell_type": "code",
      "execution_count": null,
      "metadata": {
        "colab": {
          "base_uri": "https://localhost:8080/",
          "height": 238
        },
        "id": "f5XWNGRdiHD3",
        "outputId": "75608c84-bddb-4b04-a4b4-e247fbce92f5"
      },
      "outputs": [],
      "source": [
        "df.sort_values(by=['year','population'], ascending=[True,False])"
      ]
    },
    {
      "cell_type": "code",
      "execution_count": null,
      "metadata": {
        "id": "MQKUolkmfp-b"
      },
      "outputs": [],
      "source": [
        "df3=df.sort_values(by=['year','population'], ascending=[True,False])"
      ]
    },
    {
      "cell_type": "code",
      "execution_count": null,
      "metadata": {
        "colab": {
          "base_uri": "https://localhost:8080/",
          "height": 238
        },
        "id": "LyPcfzWNecLb",
        "outputId": "cbf4e627-2af5-4ec3-8ba8-801501b79e9b"
      },
      "outputs": [],
      "source": [
        " df3"
      ]
    },
    {
      "attachments": {},
      "cell_type": "markdown",
      "metadata": {
        "id": "zSzelOopiHD8"
      },
      "source": [
        "## Basic Statistic"
      ]
    },
    {
      "attachments": {},
      "cell_type": "markdown",
      "metadata": {
        "id": "knBNF0-3iHD9"
      },
      "source": [
        "**Descriptive and summary statistics methods**\n",
        "- **count** <br> Number of non-NA values\n",
        "- **describe** <br> Compute set of summary statistics for Series or each DataFrame column\n",
        "- **min, max** <br> Compute minimum and maximum values\n",
        "- **argmin, argmax** <br> Compute index locations (integers) at which minimum or maximum value obtained, respectively\n",
        "- **idxmin, idxmax** <br> Compute index labels at which minimum or maximum value obtained, respectively\n",
        "- **quantile** <br> Compute sample quantile ranging from 0 to 1\n",
        "- **sum** <br> Sum of values\n",
        "- **mean** <br> Mean of values\n",
        "- **median** <br> Arithmetic median (50% quantile) of values\n",
        "- **mad** <br> Mean absolute deviation from mean value\n",
        "- **prod** <br> Product of all values\n",
        "- **var** <br> Sample variance of values\n",
        "- **std** <br> Sample standard deviation of values\n",
        "- **skew** <br> Sample skewness (third moment) of values\n",
        "- **kurt** <br> Sample kurtosis (fourth moment) of values\n",
        "- **cumsum** <br> Cumulative sum of values\n",
        "- **cummin, cummax** <br> Cumulative minimum or maximum of values, respectively\n",
        "- **cumprod** <br> Cumulative product of values\n",
        "- **diff** <br> Compute first arithmetic difference (useful for time series)\n",
        "- **pct_change** <br> Compute percent changes"
      ]
    },
    {
      "attachments": {},
      "cell_type": "markdown",
      "metadata": {
        "id": "zwhCDqaCiHD9"
      },
      "source": [
        "### Numeric"
      ]
    },
    {
      "cell_type": "code",
      "execution_count": null,
      "metadata": {
        "colab": {
          "base_uri": "https://localhost:8080/"
        },
        "id": "kPv9DR_kiHD-",
        "outputId": "7ff03463-b931-4975-8d6f-ec7c5a34b951"
      },
      "outputs": [],
      "source": [
        "# Find Mean in all numeric columns\n",
        "df.mean()"
      ]
    },
    {
      "cell_type": "code",
      "execution_count": null,
      "metadata": {
        "colab": {
          "base_uri": "https://localhost:8080/"
        },
        "id": "LTqz-ZVBiHEB",
        "outputId": "8ae6a677-2d54-428f-9009-c30b5b713ac3"
      },
      "outputs": [],
      "source": [
        "# Find Mean in some column\n",
        "df['population'].mean()"
      ]
    },
    {
      "cell_type": "code",
      "execution_count": null,
      "metadata": {
        "colab": {
          "base_uri": "https://localhost:8080/"
        },
        "id": "L5XKvTQdiHED",
        "outputId": "7b6b0afc-6a62-40d1-d1bc-aed076fdcfc5"
      },
      "outputs": [],
      "source": [
        "# Find Mean in some column\n",
        "column_list = ['population','population (K)']\n",
        "df[column_list].mean()"
      ]
    },
    {
      "cell_type": "code",
      "execution_count": null,
      "metadata": {
        "colab": {
          "base_uri": "https://localhost:8080/"
        },
        "id": "w9CMcQ9XiHEF",
        "outputId": "16c0217b-77f2-4907-b66e-042f3f830986",
        "scrolled": true
      },
      "outputs": [],
      "source": [
        "df[column_list].count()"
      ]
    },
    {
      "cell_type": "code",
      "execution_count": null,
      "metadata": {
        "colab": {
          "base_uri": "https://localhost:8080/"
        },
        "id": "OiXX1fzjiHEH",
        "outputId": "9c1b5230-2da3-4e84-c60b-66b341abb379"
      },
      "outputs": [],
      "source": [
        "df[column_list].min()"
      ]
    },
    {
      "cell_type": "code",
      "execution_count": null,
      "metadata": {
        "colab": {
          "base_uri": "https://localhost:8080/"
        },
        "id": "R7Tn_yk5iHEJ",
        "outputId": "c2966353-67ab-4673-a7de-2196eb2c5642"
      },
      "outputs": [],
      "source": [
        "df[column_list].max()"
      ]
    },
    {
      "cell_type": "code",
      "execution_count": null,
      "metadata": {
        "colab": {
          "base_uri": "https://localhost:8080/"
        },
        "id": "ArZlrWREiHEL",
        "outputId": "7b9738e1-b1b8-4fec-8963-61c6b809e563"
      },
      "outputs": [],
      "source": [
        "df[column_list].median()"
      ]
    },
    {
      "cell_type": "code",
      "execution_count": null,
      "metadata": {
        "colab": {
          "base_uri": "https://localhost:8080/"
        },
        "id": "kKpyRpEqiHEN",
        "outputId": "607501b6-2b86-410a-cbe6-eeca77f84b71"
      },
      "outputs": [],
      "source": [
        "df[column_list].std()"
      ]
    },
    {
      "cell_type": "code",
      "execution_count": null,
      "metadata": {
        "colab": {
          "base_uri": "https://localhost:8080/",
          "height": 112
        },
        "id": "77ve9W-ViHEP",
        "outputId": "75c2b770-051d-49b5-80c8-f4fcedea5edb",
        "scrolled": true
      },
      "outputs": [],
      "source": [
        "df[column_list].corr()"
      ]
    },
    {
      "cell_type": "code",
      "execution_count": null,
      "metadata": {
        "colab": {
          "base_uri": "https://localhost:8080/"
        },
        "id": "yqc6a_dPiHER",
        "outputId": "6040d198-e455-414f-a272-2fd537c2e7f1"
      },
      "outputs": [],
      "source": [
        "df.quantile(0.75)"
      ]
    },
    {
      "attachments": {},
      "cell_type": "markdown",
      "metadata": {
        "id": "F40RKnBDiHET"
      },
      "source": [
        "### Object"
      ]
    },
    {
      "cell_type": "code",
      "execution_count": null,
      "metadata": {
        "colab": {
          "base_uri": "https://localhost:8080/"
        },
        "id": "_tUoYUU0iHET",
        "outputId": "a06b542e-a9f7-4d37-b4f4-8c5e1cead66f"
      },
      "outputs": [],
      "source": [
        "df['province'].unique()"
      ]
    },
    {
      "cell_type": "code",
      "execution_count": null,
      "metadata": {
        "colab": {
          "base_uri": "https://localhost:8080/"
        },
        "id": "oWtCbSnWiHEZ",
        "outputId": "f85cfe7e-8990-48f6-91bc-38292bbd6964"
      },
      "outputs": [],
      "source": [
        "df['province'].nunique()"
      ]
    },
    {
      "cell_type": "code",
      "execution_count": null,
      "metadata": {
        "colab": {
          "base_uri": "https://localhost:8080/"
        },
        "id": "wqJBODsuiHEb",
        "outputId": "96331790-be44-4947-d823-37b629030e62"
      },
      "outputs": [],
      "source": [
        "df['province'].value_counts()"
      ]
    },
    {
      "attachments": {},
      "cell_type": "markdown",
      "metadata": {
        "id": "Ya1bCt1EiHEd"
      },
      "source": [
        "### Describe"
      ]
    },
    {
      "cell_type": "code",
      "execution_count": null,
      "metadata": {
        "colab": {
          "base_uri": "https://localhost:8080/",
          "height": 300
        },
        "id": "rS0QXtmPiHEd",
        "outputId": "38de6bcb-9de7-470c-967a-ed04c2eef23e"
      },
      "outputs": [],
      "source": [
        "#Numeric\n",
        "df[columns_list].describe()"
      ]
    },
    {
      "cell_type": "code",
      "execution_count": null,
      "metadata": {
        "colab": {
          "base_uri": "https://localhost:8080/",
          "height": 247
        },
        "id": "-J4NYD10iHEf",
        "outputId": "9c67ea1e-fb69-4e6e-e5fe-8cf7258b3c9a"
      },
      "outputs": [],
      "source": [
        "#Category\n",
        "df.describe(include=np.object)"
      ]
    },
    {
      "cell_type": "code",
      "execution_count": null,
      "metadata": {
        "colab": {
          "base_uri": "https://localhost:8080/",
          "height": 394
        },
        "id": "ig5o2ZuyiHEh",
        "outputId": "8ccdc6c8-2ae6-4af1-d4b0-d9bc3fc8fab8"
      },
      "outputs": [],
      "source": [
        "df.describe(include='all')"
      ]
    },
    {
      "attachments": {},
      "cell_type": "markdown",
      "metadata": {
        "id": "XBidf1LaiHEj"
      },
      "source": [
        "## Grouping"
      ]
    },
    {
      "attachments": {},
      "cell_type": "markdown",
      "metadata": {
        "id": "l8Vc_DmZiHEk"
      },
      "source": [
        "### Group by"
      ]
    },
    {
      "attachments": {},
      "cell_type": "markdown",
      "metadata": {
        "id": "gfhBzYOFiHEl"
      },
      "source": [
        "**Optimized groupby methods**\n",
        "- **count** <BR> Number of non-NA values in the group\n",
        "- **sum** <BR> Sum of non-NA values\n",
        "- **mean** <BR> Mean of non-NA values\n",
        "- **median** <BR> Arithmetic median of non-NA values\n",
        "- **std, var** <BR> Unbiased (n – 1 denominator) standard deviation and variance\n",
        "- **min, max** <BR> Minimum and maximum of non-NA values\n",
        "- **prod** <BR> Product of non-NA values\n",
        "- **first, last** <BR> First and last non-NA values"
      ]
    },
    {
      "cell_type": "code",
      "execution_count": null,
      "metadata": {
        "colab": {
          "base_uri": "https://localhost:8080/"
        },
        "id": "L1SsV3dCiHEl",
        "outputId": "fb91dbd8-62b6-486e-974e-c323631af1f5"
      },
      "outputs": [],
      "source": [
        "# select avg(population) from df group by province\n",
        "df.groupby('province')['population'].mean()"
      ]
    },
    {
      "cell_type": "code",
      "execution_count": null,
      "metadata": {
        "colab": {
          "base_uri": "https://localhost:8080/",
          "height": 112
        },
        "id": "gA9T8q2YiHEo",
        "outputId": "45aaeec1-3768-4e3a-d180-bff8c54fe317"
      },
      "outputs": [],
      "source": [
        "# Convert to DataFrame\n",
        "df.groupby('province')['population'].mean().reset_index(name='avg_pop')"
      ]
    },
    {
      "attachments": {},
      "cell_type": "markdown",
      "metadata": {
        "id": "W2OVp62iiHEp"
      },
      "source": [
        "#### Multiple group by"
      ]
    },
    {
      "cell_type": "code",
      "execution_count": null,
      "metadata": {
        "colab": {
          "base_uri": "https://localhost:8080/",
          "height": 143
        },
        "id": "VS5hNA2NiHEq",
        "outputId": "d533d0fa-4bff-4242-ae5f-abb432df674e",
        "scrolled": true
      },
      "outputs": [],
      "source": [
        "mapper = {\n",
        "    'population' : 'mean'\n",
        "}\n",
        "\n",
        "df.groupby('province').agg(mapper)"
      ]
    },
    {
      "cell_type": "code",
      "execution_count": null,
      "metadata": {
        "colab": {
          "base_uri": "https://localhost:8080/",
          "height": 175
        },
        "id": "W70JIaSOiHEs",
        "outputId": "e00a814b-cbaa-4e45-cbdc-2db5effc02e8"
      },
      "outputs": [],
      "source": [
        "mapper = {\n",
        "    'population' : ['min','max','mean']\n",
        "}\n",
        "\n",
        "df.groupby('province').agg(mapper)"
      ]
    },
    {
      "cell_type": "code",
      "execution_count": null,
      "metadata": {
        "colab": {
          "base_uri": "https://localhost:8080/",
          "height": 175
        },
        "id": "1rsyVY7xiHEu",
        "outputId": "0b80ba66-4b1e-4ae8-aae1-3f7877b1a223"
      },
      "outputs": [],
      "source": [
        "mapper = {\n",
        "    'population' : ['min','max','mean'],\n",
        "    'source' : 'nunique'\n",
        "}\n",
        "\n",
        "df.groupby('province').agg(mapper)"
      ]
    },
    {
      "attachments": {},
      "cell_type": "markdown",
      "metadata": {
        "id": "sEyLe4L6iHEz"
      },
      "source": [
        "### Group by window"
      ]
    },
    {
      "cell_type": "code",
      "execution_count": null,
      "metadata": {
        "colab": {
          "base_uri": "https://localhost:8080/"
        },
        "id": "s752yhQ8iHEz",
        "outputId": "507b2e8a-e08b-4c55-e685-b3a940986c36"
      },
      "outputs": [],
      "source": [
        "df['population'].rolling(2).sum()"
      ]
    },
    {
      "cell_type": "code",
      "execution_count": null,
      "metadata": {
        "colab": {
          "base_uri": "https://localhost:8080/"
        },
        "id": "UOP-8TnkiHE1",
        "outputId": "9198520c-dfcf-4158-942d-463680449293"
      },
      "outputs": [],
      "source": [
        "df['population'].rolling(2, min_periods=1).sum()"
      ]
    },
    {
      "cell_type": "code",
      "execution_count": null,
      "metadata": {
        "colab": {
          "base_uri": "https://localhost:8080/",
          "height": 238
        },
        "id": "JJpUKgBoiHE2",
        "outputId": "0f2a4e3a-a35b-42e9-9f80-6cc90d302a70"
      },
      "outputs": [],
      "source": [
        "df.groupby('province')['population'].rolling(2, min_periods=1).sum().reset_index(name='avg_pop_last2year')"
      ]
    },
    {
      "attachments": {},
      "cell_type": "markdown",
      "metadata": {
        "id": "sBYVDkldiHE4"
      },
      "source": [
        "## Pivot"
      ]
    },
    {
      "attachments": {},
      "cell_type": "markdown",
      "metadata": {
        "id": "HxF17UPiiHE4"
      },
      "source": [
        "### Pivot"
      ]
    },
    {
      "cell_type": "code",
      "execution_count": null,
      "metadata": {
        "colab": {
          "base_uri": "https://localhost:8080/",
          "height": 238
        },
        "id": "zdIoYouhiHE5",
        "outputId": "15f34ab3-1311-4c14-9734-00f5836aab9f"
      },
      "outputs": [],
      "source": [
        "df"
      ]
    },
    {
      "cell_type": "code",
      "execution_count": null,
      "metadata": {
        "colab": {
          "base_uri": "https://localhost:8080/",
          "height": 175
        },
        "id": "zbupH-uviHE7",
        "outputId": "53969d60-e9a2-4550-a499-23ac7dd589ca",
        "scrolled": true
      },
      "outputs": [],
      "source": [
        "pivot = df.pivot_table(index=['province'], columns=['year'], values=['population'])\n",
        "pivot"
      ]
    },
    {
      "cell_type": "code",
      "execution_count": null,
      "metadata": {
        "colab": {
          "base_uri": "https://localhost:8080/",
          "height": 112
        },
        "id": "Kcp4YZi2iHE9",
        "outputId": "0ae727d6-997e-4092-8297-f79609f53ebf"
      },
      "outputs": [],
      "source": [
        "pivot.columns = ['{1}'.format(col[0],col[1]) for col in pivot.columns.values]\n",
        "pivot = pivot.reset_index()\n",
        "pivot"
      ]
    },
    {
      "attachments": {},
      "cell_type": "markdown",
      "metadata": {
        "id": "W2w8zP9jiHE_"
      },
      "source": [
        "### Melt"
      ]
    },
    {
      "cell_type": "code",
      "execution_count": null,
      "metadata": {
        "colab": {
          "base_uri": "https://localhost:8080/",
          "height": 238
        },
        "id": "Rw0BDDfeiHE_",
        "outputId": "43a3025a-4bcc-42ce-8148-220e5ddea0cb"
      },
      "outputs": [],
      "source": [
        "melt = pd.melt(pivot, id_vars=['province'], value_vars=['2016','2017','2018'])\n",
        "melt"
      ]
    },
    {
      "cell_type": "code",
      "execution_count": null,
      "metadata": {
        "colab": {
          "base_uri": "https://localhost:8080/",
          "height": 238
        },
        "id": "BZAVr1fiiHFB",
        "outputId": "70508a15-72cd-4da6-e2af-54688dcdb820"
      },
      "outputs": [],
      "source": [
        "mapper = {\n",
        "    'variable':'year',\n",
        "    'value':'population'\n",
        "}\n",
        "melt = melt.rename(columns=mapper)\n",
        "melt"
      ]
    },
    {
      "attachments": {},
      "cell_type": "markdown",
      "metadata": {
        "id": "OI_j4rbYiHFC"
      },
      "source": [
        "## Data Cleansing"
      ]
    },
    {
      "cell_type": "code",
      "execution_count": null,
      "metadata": {
        "colab": {
          "base_uri": "https://localhost:8080/",
          "height": 238
        },
        "id": "UQnFf-2piHFD",
        "outputId": "163f4644-4ce7-4436-f004-2bf49b0e5f0c"
      },
      "outputs": [],
      "source": [
        "# Create From a List\n",
        "data = [\n",
        "    ['Chiang Mai', 2016, 1630428],\n",
        "    ['Chiang Mai', 2017, 1664012],\n",
        "    ['Chiang Mai', 2018, 1687971],\n",
        "    ['Phrae', 2016, None],\n",
        "    ['Phrae', 2017, 410382],\n",
        "    [None, 2018, 421653]\n",
        "]\n",
        "df = pd.DataFrame(\n",
        "    data=data,\n",
        "    columns=['province','year','population']\n",
        ")\n",
        "df"
      ]
    },
    {
      "attachments": {},
      "cell_type": "markdown",
      "metadata": {
        "id": "mmns1TzwiHFF"
      },
      "source": [
        "### Find Null"
      ]
    },
    {
      "cell_type": "code",
      "execution_count": null,
      "metadata": {
        "colab": {
          "base_uri": "https://localhost:8080/",
          "height": 238
        },
        "id": "hFeVuS4miHFF",
        "outputId": "e0bd1d4d-8b49-43ce-fa5b-32ab116e7db4"
      },
      "outputs": [],
      "source": [
        "df.isnull()"
      ]
    },
    {
      "cell_type": "code",
      "execution_count": null,
      "metadata": {
        "colab": {
          "base_uri": "https://localhost:8080/",
          "height": 238
        },
        "id": "v3NIZjAniHFG",
        "outputId": "46d8e253-a967-4088-d9a1-ceabe8f4d7b3"
      },
      "outputs": [],
      "source": [
        "df.isna()"
      ]
    },
    {
      "cell_type": "code",
      "execution_count": null,
      "metadata": {
        "colab": {
          "base_uri": "https://localhost:8080/"
        },
        "id": "16iNsoMjiHFI",
        "outputId": "59ca5213-8e34-4640-b182-48381adda877"
      },
      "outputs": [],
      "source": [
        "df.isnull().sum()"
      ]
    },
    {
      "attachments": {},
      "cell_type": "markdown",
      "metadata": {
        "id": "9XwHQdN9iHFJ"
      },
      "source": [
        "### Drop NA"
      ]
    },
    {
      "cell_type": "code",
      "execution_count": null,
      "metadata": {
        "colab": {
          "base_uri": "https://localhost:8080/",
          "height": 175
        },
        "id": "VJpxI2zbiHFK",
        "outputId": "fed4c885-01d0-4561-9f06-6705d803fa79"
      },
      "outputs": [],
      "source": [
        "df.dropna()"
      ]
    },
    {
      "cell_type": "code",
      "execution_count": null,
      "metadata": {
        "colab": {
          "base_uri": "https://localhost:8080/",
          "height": 206
        },
        "id": "P6spiG7ciHFL",
        "outputId": "60723a7c-7b7e-4fbc-fc59-b0df54873687"
      },
      "outputs": [],
      "source": [
        "df.dropna(subset = ['province'])"
      ]
    },
    {
      "cell_type": "code",
      "execution_count": null,
      "metadata": {
        "colab": {
          "base_uri": "https://localhost:8080/",
          "height": 238
        },
        "id": "N3KhLSnpiHFT",
        "outputId": "b2adacfc-cbdf-4802-c810-68be499208c6"
      },
      "outputs": [],
      "source": [
        "df # to show that all commands don't replace (remind)"
      ]
    },
    {
      "attachments": {},
      "cell_type": "markdown",
      "metadata": {
        "id": "MKrp84J7iHFV"
      },
      "source": [
        "### Fill NA"
      ]
    },
    {
      "cell_type": "code",
      "execution_count": null,
      "metadata": {
        "colab": {
          "base_uri": "https://localhost:8080/",
          "height": 238
        },
        "id": "eUzFE-jFiHFV",
        "outputId": "fb3442e7-e9a4-4f49-d3ae-ed0b3e6cfa13"
      },
      "outputs": [],
      "source": [
        "df.fillna('Missing')"
      ]
    },
    {
      "cell_type": "code",
      "execution_count": null,
      "metadata": {
        "colab": {
          "base_uri": "https://localhost:8080/",
          "height": 255
        },
        "id": "ualQGoiRiHFX",
        "outputId": "8862d834-6b15-4512-90c8-02b2c3c89c03"
      },
      "outputs": [],
      "source": [
        "mapper = {\n",
        "    'province' : 'Unknown',\n",
        "    'population' : df['population'].mean()\n",
        "}\n",
        "print(mapper)\n",
        "display(df.fillna(mapper))"
      ]
    },
    {
      "attachments": {},
      "cell_type": "markdown",
      "metadata": {
        "id": "oQr5IoCQiHFY"
      },
      "source": [
        "## Append and Join"
      ]
    },
    {
      "attachments": {},
      "cell_type": "markdown",
      "metadata": {
        "id": "irb7mjhEiHFY"
      },
      "source": [
        "### Append"
      ]
    },
    {
      "cell_type": "code",
      "execution_count": null,
      "metadata": {
        "colab": {
          "base_uri": "https://localhost:8080/",
          "height": 143
        },
        "id": "sp-EuVeMiHFZ",
        "outputId": "94332298-bcd8-49db-8d2a-52c475a96ae1"
      },
      "outputs": [],
      "source": [
        "# Create From a List\n",
        "data = [\n",
        "    ['Chiang Mai', 2016, 1630428],\n",
        "    ['Chiang Mai', 2017, 1664012],\n",
        "    ['Chiang Mai', 2018, 1687971],\n",
        "]\n",
        "df1 = pd.DataFrame(\n",
        "    data=data,\n",
        "    columns=['province','year','population']\n",
        ")\n",
        "df1"
      ]
    },
    {
      "cell_type": "code",
      "execution_count": null,
      "metadata": {
        "colab": {
          "base_uri": "https://localhost:8080/",
          "height": 143
        },
        "id": "vltUGddxiHFb",
        "outputId": "2985890e-23c1-43c1-aede-689ee35061de"
      },
      "outputs": [],
      "source": [
        "# Create From a List\n",
        "data = [\n",
        "    ['Phrae', 2016, 398936],\n",
        "    ['Phrae', 2017, 410382],\n",
        "    ['Phrae', 2018, 421653]\n",
        "]\n",
        "df2 = pd.DataFrame(\n",
        "    data=data,\n",
        "    columns=['province','year','population']\n",
        ")\n",
        "df2"
      ]
    },
    {
      "cell_type": "code",
      "execution_count": null,
      "metadata": {
        "colab": {
          "base_uri": "https://localhost:8080/",
          "height": 292
        },
        "id": "l9pDFF-5iHFd",
        "outputId": "36ffe338-f153-4654-925c-ff252e800b86"
      },
      "outputs": [],
      "source": [
        "df = df1.append(df2)\n",
        "df"
      ]
    },
    {
      "cell_type": "code",
      "execution_count": null,
      "metadata": {
        "colab": {
          "base_uri": "https://localhost:8080/",
          "height": 238
        },
        "id": "ZFADFs0siHFe",
        "outputId": "4b883065-3c71-472c-d169-402c26191707"
      },
      "outputs": [],
      "source": [
        "df = pd.concat([df1, df2])\n",
        "df"
      ]
    },
    {
      "cell_type": "code",
      "execution_count": null,
      "metadata": {
        "colab": {
          "base_uri": "https://localhost:8080/",
          "height": 143
        },
        "id": "n8bekMPEiHFf",
        "outputId": "26203ccc-e0f5-4150-f0c5-ea8cfa554564"
      },
      "outputs": [],
      "source": [
        "df2 = pd.concat([df1, df2], axis=1)\n",
        "df2"
      ]
    },
    {
      "attachments": {},
      "cell_type": "markdown",
      "metadata": {
        "id": "qxdP858DiHFh"
      },
      "source": [
        "### Join"
      ]
    },
    {
      "cell_type": "code",
      "execution_count": null,
      "metadata": {
        "colab": {
          "base_uri": "https://localhost:8080/",
          "height": 238
        },
        "id": "ezoEs7UliHFh",
        "outputId": "79da6c6e-fc2b-4d06-f06b-38eb0415b13b"
      },
      "outputs": [],
      "source": [
        "df"
      ]
    },
    {
      "cell_type": "code",
      "execution_count": null,
      "metadata": {
        "colab": {
          "base_uri": "https://localhost:8080/",
          "height": 112
        },
        "id": "_xDt2PL3iHFi",
        "outputId": "37f5a785-2db0-4367-f4e4-5039a640f77a"
      },
      "outputs": [],
      "source": [
        "avg_df = df.groupby('province')['population'].mean().reset_index(name='avg_pop')\n",
        "avg_df"
      ]
    },
    {
      "cell_type": "code",
      "execution_count": null,
      "metadata": {
        "colab": {
          "base_uri": "https://localhost:8080/"
        },
        "id": "Dd_b2p9HiHFk",
        "outputId": "9f3d6068-7ccc-4786-e07f-9d5fd341c3e4"
      },
      "outputs": [],
      "source": [
        "df.dtypes"
      ]
    },
    {
      "cell_type": "code",
      "execution_count": null,
      "metadata": {
        "colab": {
          "base_uri": "https://localhost:8080/"
        },
        "id": "OC9B6YgPiHFl",
        "outputId": "c3d7ca0b-9b3f-47bc-f591-5fac4ba5e231"
      },
      "outputs": [],
      "source": [
        "avg_df.dtypes"
      ]
    },
    {
      "cell_type": "code",
      "execution_count": null,
      "metadata": {
        "colab": {
          "base_uri": "https://localhost:8080/",
          "height": 238
        },
        "id": "1Yp_npbciHFp",
        "outputId": "b7248171-933d-4f25-bed5-6c89f2c828c7",
        "scrolled": true
      },
      "outputs": [],
      "source": [
        "df.merge(avg_df, on = 'province', how = 'inner')"
      ]
    },
    {
      "attachments": {},
      "cell_type": "markdown",
      "metadata": {
        "id": "UjQI5N9c0UZb"
      },
      "source": [
        "## Data Visualization with Python Seaborn\n",
        "\n",
        "![](https://blog.logrocket.com/wp-content/uploads/2021/11/data-visualization-analysis-python-seaborn.png)\n",
        "\n",
        "Data Visualization is the presentation of data in pictorial format. It is extremely important for Data Analysis, primarily because of the fantastic ecosystem of data-centric Python packages. And it helps to understand the data, however, complex it is, the significance of data by summarizing and presenting a huge amount of data in a simple and easy-to-understand format and helps communicate information clearly and effectively.\n",
        "\n",
        "Credit: \n",
        "\n",
        "https://www.geeksforgeeks.org/data-visualization-with-python-seaborn/\n",
        "\n",
        "https://seaborn.pydata.org/generated/seaborn.lineplot.html\n"
      ]
    },
    {
      "cell_type": "code",
      "execution_count": null,
      "metadata": {
        "id": "bTjQUZadeaVu"
      },
      "outputs": [],
      "source": [
        "!pip install -q seaborn"
      ]
    },
    {
      "cell_type": "code",
      "execution_count": null,
      "metadata": {
        "colab": {
          "base_uri": "https://localhost:8080/",
          "height": 206
        },
        "id": "HoYnvPNX086j",
        "outputId": "8689e6cd-d2cd-4853-d1c1-9a63994a0f1e"
      },
      "outputs": [],
      "source": [
        "# load the csv\n",
        "data = pd.read_csv(\"https://github.com/kaopanboonyuen/GISTDA2023/raw/main/dataset/visualize/nba.csv\")\n",
        " \n",
        "# show first 5 column\n",
        "data.head()"
      ]
    },
    {
      "attachments": {},
      "cell_type": "markdown",
      "metadata": {
        "id": "Uopw9kGs1R7l"
      },
      "source": [
        "### Sample Seaborn"
      ]
    },
    {
      "cell_type": "code",
      "execution_count": null,
      "metadata": {
        "colab": {
          "base_uri": "https://localhost:8080/",
          "height": 451
        },
        "id": "lnu6ZMbL1MRl",
        "outputId": "98d6dd69-e9fb-4abd-ccfa-3e1cf10de5d1"
      },
      "outputs": [],
      "source": [
        "# Importing libraries\n",
        "import numpy as np\n",
        "import seaborn as sns\n",
        "\n",
        "import warnings\n",
        "warnings.filterwarnings(\"ignore\")\n",
        "   \n",
        "# Selecting style as white,\n",
        "# dark, whitegrid, darkgrid \n",
        "# or ticks\n",
        "sns.set( style = \"white\" )\n",
        "   \n",
        "# Generate a random univariate \n",
        "# dataset\n",
        "rs = np.random.RandomState( 10 )\n",
        "d = rs.normal( size = 50 )\n",
        "   \n",
        "# Plot a simple histogram and kde \n",
        "# with binsize determined automatically\n",
        "sns.distplot(d, kde = True, color = \"g\")"
      ]
    },
    {
      "attachments": {},
      "cell_type": "markdown",
      "metadata": {
        "id": "ScEFc6IH1ne6"
      },
      "source": [
        "### Seaborn: statistical data visualization\n",
        "\n",
        "These are the plot will help to visualize:\n",
        "\n",
        "- Line Plot\n",
        "- Scatter Plot\n",
        "- Box plot\n",
        "- Point plot\n",
        "- Count plot\n",
        "- Violin plot\n",
        "- Swarm plot\n",
        "- Bar plot\n",
        "- KDE Plot"
      ]
    },
    {
      "attachments": {},
      "cell_type": "markdown",
      "metadata": {
        "id": "R3VMhdLI1y3U"
      },
      "source": [
        "### Line Plot"
      ]
    },
    {
      "cell_type": "code",
      "execution_count": null,
      "metadata": {
        "colab": {
          "base_uri": "https://localhost:8080/",
          "height": 451
        },
        "id": "H4okO85F2f3P",
        "outputId": "64bbb058-ff34-4c9e-8153-6ec3ef2a5900"
      },
      "outputs": [],
      "source": [
        "sns.lineplot(data['Age'])\n"
      ]
    },
    {
      "cell_type": "code",
      "execution_count": null,
      "metadata": {
        "colab": {
          "base_uri": "https://localhost:8080/",
          "height": 475
        },
        "id": "1O8jYumd1aZz",
        "outputId": "b4044343-5842-4c51-ffe8-64b8b173c4f4"
      },
      "outputs": [],
      "source": [
        "# plotting lineplot\n",
        "sns.lineplot(data=data, x=\"Age\", y=\"Weight\")"
      ]
    },
    {
      "attachments": {},
      "cell_type": "markdown",
      "metadata": {
        "id": "sAhWseMG2q4N"
      },
      "source": [
        "### Use the hue parameter for plotting the graph."
      ]
    },
    {
      "cell_type": "code",
      "execution_count": null,
      "metadata": {
        "colab": {
          "base_uri": "https://localhost:8080/",
          "height": 475
        },
        "id": "A8WUfdhZ11Mw",
        "outputId": "e651d86b-571e-426f-a01f-fea647b8f385"
      },
      "outputs": [],
      "source": [
        "sns.lineplot(data=data, x=\"Age\", y=\"Weight\", hue=\"Position\")"
      ]
    },
    {
      "attachments": {},
      "cell_type": "markdown",
      "metadata": {
        "id": "3rIShs1S2803"
      },
      "source": [
        "### Scatter Plot\n"
      ]
    },
    {
      "cell_type": "code",
      "execution_count": null,
      "metadata": {
        "colab": {
          "base_uri": "https://localhost:8080/",
          "height": 475
        },
        "id": "y8Cgpa7t2tNR",
        "outputId": "e10e6fd5-d2fe-4745-f544-94b6056eb191"
      },
      "outputs": [],
      "source": [
        "sns.scatterplot(data=data, x=\"Age\", y=\"Weight\")"
      ]
    },
    {
      "attachments": {},
      "cell_type": "markdown",
      "metadata": {
        "id": "_Edv_XwG3GT4"
      },
      "source": [
        "### Use the hue parameter for plotting the graph"
      ]
    },
    {
      "cell_type": "code",
      "execution_count": null,
      "metadata": {
        "colab": {
          "base_uri": "https://localhost:8080/",
          "height": 475
        },
        "id": "q0SJx3du3DNc",
        "outputId": "a14f9aa2-ea84-4d74-fce0-f72460dc0fd6"
      },
      "outputs": [],
      "source": [
        "sns.scatterplot( data=data, x=\"Age\", y=\"Weight\", hue=\"Position\")"
      ]
    },
    {
      "attachments": {},
      "cell_type": "markdown",
      "metadata": {
        "id": "cLVKTNHD3PJy"
      },
      "source": [
        "### Box plot"
      ]
    },
    {
      "cell_type": "code",
      "execution_count": null,
      "metadata": {
        "colab": {
          "base_uri": "https://localhost:8080/",
          "height": 451
        },
        "id": "6KXGmICD3MMV",
        "outputId": "9265a3f9-e499-44d3-aaaf-28c811f4a7ea"
      },
      "outputs": [],
      "source": [
        "sns.boxplot( data['Age'] )"
      ]
    },
    {
      "cell_type": "code",
      "execution_count": null,
      "metadata": {
        "colab": {
          "base_uri": "https://localhost:8080/",
          "height": 475
        },
        "id": "erR5j7y93TRX",
        "outputId": "4c0a6bf7-1ea5-4f47-909e-0c20a5e1cd6b"
      },
      "outputs": [],
      "source": [
        "sns.boxplot( data=data, x=\"Age\", y=\"Weight\" )"
      ]
    },
    {
      "attachments": {},
      "cell_type": "markdown",
      "metadata": {
        "id": "KsT-iP6X3ZLK"
      },
      "source": [
        "### Violin Plot"
      ]
    },
    {
      "cell_type": "code",
      "execution_count": null,
      "metadata": {
        "colab": {
          "base_uri": "https://localhost:8080/",
          "height": 451
        },
        "id": "_r26NNKl3W-J",
        "outputId": "1dfad776-d109-4657-a551-dc0a0405a70b"
      },
      "outputs": [],
      "source": [
        "sns.violinplot(data['Age'])"
      ]
    },
    {
      "cell_type": "code",
      "execution_count": null,
      "metadata": {
        "colab": {
          "base_uri": "https://localhost:8080/",
          "height": 475
        },
        "id": "k5Kd7pq73bPg",
        "outputId": "1f370ac8-e9b6-47de-e414-f30c3c6b9df5"
      },
      "outputs": [],
      "source": [
        "sns.violinplot(data=data, x=\"Age\", y=\"Weight\" )"
      ]
    },
    {
      "attachments": {},
      "cell_type": "markdown",
      "metadata": {
        "id": "AvoBljAL3k1P"
      },
      "source": [
        "### Swarm plot"
      ]
    },
    {
      "cell_type": "code",
      "execution_count": null,
      "metadata": {
        "colab": {
          "base_uri": "https://localhost:8080/",
          "height": 475
        },
        "id": "IuQrBhWV3f1_",
        "outputId": "cd93da27-88bb-4fe2-ac7a-b260a8ada406"
      },
      "outputs": [],
      "source": [
        "sns.swarmplot(data[\"Age\"])"
      ]
    },
    {
      "cell_type": "code",
      "execution_count": null,
      "metadata": {
        "colab": {
          "base_uri": "https://localhost:8080/",
          "height": 475
        },
        "id": "dJZBfpQy3oA5",
        "outputId": "574f80b0-e1d7-4bdd-ef87-428d41385cc9"
      },
      "outputs": [],
      "source": [
        "sns.swarmplot(data=data, x=\"Age\", y=\"Weight\" )"
      ]
    },
    {
      "attachments": {},
      "cell_type": "markdown",
      "metadata": {
        "id": "YxCymex43vm0"
      },
      "source": [
        "### Bar plot"
      ]
    },
    {
      "cell_type": "code",
      "execution_count": null,
      "metadata": {
        "colab": {
          "base_uri": "https://localhost:8080/",
          "height": 451
        },
        "id": "OJFOjlzU3t8w",
        "outputId": "3ca50fb0-13ce-4edd-cc1f-38ec8394a8cf"
      },
      "outputs": [],
      "source": [
        "sns.barplot(data[\"Age\"])"
      ]
    },
    {
      "cell_type": "code",
      "execution_count": null,
      "metadata": {
        "colab": {
          "base_uri": "https://localhost:8080/",
          "height": 475
        },
        "id": "dYSvNn_Y3ycB",
        "outputId": "de7a6422-ad59-4753-ee3b-cb2ae1b21aee"
      },
      "outputs": [],
      "source": [
        "sns.barplot(data=data, x=\"Age\", y=\"Weight\")"
      ]
    },
    {
      "attachments": {},
      "cell_type": "markdown",
      "metadata": {
        "id": "R_YViyiw36_M"
      },
      "source": [
        "### Point plot"
      ]
    },
    {
      "cell_type": "code",
      "execution_count": null,
      "metadata": {
        "colab": {
          "base_uri": "https://localhost:8080/",
          "height": 475
        },
        "id": "0EpHXlxN32sS",
        "outputId": "b87ec2bb-8c61-4f5d-de82-9997a72b1f29"
      },
      "outputs": [],
      "source": [
        "sns.pointplot(data=data, x=\"Age\", y=\"Weight\")"
      ]
    },
    {
      "attachments": {},
      "cell_type": "markdown",
      "metadata": {
        "id": "rXvjjXJI4DXG"
      },
      "source": [
        "### Count plot"
      ]
    },
    {
      "cell_type": "code",
      "execution_count": null,
      "metadata": {
        "colab": {
          "base_uri": "https://localhost:8080/",
          "height": 451
        },
        "id": "STvb1LwH4BFi",
        "outputId": "da3f90a7-318c-404f-fd90-37de8f60b412"
      },
      "outputs": [],
      "source": [
        "sns.countplot(data[\"Age\"])"
      ]
    },
    {
      "attachments": {},
      "cell_type": "markdown",
      "metadata": {
        "id": "c6DPaU4q4Hoj"
      },
      "source": [
        "### KDE Plot (Kernel Density Estimate)"
      ]
    },
    {
      "cell_type": "code",
      "execution_count": null,
      "metadata": {
        "colab": {
          "base_uri": "https://localhost:8080/",
          "height": 475
        },
        "id": "uNpYVyS64FyY",
        "outputId": "ef9e0f61-3d42-4757-9eff-dd21a1888fc4"
      },
      "outputs": [],
      "source": [
        "sns.kdeplot( data=data, x=\"Age\", y=\"Number\")"
      ]
    },
    {
      "attachments": {},
      "cell_type": "markdown",
      "metadata": {
        "id": "3Dpz6p0a6Iic"
      },
      "source": [
        "### Pair Plot"
      ]
    },
    {
      "cell_type": "code",
      "execution_count": null,
      "metadata": {
        "colab": {
          "base_uri": "https://localhost:8080/",
          "height": 1000
        },
        "id": "a01iJMoQ6J2B",
        "outputId": "e5c11be9-1554-4426-df20-681df4fe697c"
      },
      "outputs": [],
      "source": [
        "sns.pairplot(data, hue=\"Position\", height=3)"
      ]
    }
  ],
  "metadata": {
    "colab": {
      "provenance": [],
      "toc_visible": true
    },
    "kernelspec": {
      "display_name": "Python 3",
      "language": "python",
      "name": "python3"
    },
    "language_info": {
      "codemirror_mode": {
        "name": "ipython",
        "version": 3
      },
      "file_extension": ".py",
      "mimetype": "text/x-python",
      "name": "python",
      "nbconvert_exporter": "python",
      "pygments_lexer": "ipython3",
      "version": "3.7.4"
    },
    "toc": {
      "base_numbering": 1,
      "nav_menu": {},
      "number_sections": true,
      "sideBar": true,
      "skip_h1_title": false,
      "title_cell": "Table of Contents",
      "title_sidebar": "Contents",
      "toc_cell": false,
      "toc_position": {
        "height": "calc(100% - 180px)",
        "left": "10px",
        "top": "150px",
        "width": "498.594px"
      },
      "toc_section_display": true,
      "toc_window_display": true
    },
    "varInspector": {
      "cols": {
        "lenName": 16,
        "lenType": 16,
        "lenVar": 40
      },
      "kernels_config": {
        "python": {
          "delete_cmd_postfix": "",
          "delete_cmd_prefix": "del ",
          "library": "var_list.py",
          "varRefreshCmd": "print(var_dic_list())"
        },
        "r": {
          "delete_cmd_postfix": ") ",
          "delete_cmd_prefix": "rm(",
          "library": "var_list.r",
          "varRefreshCmd": "cat(var_dic_list()) "
        }
      },
      "types_to_exclude": [
        "module",
        "function",
        "builtin_function_or_method",
        "instance",
        "_Feature"
      ],
      "window_display": false
    }
  },
  "nbformat": 4,
  "nbformat_minor": 0
}
