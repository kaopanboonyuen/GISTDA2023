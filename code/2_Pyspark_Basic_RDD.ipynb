{
 "cells": [
  {
   "cell_type": "markdown",
   "metadata": {
    "id": "4zDysbXHvEGp"
   },
   "source": [
    "# Spark Preparation\n",
    "We check if we are in Google Colab.  If this is the case, install all necessary packages.\n",
    "\n",
    "To run spark in Colab, we need to first install all the dependencies in Colab environment i.e. Apache Spark 3.2.1 with hadoop 3.2, Java 8 and Findspark to locate the spark in the system. The tools installation can be carried out inside the Jupyter Notebook of the Colab.\n",
    "Learn more from [A Must-Read Guide on How to Work with PySpark on Google Colab for Data Scientists!](https://www.analyticsvidhya.com/blog/2020/11/a-must-read-guide-on-how-to-work-with-pyspark-on-google-colab-for-data-scientists/)"
   ]
  },
  {
   "cell_type": "code",
   "execution_count": null,
   "metadata": {
    "id": "JK6PZEMjROK9"
   },
   "outputs": [],
   "source": [
    "try:\n",
    "  import google.colab\n",
    "  IN_COLAB = True\n",
    "except:\n",
    "  IN_COLAB = False"
   ]
  },
  {
   "cell_type": "code",
   "execution_count": null,
   "metadata": {
    "id": "Gr_NGZ5AvIQy"
   },
   "outputs": [],
   "source": [
    "if IN_COLAB:\n",
    "    !apt-get install openjdk-8-jdk-headless -qq > /dev/null\n",
    "    !wget -q https://dlcdn.apache.org/spark/spark-3.2.1/spark-3.2.1-bin-hadoop3.2.tgz\n",
    "    !tar xf spark-3.2.1-bin-hadoop3.2.tgz\n",
    "    !mv spark-3.2.1-bin-hadoop3.2 spark\n",
    "    !pip install -q findspark"
   ]
  },
  {
   "cell_type": "code",
   "execution_count": null,
   "metadata": {
    "id": "9dby3bREvIaU"
   },
   "outputs": [],
   "source": [
    "if IN_COLAB:\n",
    "  import os\n",
    "  os.environ[\"JAVA_HOME\"] = \"/usr/lib/jvm/java-8-openjdk-amd64\"\n",
    "  os.environ[\"SPARK_HOME\"] = \"/content/spark\""
   ]
  },
  {
   "cell_type": "code",
   "execution_count": null,
   "metadata": {
    "id": "rJTEDJzsvZRJ"
   },
   "outputs": [],
   "source": [
    "import findspark\n",
    "findspark.init()"
   ]
  },
  {
   "cell_type": "markdown",
   "metadata": {
    "id": "_92TFSplRMHq"
   },
   "source": [
    "# Pyspark_Basic_RDD"
   ]
  },
  {
   "cell_type": "code",
   "execution_count": null,
   "metadata": {
    "id": "jNHCZPHYRMHs"
   },
   "outputs": [],
   "source": [
    "#1 - import module\n",
    "from pyspark import SparkContext"
   ]
  },
  {
   "cell_type": "code",
   "execution_count": null,
   "metadata": {
    "colab": {
     "base_uri": "https://localhost:8080/",
     "height": 198
    },
    "id": "WFGEa6z_RMHy",
    "outputId": "ae2ec601-33a2-40fb-97fd-02ca3309b3b0"
   },
   "outputs": [],
   "source": [
    "#2 - Create SparkContext\n",
    "sc = sc = SparkContext.getOrCreate()\n",
    "sc"
   ]
  },
  {
   "cell_type": "code",
   "execution_count": null,
   "metadata": {
    "colab": {
     "base_uri": "https://localhost:8080/"
    },
    "id": "mWzSaEXS8WSW",
    "outputId": "e2235492-ca10-4162-e1ea-6061d4779fdf"
   },
   "outputs": [],
   "source": [
    "import multiprocessing\n",
    "\n",
    "multiprocessing.cpu_count()"
   ]
  },
  {
   "cell_type": "code",
   "execution_count": null,
   "metadata": {
    "id": "cA_ajGnk9RED"
   },
   "outputs": [],
   "source": [
    "#rdd.getNumPartitions"
   ]
  },
  {
   "cell_type": "code",
   "execution_count": null,
   "metadata": {
    "id": "VzLxhL6bRMIg"
   },
   "outputs": [],
   "source": [
    "#3 - Print top 5 rows\n",
    "def printRDD(data,num):\n",
    "    for line in data.take(num):\n",
    "        print(line)"
   ]
  },
  {
   "cell_type": "code",
   "execution_count": null,
   "metadata": {
    "colab": {
     "base_uri": "https://localhost:8080/"
    },
    "id": "unlMjoNDxx2L",
    "outputId": "aacfe489-1b74-40bc-9e01-95e9093c27f1"
   },
   "outputs": [],
   "source": [
    "!wget https://github.com/kaopanboonyuen/GISTDA2022/raw/main/dataset/iris.csv"
   ]
  },
  {
   "cell_type": "code",
   "execution_count": null,
   "metadata": {
    "colab": {
     "base_uri": "https://localhost:8080/"
    },
    "id": "vqSOV55WRMIm",
    "outputId": "677d6f90-f9b1-42c3-f636-5ae40de12ffa"
   },
   "outputs": [],
   "source": [
    "#4 - Read file to spark RDD\n",
    "rdd = sc.textFile(\"iris.csv\")\n",
    "rdd.cache()\n",
    "\n",
    "# Attribute Information:\n",
    "# 1. sepal length in cm \n",
    "# 2. sepal width in cm \n",
    "# 3. petal length in cm \n",
    "# 4. petal width in cm \n",
    "# 5. class: \n",
    "# -- Iris Setosa \n",
    "# -- Iris Versicolour \n",
    "# -- Iris Virginica\n",
    "\n",
    "\n",
    "printRDD(rdd,5)"
   ]
  },
  {
   "cell_type": "code",
   "execution_count": null,
   "metadata": {
    "colab": {
     "base_uri": "https://localhost:8080/"
    },
    "id": "MzrieK0FRMIu",
    "outputId": "c3d2e84b-d14f-463f-fb92-1b9a4d4a8b50"
   },
   "outputs": [],
   "source": [
    "#5 - map\n",
    "mapped_rdd = rdd.map(lambda line : line.split(\",\"))\n",
    "\n",
    "printRDD(mapped_rdd,5)"
   ]
  },
  {
   "cell_type": "code",
   "execution_count": null,
   "metadata": {
    "colab": {
     "base_uri": "https://localhost:8080/"
    },
    "id": "EqMwUNOyRMI0",
    "outputId": "76ab4739-3f12-45b7-a9df-a8ada6301845"
   },
   "outputs": [],
   "source": [
    "#6 - flatMap\n",
    "flatMaped_rdd = rdd.flatMap(lambda line : line.split(\",\"))\n",
    "\n",
    "printRDD(flatMaped_rdd,25)"
   ]
  },
  {
   "cell_type": "code",
   "execution_count": null,
   "metadata": {
    "colab": {
     "base_uri": "https://localhost:8080/"
    },
    "id": "bICuISWBRMI5",
    "outputId": "3b2e15dd-5e22-40a8-8b62-06f3698ca93d"
   },
   "outputs": [],
   "source": [
    "#7 - create unique id\n",
    "zipedWithUniqueId_rdd = rdd.zipWithUniqueId()\n",
    "\n",
    "print(\"zipedWithUniqueId_rdd count : \" + str(zipedWithUniqueId_rdd.count()))\n",
    "printRDD(zipedWithUniqueId_rdd,5)"
   ]
  },
  {
   "cell_type": "code",
   "execution_count": null,
   "metadata": {
    "colab": {
     "base_uri": "https://localhost:8080/"
    },
    "id": "TVMCXtehRMI_",
    "outputId": "e0adbaf7-d3cd-43ab-8897-586892b48c86"
   },
   "outputs": [],
   "source": [
    "#8 - sample data\n",
    "sampled_rdd = zipedWithUniqueId_rdd.sample(withReplacement=False, fraction=0.5, seed=50)\n",
    "\n",
    "print(\"rdd count : \" + str(zipedWithUniqueId_rdd.count()))\n",
    "print(\"sampled_rdd count : \" + str(sampled_rdd.count()))\n",
    "printRDD(sampled_rdd,5)"
   ]
  },
  {
   "cell_type": "code",
   "execution_count": null,
   "metadata": {
    "colab": {
     "base_uri": "https://localhost:8080/"
    },
    "id": "qmLwYn8jRMJD",
    "outputId": "9fe7f7fa-a862-48e6-d923-f35d6026a130"
   },
   "outputs": [],
   "source": [
    "#9 - union and intersect\n",
    "sampled1_rdd = zipedWithUniqueId_rdd.sample(withReplacement=False, fraction=0.5, seed=25)\n",
    "sampled2_rdd = zipedWithUniqueId_rdd.sample(withReplacement=False, fraction=0.5, seed=50)\n",
    "unioned_rdd = sampled1_rdd.union(sampled2_rdd)\n",
    "intersected_rdd = sampled1_rdd.intersection(sampled2_rdd)\n",
    "\n",
    "print(\"sampled1_rdd count : \" + str(sampled1_rdd.count()))\n",
    "print(\"sampled2_rdd count : \" + str(sampled2_rdd.count()))\n",
    "print(\"unioned_rdd count : \" + str(unioned_rdd.count()))\n",
    "print(\"intersected_rdd count : \" + str(intersected_rdd.count()))"
   ]
  },
  {
   "cell_type": "code",
   "execution_count": null,
   "metadata": {
    "colab": {
     "base_uri": "https://localhost:8080/"
    },
    "id": "vwR5gBeuRMJJ",
    "outputId": "14f986bb-0c40-4691-b953-b0599b98a03e"
   },
   "outputs": [],
   "source": [
    "#10 - distinct\n",
    "label_rdd = mapped_rdd.map(lambda line : line[-1])\n",
    "printRDD(label_rdd,5)\n",
    "\n",
    "print(\"\\n\")\n",
    "\n",
    "label_list = label_rdd.distinct().collect()\n",
    "print(label_list)"
   ]
  },
  {
   "cell_type": "code",
   "execution_count": null,
   "metadata": {
    "colab": {
     "base_uri": "https://localhost:8080/"
    },
    "id": "3VCbyo8mRMJQ",
    "outputId": "57f68ec9-f0b2-4b23-b6f1-6a04b6aa03c0"
   },
   "outputs": [],
   "source": [
    "#11 - zip 2 rdd together\n",
    "feature_rdd = mapped_rdd.map(lambda line : line[0:-1])\n",
    "printRDD(feature_rdd,5)\n",
    "\n",
    "print(\"\\n\")\n",
    "\n",
    "zip_rdd = feature_rdd.zip(label_rdd)\n",
    "printRDD(zip_rdd,5)\n",
    "\n",
    "print(\"\\n\")\n",
    "\n",
    "zip_rdd = zip_rdd.map(lambda features : features + [label])"
   ]
  },
  {
   "cell_type": "code",
   "execution_count": null,
   "metadata": {
    "colab": {
     "base_uri": "https://localhost:8080/"
    },
    "id": "GCbbwyzFRMJV",
    "outputId": "0dd04b4a-b5d7-4124-ccaa-c42602120d06",
    "scrolled": false
   },
   "outputs": [],
   "source": [
    "#12 - collect\n",
    "data_list = rdd.collect()\n",
    "#Too many result => not a good method when deal with big data\n",
    "print(\"data_list size : \" + str(len(data_list)))\n",
    "for data in data_list:\n",
    "    print(data)"
   ]
  },
  {
   "cell_type": "code",
   "execution_count": null,
   "metadata": {
    "colab": {
     "base_uri": "https://localhost:8080/"
    },
    "id": "kZKsfG3ZRMJZ",
    "outputId": "7ced667e-efa3-4731-b356-065acf1365f8"
   },
   "outputs": [],
   "source": [
    "#13 - take\n",
    "data_list = rdd.take(5)\n",
    "#Select first n rows\n",
    "print(\"data_list size : \" + str(len(data_list)))\n",
    "for data in data_list:\n",
    "    print(data)"
   ]
  },
  {
   "cell_type": "code",
   "execution_count": null,
   "metadata": {
    "colab": {
     "base_uri": "https://localhost:8080/"
    },
    "id": "FYXq6DZWRMJe",
    "outputId": "d5d72c1e-7005-4891-add1-006c1091860e"
   },
   "outputs": [],
   "source": [
    "#14 - top\n",
    "data_list = rdd.top(5)\n",
    "#Select top n rows\n",
    "print(\"data_list size : \" + str(len(data_list)))\n",
    "for data in data_list:\n",
    "    print(data)"
   ]
  }
 ],
 "metadata": {
  "colab": {
   "collapsed_sections": [],
   "name": "2_Pyspark_Basic_RDD.ipynb",
   "provenance": []
  },
  "kernelspec": {
   "display_name": "Python 3",
   "language": "python",
   "name": "python3"
  },
  "language_info": {
   "codemirror_mode": {
    "name": "ipython",
    "version": 3
   },
   "file_extension": ".py",
   "mimetype": "text/x-python",
   "name": "python",
   "nbconvert_exporter": "python",
   "pygments_lexer": "ipython3",
   "version": "3.8.3"
  },
  "toc": {
   "base_numbering": 1,
   "nav_menu": {},
   "number_sections": true,
   "sideBar": true,
   "skip_h1_title": false,
   "title_cell": "Table of Contents",
   "title_sidebar": "Contents",
   "toc_cell": false,
   "toc_position": {},
   "toc_section_display": true,
   "toc_window_display": false
  }
 },
 "nbformat": 4,
 "nbformat_minor": 1
}
