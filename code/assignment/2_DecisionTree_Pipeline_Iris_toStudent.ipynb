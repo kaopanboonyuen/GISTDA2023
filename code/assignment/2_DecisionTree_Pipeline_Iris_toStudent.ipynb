{
  "cells": [
    {
      "attachments": {},
      "cell_type": "markdown",
      "metadata": {
        "id": "9IRbaBze2OoO"
      },
      "source": [
        "# 2_DecisionTree_Pipeline_Iris_toStudent\n",
        "\n",
        "![](https://github.com/kaopanboonyuen/GISTDA2023/raw/main/img/gistda_day2.png)\n",
        "\n",
        "We check if we are in Google Colab.  If this is the case, install all necessary packages.\n",
        "\n",
        "To run spark in Colab, we need to first install all the dependencies in Colab environment i.e. Apache Spark 3.2.1 with hadoop 3.2, Java 8 and Findspark to locate the spark in the system. The tools installation can be carried out inside the Jupyter Notebook of the Colab.\n",
        "Learn more from [A Must-Read Guide on How to Work with PySpark on Google Colab for Data Scientists!](https://www.analyticsvidhya.com/blog/2020/11/a-must-read-guide-on-how-to-work-with-pyspark-on-google-colab-for-data-scientists/)\n",
        "\n",
        "credit: Natawut Nupairoj"
      ]
    },
    {
      "cell_type": "code",
      "execution_count": null,
      "metadata": {
        "id": "86UXV5RLTwPi"
      },
      "outputs": [],
      "source": [
        "try:\n",
        "  import google.colab\n",
        "  IN_COLAB = True\n",
        "except:\n",
        "  IN_COLAB = False"
      ]
    },
    {
      "cell_type": "code",
      "execution_count": null,
      "metadata": {
        "id": "CV3tzzmGTx9z"
      },
      "outputs": [],
      "source": [
        "if IN_COLAB:\n",
        "    !apt-get install openjdk-8-jdk-headless -qq > /dev/null\n",
        "    !wget -q https://dlcdn.apache.org/spark/spark-3.3.2/spark-3.3.2-bin-hadoop2.tgz\n",
        "    !tar xf spark-3.3.2-bin-hadoop2.tgz\n",
        "    !mv spark-3.3.2-bin-hadoop2 spark\n",
        "    !pip install -q findspark"
      ]
    },
    {
      "cell_type": "code",
      "execution_count": null,
      "metadata": {
        "id": "L2vV7P8H2RyT"
      },
      "outputs": [],
      "source": [
        "if IN_COLAB:\n",
        "  import os\n",
        "  os.environ[\"JAVA_HOME\"] = \"/usr/lib/jvm/java-8-openjdk-amd64\"\n",
        "  os.environ[\"SPARK_HOME\"] = \"/content/spark\""
      ]
    },
    {
      "cell_type": "code",
      "execution_count": null,
      "metadata": {
        "id": "DOV6Wp-I2Rpj"
      },
      "outputs": [],
      "source": [
        "import findspark\n",
        "findspark.init()"
      ]
    },
    {
      "attachments": {},
      "cell_type": "markdown",
      "metadata": {
        "collapsed": true,
        "id": "9Ck6v8xKTvNE"
      },
      "source": [
        "# Pyspark_Classification_Pipeline_Iris"
      ]
    },
    {
      "cell_type": "code",
      "execution_count": null,
      "metadata": {
        "colab": {
          "base_uri": "https://localhost:8080/"
        },
        "id": "lQ9sR69YM6Tr",
        "outputId": "58c88c95-1a7c-4a29-f23a-9ffff586b215"
      },
      "outputs": [],
      "source": [
        "!wget https://github.com/kaopanboonyuen/Kao/raw/master/dataset/sparklab/iris.csv"
      ]
    },
    {
      "cell_type": "code",
      "execution_count": null,
      "metadata": {
        "id": "bMdvIvFTTvNG"
      },
      "outputs": [],
      "source": [
        "import numpy\n",
        "import pandas"
      ]
    },
    {
      "cell_type": "code",
      "execution_count": null,
      "metadata": {
        "id": "hnxpmie6TvNK"
      },
      "outputs": [],
      "source": [
        "from pyspark import SparkContext\n",
        "\n",
        "sc = SparkContext.getOrCreate()"
      ]
    },
    {
      "cell_type": "code",
      "execution_count": null,
      "metadata": {
        "colab": {
          "base_uri": "https://localhost:8080/",
          "height": 198
        },
        "id": "tDKQhZ0xTvNN",
        "outputId": "900bc915-9462-48fb-887e-6dd2a176eac2"
      },
      "outputs": [],
      "source": [
        "sc"
      ]
    },
    {
      "cell_type": "code",
      "execution_count": null,
      "metadata": {
        "colab": {
          "base_uri": "https://localhost:8080/"
        },
        "id": "MV99-Ha7TvNS",
        "outputId": "6d1049c5-2a6a-4e17-c791-ab1df3046814"
      },
      "outputs": [],
      "source": [
        "sc._conf.getAll()"
      ]
    },
    {
      "cell_type": "code",
      "execution_count": null,
      "metadata": {
        "colab": {
          "base_uri": "https://localhost:8080/"
        },
        "id": "1K-UCpR5TvNW",
        "outputId": "46a187ad-e348-4b7d-b4ea-40cb103d5bd7"
      },
      "outputs": [],
      "source": [
        "print(sc.getConf().toDebugString())"
      ]
    },
    {
      "cell_type": "code",
      "execution_count": null,
      "metadata": {
        "id": "heWiGajZTvNZ"
      },
      "outputs": [],
      "source": [
        "from time import time\n",
        "\n",
        "start_time = time()"
      ]
    },
    {
      "cell_type": "code",
      "execution_count": null,
      "metadata": {
        "colab": {
          "base_uri": "https://localhost:8080/"
        },
        "id": "-5KryZLaTvNc",
        "outputId": "aa3f8c85-a4af-42f9-fde2-d6fa2b85f5de"
      },
      "outputs": [],
      "source": [
        "from pyspark.sql import SparkSession\n",
        "\n",
        "spark = (SparkSession\n",
        "         .builder\n",
        "         .appName(\"Pyspark_Classification_Pipeline_Iris\")\n",
        "         .getOrCreate())\n",
        "print(spark)"
      ]
    },
    {
      "attachments": {},
      "cell_type": "markdown",
      "metadata": {
        "id": "pm3d-aV4I74-"
      },
      "source": [
        "#1 read iris.csv to data_df"
      ]
    },
    {
      "cell_type": "code",
      "execution_count": null,
      "metadata": {
        "colab": {
          "base_uri": "https://localhost:8080/"
        },
        "id": "PD1HD0IvTvNf",
        "outputId": "e266ab3f-d1b6-40d9-c68a-b7f004669d5e"
      },
      "outputs": [],
      "source": [
        "#Fill code here\n",
        "\n",
        "\n",
        "# Attribute Information:\n",
        "# 1. sepal length in cm \n",
        "# 2. sepal width in cm \n",
        "# 3. petal length in cm \n",
        "# 4. petal width in cm \n",
        "# 5. class: \n",
        "# -- Iris Setosa \n",
        "# -- Iris Versicolour \n",
        "# -- Iris Virginica"
      ]
    },
    {
      "attachments": {},
      "cell_type": "markdown",
      "metadata": {
        "id": "H48TfcF_JMEA"
      },
      "source": [
        "#2 show scheama and 5 rows"
      ]
    },
    {
      "cell_type": "code",
      "execution_count": null,
      "metadata": {
        "colab": {
          "base_uri": "https://localhost:8080/",
          "height": 206
        },
        "id": "K2wkwTASTvNi",
        "outputId": "ff912de4-ed35-4be3-e19f-6b4eea6b00b6"
      },
      "outputs": [],
      "source": [
        "#Fill code here\n"
      ]
    },
    {
      "cell_type": "code",
      "execution_count": null,
      "metadata": {
        "colab": {
          "base_uri": "https://localhost:8080/"
        },
        "id": "5CPuJE6BTvNm",
        "outputId": "a1cc88d9-d6e9-4bba-898d-5e995c3c61f0"
      },
      "outputs": [],
      "source": [
        "#Fill code here\n"
      ]
    },
    {
      "cell_type": "code",
      "execution_count": null,
      "metadata": {
        "colab": {
          "base_uri": "https://localhost:8080/"
        },
        "id": "VrK1RNxXTvNp",
        "outputId": "deb95251-e1b7-4b50-8eab-42a9ce79ed12"
      },
      "outputs": [],
      "source": [
        "#Fill code here\n"
      ]
    },
    {
      "cell_type": "code",
      "execution_count": null,
      "metadata": {
        "colab": {
          "base_uri": "https://localhost:8080/",
          "height": 331
        },
        "id": "Hzd1tX-hTvNs",
        "outputId": "a944d1f3-a176-47c7-fc12-73fe738c6550"
      },
      "outputs": [],
      "source": [
        "data_df.sample(False, 0.05, 1234).toPandas()"
      ]
    },
    {
      "cell_type": "code",
      "execution_count": null,
      "metadata": {
        "id": "QJPs8nbeTvNx"
      },
      "outputs": [],
      "source": [
        "data_df = data_df.selectExpr(\"_c0 as sepal_length\", \"_c1 as sepal_width\", \"_c2 as petal_length\",\"_c3 as petal_width\",\"_c4 as class\")"
      ]
    },
    {
      "cell_type": "code",
      "execution_count": null,
      "metadata": {
        "colab": {
          "base_uri": "https://localhost:8080/",
          "height": 331
        },
        "id": "FJQIEqB-TvN2",
        "outputId": "08da1442-5c5a-4455-e12a-50a66b4c1b44"
      },
      "outputs": [],
      "source": [
        "data_df.sample(False, 0.05, 1234).toPandas()"
      ]
    },
    {
      "cell_type": "code",
      "execution_count": null,
      "metadata": {
        "colab": {
          "base_uri": "https://localhost:8080/",
          "height": 143
        },
        "id": "RR3C8DvITvN8",
        "outputId": "439ff915-7ab1-42e3-9d20-c9b1ce24b465"
      },
      "outputs": [],
      "source": [
        "data_df.groupBy('class').count().toPandas()"
      ]
    },
    {
      "attachments": {},
      "cell_type": "markdown",
      "metadata": {
        "id": "vAxu076-Jcz6"
      },
      "source": [
        "#3 random split 70:30 with seed = 50"
      ]
    },
    {
      "cell_type": "code",
      "execution_count": null,
      "metadata": {
        "colab": {
          "base_uri": "https://localhost:8080/"
        },
        "id": "lDM1kM7pTvOC",
        "outputId": "7f96a43d-6a4d-444b-84e5-eccfea2839da"
      },
      "outputs": [],
      "source": [
        "data_df = data_df.sort('class')\n",
        "#Fill code here\n"
      ]
    },
    {
      "attachments": {},
      "cell_type": "markdown",
      "metadata": {
        "id": "EJ0wu0v3JlpP"
      },
      "source": [
        "#4 create string indexer (code given)"
      ]
    },
    {
      "cell_type": "code",
      "execution_count": null,
      "metadata": {
        "colab": {
          "base_uri": "https://localhost:8080/"
        },
        "id": "Jg_BoipsTvOI",
        "outputId": "06118d46-5280-4483-a190-10cff93d4fd2"
      },
      "outputs": [],
      "source": [
        "#String indexer\n",
        "from pyspark.ml.feature import StringIndexer\n",
        "\n",
        "str_indexer = StringIndexer(inputCol = 'class', outputCol='label')\n",
        "\n",
        "print(str_indexer)"
      ]
    },
    {
      "attachments": {},
      "cell_type": "markdown",
      "metadata": {
        "id": "HAWOkigxJuAb"
      },
      "source": [
        "#5 create vector (code given)"
      ]
    },
    {
      "cell_type": "code",
      "execution_count": null,
      "metadata": {
        "colab": {
          "base_uri": "https://localhost:8080/"
        },
        "id": "2focGhkXTvOP",
        "outputId": "77c96f70-4f5d-49e6-c76f-e3870f79472a"
      },
      "outputs": [],
      "source": [
        "#Create Vector\n",
        "\n",
        "from pyspark.ml.feature import VectorAssembler\n",
        "\n",
        "features = data_df.drop('class').columns\n",
        "assem =  VectorAssembler(inputCols = features ,outputCol=\"features\")\n",
        "\n",
        "print(\"features : \" + str(features))\n",
        "print(assem)"
      ]
    },
    {
      "attachments": {},
      "cell_type": "markdown",
      "metadata": {
        "id": "e0GdSDgAJypd"
      },
      "source": [
        "#6 create decision tree model"
      ]
    },
    {
      "cell_type": "code",
      "execution_count": null,
      "metadata": {
        "colab": {
          "base_uri": "https://localhost:8080/"
        },
        "id": "XaJl5lS9TvOU",
        "outputId": "eef5b6c8-99f9-4d13-c91c-0d52d2330ae0"
      },
      "outputs": [],
      "source": [
        "#Fill code here\n",
        "\n"
      ]
    },
    {
      "attachments": {},
      "cell_type": "markdown",
      "metadata": {
        "id": "cMTpwa6jJ25k"
      },
      "source": [
        "#7 create pipeline (code given)"
      ]
    },
    {
      "cell_type": "code",
      "execution_count": null,
      "metadata": {
        "colab": {
          "base_uri": "https://localhost:8080/"
        },
        "id": "LH5eoojwTvOX",
        "outputId": "51dff2de-de21-4c9e-a380-c4d4b00a1f6e"
      },
      "outputs": [],
      "source": [
        "#Set ML pipeline\n",
        "\n",
        "from pyspark.ml import Pipeline\n",
        "\n",
        "pipeline = Pipeline(stages=[str_indexer,assem,dt])\n",
        "\n",
        "print(pipeline)"
      ]
    },
    {
      "attachments": {},
      "cell_type": "markdown",
      "metadata": {
        "id": "RakLlQ4WKCIO"
      },
      "source": [
        "#8 train model"
      ]
    },
    {
      "cell_type": "code",
      "execution_count": null,
      "metadata": {
        "id": "g-bYv3svTvOZ"
      },
      "outputs": [],
      "source": [
        "#Train model\n",
        "\n",
        "#Fill code here\n"
      ]
    },
    {
      "attachments": {},
      "cell_type": "markdown",
      "metadata": {
        "id": "HYG30CF-KExc"
      },
      "source": [
        "#9 predict model"
      ]
    },
    {
      "cell_type": "code",
      "execution_count": null,
      "metadata": {
        "colab": {
          "base_uri": "https://localhost:8080/"
        },
        "id": "yuVvjag7TvOc",
        "outputId": "d8ce2b50-8859-4dd9-c760-f42b7aa16771"
      },
      "outputs": [],
      "source": [
        "#Make predictions\n",
        "\n",
        "#Fill code here\n"
      ]
    },
    {
      "cell_type": "code",
      "execution_count": null,
      "metadata": {
        "colab": {
          "base_uri": "https://localhost:8080/",
          "height": 331
        },
        "id": "ijnedB39KSpz",
        "outputId": "8fde3b68-042f-4ac8-f8a8-8f154c7acff7"
      },
      "outputs": [],
      "source": [
        "# Print sample result\n",
        "predictions.sample(False, 0.3, 1234).toPandas()"
      ]
    },
    {
      "cell_type": "code",
      "execution_count": null,
      "metadata": {
        "colab": {
          "base_uri": "https://localhost:8080/",
          "height": 331
        },
        "id": "fMjXzjOnTvOh",
        "outputId": "a5ac9d9a-b629-4668-b020-4ebd0c905dc9"
      },
      "outputs": [],
      "source": [
        "# Print sample result\n",
        "predictions.sample(False, 0.3, 1234).select(\"prediction\", \"rawPrediction\", \"probability\", \"label\", \"features\").toPandas()"
      ]
    },
    {
      "attachments": {},
      "cell_type": "markdown",
      "metadata": {
        "id": "iaj01HFpKUHl"
      },
      "source": [
        "#10 evaluate model (optional)"
      ]
    },
    {
      "cell_type": "code",
      "execution_count": null,
      "metadata": {
        "colab": {
          "base_uri": "https://localhost:8080/"
        },
        "id": "ZTtiYeV5TvOk",
        "outputId": "c716168c-96cf-4f5f-9e5a-6fed78fd4b0f"
      },
      "outputs": [],
      "source": [
        "#Evaluate model\n",
        "\n",
        "#Fill code here\n",
        "from pyspark.ml.evaluation import MulticlassClassificationEvaluator\n",
        "\n"
      ]
    },
    {
      "attachments": {},
      "cell_type": "markdown",
      "metadata": {
        "id": "ge9RbgZCKZoO"
      },
      "source": [
        "#11 print tree model (code given)"
      ]
    },
    {
      "cell_type": "code",
      "execution_count": null,
      "metadata": {
        "colab": {
          "base_uri": "https://localhost:8080/"
        },
        "id": "ulgfuKqHTvOn",
        "outputId": "a8f51d3c-855f-4874-bf46-c3a5ac1a7344",
        "scrolled": true
      },
      "outputs": [],
      "source": [
        "#Show tree diagram\n",
        "\n",
        "treeModel = model.stages[-1]\n",
        "treeModel_debug_str = treeModel.toDebugString\n",
        "print(treeModel_debug_str)"
      ]
    }
  ],
  "metadata": {
    "colab": {
      "collapsed_sections": [],
      "name": "2_DecisionTree_Pipeline_Iris_toStudent.ipynb",
      "provenance": []
    },
    "kernelspec": {
      "display_name": "Python 3",
      "language": "python",
      "name": "python3"
    },
    "language_info": {
      "codemirror_mode": {
        "name": "ipython",
        "version": 3
      },
      "file_extension": ".py",
      "mimetype": "text/x-python",
      "name": "python",
      "nbconvert_exporter": "python",
      "pygments_lexer": "ipython3",
      "version": "3.10.8"
    },
    "vscode": {
      "interpreter": {
        "hash": "aee8b7b246df8f9039afb4144a1f6fd8d2ca17a180786b69acc140d282b71a49"
      }
    }
  },
  "nbformat": 4,
  "nbformat_minor": 0
}
