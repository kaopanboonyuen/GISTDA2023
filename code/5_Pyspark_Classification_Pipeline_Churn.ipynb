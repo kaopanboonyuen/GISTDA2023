{
 "cells": [
  {
   "cell_type": "markdown",
   "metadata": {
    "id": "LuJi8nfc0Z7u"
   },
   "source": [
    "# Spark Preparation\n",
    "We check if we are in Google Colab.  If this is the case, install all necessary packages.\n",
    "\n",
    "To run spark in Colab, we need to first install all the dependencies in Colab environment i.e. Apache Spark 3.2.1 with hadoop 3.2, Java 8 and Findspark to locate the spark in the system. The tools installation can be carried out inside the Jupyter Notebook of the Colab.\n",
    "Learn more from [A Must-Read Guide on How to Work with PySpark on Google Colab for Data Scientists!](https://www.analyticsvidhya.com/blog/2020/11/a-must-read-guide-on-how-to-work-with-pyspark-on-google-colab-for-data-scientists/)\n",
    "\n",
    "credit: Natawut Nupairoj"
   ]
  },
  {
   "cell_type": "code",
   "execution_count": null,
   "metadata": {
    "id": "ULwfUd7MSoCQ"
   },
   "outputs": [],
   "source": [
    "try:\n",
    "  import google.colab\n",
    "  IN_COLAB = True\n",
    "except:\n",
    "  IN_COLAB = False"
   ]
  },
  {
   "cell_type": "code",
   "execution_count": null,
   "metadata": {
    "id": "BGR_RJK5SpPa"
   },
   "outputs": [],
   "source": [
    "if IN_COLAB:\n",
    "    !apt-get install openjdk-8-jdk-headless -qq > /dev/null\n",
    "    !wget -q https://dlcdn.apache.org/spark/spark-3.2.1/spark-3.2.1-bin-hadoop3.2.tgz\n",
    "    !tar xf spark-3.2.1-bin-hadoop3.2.tgz\n",
    "    !mv spark-3.2.1-bin-hadoop3.2 spark\n",
    "    !pip install -q findspark"
   ]
  },
  {
   "cell_type": "code",
   "execution_count": null,
   "metadata": {
    "id": "DMyX10Mm0eCL"
   },
   "outputs": [],
   "source": [
    "if IN_COLAB:\n",
    "  import os\n",
    "  os.environ[\"JAVA_HOME\"] = \"/usr/lib/jvm/java-8-openjdk-amd64\"\n",
    "  os.environ[\"SPARK_HOME\"] = \"/content/spark\""
   ]
  },
  {
   "cell_type": "code",
   "execution_count": null,
   "metadata": {
    "id": "jSBEhn3A0flq"
   },
   "outputs": [],
   "source": [
    "import findspark\n",
    "findspark.init()"
   ]
  },
  {
   "cell_type": "markdown",
   "metadata": {
    "id": "_hlLTtzDSllE"
   },
   "source": [
    "# Pyspark_Classification_Pipeline_Churn"
   ]
  },
  {
   "cell_type": "code",
   "execution_count": null,
   "metadata": {
    "id": "eJ_YECvqSllF"
   },
   "outputs": [],
   "source": [
    "#1 - import module\n",
    "from pyspark import SparkContext\n",
    "from pyspark.sql import SparkSession\n",
    "from pyspark.conf import SparkConf\n",
    "from pyspark.ml import Pipeline, PipelineModel\n",
    "from pyspark.ml.classification import DecisionTreeClassifier, DecisionTreeClassificationModel\n",
    "from pyspark.ml.feature import StringIndexer, IndexToString, VectorAssembler\n",
    "from pyspark.ml.evaluation import MulticlassClassificationEvaluator\n",
    "from pyspark.ml.tuning import CrossValidator, ParamGridBuilder"
   ]
  },
  {
   "cell_type": "code",
   "execution_count": null,
   "metadata": {
    "id": "jN89pzgtSllK"
   },
   "outputs": [],
   "source": [
    "#2 - Create spark context\n",
    "sc = SparkContext.getOrCreate()"
   ]
  },
  {
   "cell_type": "code",
   "execution_count": null,
   "metadata": {
    "colab": {
     "base_uri": "https://localhost:8080/",
     "height": 198
    },
    "id": "9s0CkRFRSllM",
    "outputId": "8420cfb6-ec76-443b-f118-159eb1ee9dce"
   },
   "outputs": [],
   "source": [
    "sc"
   ]
  },
  {
   "cell_type": "code",
   "execution_count": null,
   "metadata": {
    "colab": {
     "base_uri": "https://localhost:8080/"
    },
    "id": "Iu6ptd5CSllZ",
    "outputId": "b2721610-6c5b-48d7-9bae-4c028de01954"
   },
   "outputs": [],
   "source": [
    "sc._conf.getAll()"
   ]
  },
  {
   "cell_type": "code",
   "execution_count": null,
   "metadata": {
    "colab": {
     "base_uri": "https://localhost:8080/"
    },
    "id": "xmHT5L7wSlld",
    "outputId": "0c130353-311c-48e9-99fd-ad0a50d965d1",
    "scrolled": true
   },
   "outputs": [],
   "source": [
    "print (sc.getConf().toDebugString())"
   ]
  },
  {
   "cell_type": "code",
   "execution_count": null,
   "metadata": {
    "colab": {
     "base_uri": "https://localhost:8080/"
    },
    "id": "BYQFI_84Sllm",
    "outputId": "f39ad495-5127-4a44-edb5-e64895ed3295"
   },
   "outputs": [],
   "source": [
    "#3 - Setup SparkSession(SparkSQL)\n",
    "spark = (SparkSession\n",
    "         .builder\n",
    "         .appName(\"Pyspark_Classification_Pipeline_Churn\")\n",
    "         .getOrCreate())\n",
    "print (spark)"
   ]
  },
  {
   "cell_type": "code",
   "execution_count": null,
   "metadata": {
    "colab": {
     "base_uri": "https://localhost:8080/"
    },
    "id": "ocrVwkag0i5c",
    "outputId": "4cfafdba-3c33-4bbf-dcca-92efe7da211c"
   },
   "outputs": [],
   "source": [
    "!wget https://github.com/kaopanboonyuen/GISTDA2022/raw/main/dataset/churn.csv"
   ]
  },
  {
   "cell_type": "code",
   "execution_count": null,
   "metadata": {
    "colab": {
     "base_uri": "https://localhost:8080/"
    },
    "id": "PcDQl2u7Sllu",
    "outputId": "805379b2-d22a-4061-a15b-99607858b416"
   },
   "outputs": [],
   "source": [
    "#4 - Read file to spark DataFrame\n",
    "data = (spark\n",
    "        .read\n",
    "        .option(\"header\",\"true\")\n",
    "        .option(\"inferSchema\", \"true\")\n",
    "        .csv(\"churn.csv\"))\n",
    "data.cache()\n",
    "print (\"finish caching data\")"
   ]
  },
  {
   "cell_type": "code",
   "execution_count": null,
   "metadata": {
    "colab": {
     "base_uri": "https://localhost:8080/"
    },
    "id": "V8__xrPqSllz",
    "outputId": "4700975d-ef72-4f74-e00a-9cbea43bf712"
   },
   "outputs": [],
   "source": [
    "#5 - Understand data and problems\n",
    "category = ['International plan','Voice mail plan']\n",
    "continuous = ['Number vmail messages','Total day minutes','Total day calls','Total day charge','Total eve minutes','Total eve calls','Total eve charge','Total night minutes','Total night calls','Total night charge','Total intl minutes','Total intl calls','Total intl charge','Customer service calls']\n",
    "label = 'churn'\n",
    "\n",
    "unique_features = ['State','Account length','Area code']\n",
    "unused_features = ['Total day charge','Total eve charge','Total night charge','Total intl charge']\n",
    "#bcz charges computed from minutes / 22.2252\n",
    "\n",
    "print (len(category) + len(continuous))\n"
   ]
  },
  {
   "cell_type": "code",
   "execution_count": null,
   "metadata": {
    "colab": {
     "base_uri": "https://localhost:8080/",
     "height": 305
    },
    "id": "AUEpCLX0Sll3",
    "outputId": "4ad1b150-ad6a-40ad-e68b-4424086814a0"
   },
   "outputs": [],
   "source": [
    "data.describe().toPandas()"
   ]
  },
  {
   "cell_type": "code",
   "execution_count": null,
   "metadata": {
    "colab": {
     "base_uri": "https://localhost:8080/"
    },
    "id": "U_s9t_YkSll7",
    "outputId": "e65643a8-c421-4a45-98a2-ac8d39bc3692"
   },
   "outputs": [],
   "source": [
    "data.printSchema()"
   ]
  },
  {
   "cell_type": "code",
   "execution_count": null,
   "metadata": {
    "colab": {
     "base_uri": "https://localhost:8080/",
     "height": 285
    },
    "id": "5TP6d6f5SlmG",
    "outputId": "a2121952-ab5f-4b1a-dd0c-07beb8de1f4f"
   },
   "outputs": [],
   "source": [
    "data.sample(False, 0.001, 1234).toPandas()"
   ]
  },
  {
   "cell_type": "code",
   "execution_count": null,
   "metadata": {
    "colab": {
     "base_uri": "https://localhost:8080/",
     "height": 112
    },
    "id": "W7roK5KvSlmL",
    "outputId": "e125c9f2-0b22-41ad-dc1a-29c35d8bd2b8"
   },
   "outputs": [],
   "source": [
    "data.groupBy(label).count().toPandas()"
   ]
  },
  {
   "cell_type": "code",
   "execution_count": null,
   "metadata": {
    "colab": {
     "base_uri": "https://localhost:8080/"
    },
    "id": "KZon6uJfSlmO",
    "outputId": "14e2b750-ed23-4659-a288-41bbf10ccdec"
   },
   "outputs": [],
   "source": [
    "#6 - Change column type from boolean to string\n",
    "data.select(label).printSchema()\n",
    "data = data.withColumn(label, data[label].cast(\"string\"))\n",
    "data.select(label).printSchema()"
   ]
  },
  {
   "cell_type": "code",
   "execution_count": null,
   "metadata": {
    "colab": {
     "base_uri": "https://localhost:8080/"
    },
    "id": "dE6z_JmpSlma",
    "outputId": "9f403187-4223-45c1-fa94-5966fe1c3e25"
   },
   "outputs": [],
   "source": [
    "#8 - Remove unused variables\n",
    "print (\"number of features : \" + str(len(data.drop(label).head())))\n",
    "for unused_feature in unique_features + unused_features:\n",
    "    print (unused_feature)\n",
    "    data = data.drop(unused_feature)\n",
    "print (\"\\nnumber of features remain : \" + str(len(data.drop(label).head())))\n",
    "\n",
    "\n",
    "category = [feature for feature in category if feature not in (unique_features + unused_features)]\n",
    "continuous = [feature for feature in continuous if feature not in (unique_features + unused_features)]\n",
    "\n",
    "print (\"\\nnumber of features remain : \" + str(len(category) + len(continuous)))"
   ]
  },
  {
   "cell_type": "code",
   "execution_count": null,
   "metadata": {
    "colab": {
     "base_uri": "https://localhost:8080/"
    },
    "id": "EmU9qCllSlmh",
    "outputId": "e08a864b-d876-4862-861a-4c0ccbfd0c19"
   },
   "outputs": [],
   "source": [
    "#9 - split Train and Test data\n",
    "data = data.sort(label)\n",
    "(trainingData, testData) = data.randomSplit([0.7, 0.3],seed = 50)\n",
    "\n",
    "print(type(data))\n",
    "print(type(trainingData))\n",
    "print(type(testData))\n",
    "\n",
    "print (\"data count : \" + str(data.count()))\n",
    "print (\"trainingData count : \" + str(trainingData.count()))\n",
    "print (\"testData count : \" + str(testData.count()))\n",
    "\n",
    "data.groupBy(label).count().show()\n",
    "trainingData.groupBy(label).count().show()\n",
    "testData.groupBy(label).count().show()"
   ]
  },
  {
   "cell_type": "code",
   "execution_count": null,
   "metadata": {
    "colab": {
     "base_uri": "https://localhost:8080/"
    },
    "id": "dRS4BS7kSlmp",
    "outputId": "830b7386-e71f-4a1e-ad47-65208b583867"
   },
   "outputs": [],
   "source": [
    "#10 - String indexer\n",
    "featureidx_list = [StringIndexer(inputCol = label, outputCol='label')]\n",
    "featureidx_list += [StringIndexer(inputCol = c, outputCol=c + 'idx') for c in category]\n",
    "\n",
    "print (featureidx_list)"
   ]
  },
  {
   "cell_type": "code",
   "execution_count": null,
   "metadata": {
    "colab": {
     "base_uri": "https://localhost:8080/"
    },
    "id": "KUCtS0BXSlmt",
    "outputId": "8e542b93-30ec-4a31-fff0-4ce0985df72b"
   },
   "outputs": [],
   "source": [
    "#11 - Create Vector\n",
    "features = continuous + [c + 'idx' for c in category]\n",
    "assem =  VectorAssembler(inputCols = features ,outputCol=\"features\")\n",
    "\n",
    "print (type(assem))"
   ]
  },
  {
   "cell_type": "code",
   "execution_count": null,
   "metadata": {
    "colab": {
     "base_uri": "https://localhost:8080/"
    },
    "id": "eVdQG9FaSlm5",
    "outputId": "1ae3a617-4d43-4ec3-b3c6-245169094ecc"
   },
   "outputs": [],
   "source": [
    "#12 - Create model\n",
    "dt = DecisionTreeClassifier(labelCol=\"label\", featuresCol=\"features\")\n",
    "\n",
    "print (dt)\n"
   ]
  },
  {
   "cell_type": "code",
   "execution_count": null,
   "metadata": {
    "colab": {
     "base_uri": "https://localhost:8080/"
    },
    "id": "QcgxquKDSlm_",
    "outputId": "85844042-9943-4c8e-d326-efbdfbe9620e"
   },
   "outputs": [],
   "source": [
    "#13 - Set ML pipeline\n",
    "print (featureidx_list)\n",
    "print (assem)\n",
    "print (dt)\n",
    "print (\"\\n\")\n",
    "\n",
    "all_process_list = featureidx_list + [assem,dt]\n",
    "print (all_process_list)\n",
    "\n",
    "pipeline = Pipeline(stages=all_process_list)\n",
    "print (\"\\n\")\n",
    "print (pipeline)\n"
   ]
  },
  {
   "cell_type": "code",
   "execution_count": null,
   "metadata": {
    "id": "hK5egbhaSlnF"
   },
   "outputs": [],
   "source": [
    "#14 - Train model\n",
    "model = pipeline.fit(trainingData)\n",
    "#predictions.cache()"
   ]
  },
  {
   "cell_type": "code",
   "execution_count": null,
   "metadata": {
    "colab": {
     "base_uri": "https://localhost:8080/"
    },
    "id": "sjVh6tJtSlnP",
    "outputId": "ecd000c0-d971-423f-ebc1-07b000f72cbf"
   },
   "outputs": [],
   "source": [
    "#15 - (Optional) Assign multiple parameter lists used to train multiple models\n",
    "paramGrid = (ParamGridBuilder()\n",
    "    .addGrid(dt.maxDepth, [4,5,6])\n",
    "     .addGrid(dt.minInstancesPerNode, [1,10])\n",
    "     .addGrid(dt.impurity, [\"gini\",\"entropy\"])        \n",
    "    .build())\n",
    "\n",
    "for param in paramGrid:\n",
    "    print (param)\n",
    "    print (\"\\n\\n\")"
   ]
  },
  {
   "cell_type": "code",
   "execution_count": null,
   "metadata": {
    "id": "qzY0BaQOSlna"
   },
   "outputs": [],
   "source": [
    "# #16 - (Optional) Train multiple models with multiple parameters\n",
    "# crossval = CrossValidator(estimator=pipeline,\n",
    "#                       estimatorParamMaps=paramGrid,\n",
    "#                       evaluator=MulticlassClassificationEvaluator(labelCol=\"label\", predictionCol=\"prediction\", metricName=\"f1\"),\n",
    "#                       numFolds=3)\n",
    "# cvModel = crossval.fit(trainingData)\n",
    "# model = cvModel.bestModel\n",
    "\n",
    "# print (model)"
   ]
  },
  {
   "cell_type": "code",
   "execution_count": null,
   "metadata": {
    "id": "pW-vfaP7Slnf",
    "scrolled": true
   },
   "outputs": [],
   "source": [
    "#17 - Make predictions\n",
    "predictions = model.transform(testData)"
   ]
  },
  {
   "cell_type": "code",
   "execution_count": null,
   "metadata": {
    "colab": {
     "base_uri": "https://localhost:8080/",
     "height": 849
    },
    "id": "sDW7coJRSlnj",
    "outputId": "64305ef2-aed8-48fc-a714-8e8b4789fc4b"
   },
   "outputs": [],
   "source": [
    "# Print sample result\n",
    "predictions.toPandas()"
   ]
  },
  {
   "cell_type": "code",
   "execution_count": null,
   "metadata": {
    "colab": {
     "base_uri": "https://localhost:8080/",
     "height": 424
    },
    "id": "yVutOfTBSlnt",
    "outputId": "c178c25b-cf6d-4d6d-864b-d2faef7b0937"
   },
   "outputs": [],
   "source": [
    "# Print sample result\n",
    "predictions.select(\"prediction\", \"rawPrediction\", \"probability\", \"label\", \"features\").toPandas()"
   ]
  },
  {
   "cell_type": "code",
   "execution_count": null,
   "metadata": {
    "colab": {
     "base_uri": "https://localhost:8080/"
    },
    "id": "ARvn3Zq6Slny",
    "outputId": "ace3160d-6b88-4d69-e6a2-6018aa971c06"
   },
   "outputs": [],
   "source": [
    "#18 - Evaluate model\n",
    "for metricName in ['accuracy','weightedPrecision','weightedRecall','f1']:\n",
    "    evaluator = MulticlassClassificationEvaluator(labelCol=\"label\", predictionCol=\"prediction\", metricName=metricName)\n",
    "    result = evaluator.evaluate(predictions)\n",
    "    print ('%s = %g' % (metricName,result))\n",
    "    if(metricName == 'accuracy') :\n",
    "        print(\"error = %g \" % (1.0 - result))\n"
   ]
  },
  {
   "cell_type": "code",
   "execution_count": null,
   "metadata": {
    "colab": {
     "base_uri": "https://localhost:8080/"
    },
    "id": "nDRit9dySln1",
    "outputId": "552d6526-d6e4-47e8-c21f-9243dbd899e9",
    "scrolled": true
   },
   "outputs": [],
   "source": [
    "#19 - Show tree diagram\n",
    "treeModel = model.stages[-1]\n",
    "treeModel_debug_str = treeModel.toDebugString\n",
    "print (treeModel_debug_str)\n"
   ]
  },
  {
   "cell_type": "code",
   "execution_count": null,
   "metadata": {
    "colab": {
     "base_uri": "https://localhost:8080/"
    },
    "id": "2BQD-3TsSln8",
    "outputId": "d9b6bd19-d3bd-4d8c-f5e0-04fe6b210738"
   },
   "outputs": [],
   "source": [
    "#20 - Save model\n",
    "model_dir = \"/user/admin/\"\n",
    "modelFile = \"dt_churn\"\n",
    "\n",
    "#Save model as Pipeline model format\n",
    "model.write().overwrite().save(model_dir + modelFile +\".plmodel\")\n",
    "\n",
    "#Save model as DecisionTree model format\n",
    "treeModel.write().overwrite().save(model_dir + modelFile +\".model\")\n",
    "\n",
    "print (\"finish save model\")\n"
   ]
  },
  {
   "cell_type": "code",
   "execution_count": null,
   "metadata": {
    "colab": {
     "base_uri": "https://localhost:8080/"
    },
    "id": "esK5X6JgSloB",
    "outputId": "afc392bf-befa-42e4-b0b3-bd0540dc0409"
   },
   "outputs": [],
   "source": [
    "#21 - Load Pipeline model\n",
    "read_plmodel = PipelineModel.read().load(model_dir + modelFile + \".plmodel\")\n",
    "print (read_plmodel.stages)\n"
   ]
  },
  {
   "cell_type": "code",
   "execution_count": null,
   "metadata": {
    "colab": {
     "base_uri": "https://localhost:8080/"
    },
    "id": "YK0BPBiRSloE",
    "outputId": "7eb924d3-51ec-40dc-973f-32e04506c9cb"
   },
   "outputs": [],
   "source": [
    "#22 - Load DecisionTree model\n",
    "read_model = DecisionTreeClassificationModel.read().load(model_dir + modelFile + \".model\")\n",
    "print (\"depth : \" + str(read_model.depth))\n",
    "print (\"numNodes : \" + str(read_model.numNodes))\n",
    "print (\"featureImportances : \" + str(read_model.featureImportances))\n",
    "\n",
    "\n",
    "#these lines avaiable for Spark2.1 or above\n",
    "#print readed_model.numClasses  \n",
    "#print readed_model.numFeatures\n"
   ]
  },
  {
   "cell_type": "code",
   "execution_count": null,
   "metadata": {
    "id": "aZHSBSCTSloI"
   },
   "outputs": [],
   "source": []
  }
 ],
 "metadata": {
  "colab": {
   "collapsed_sections": [],
   "name": "5_Pyspark_Classification_Pipeline_Churn.ipynb",
   "provenance": []
  },
  "kernelspec": {
   "display_name": "Python 3",
   "language": "python",
   "name": "python3"
  },
  "language_info": {
   "codemirror_mode": {
    "name": "ipython",
    "version": 3
   },
   "file_extension": ".py",
   "mimetype": "text/x-python",
   "name": "python",
   "nbconvert_exporter": "python",
   "pygments_lexer": "ipython3",
   "version": "3.8.3"
  },
  "toc": {
   "base_numbering": 1,
   "nav_menu": {},
   "number_sections": true,
   "sideBar": true,
   "skip_h1_title": false,
   "title_cell": "Table of Contents",
   "title_sidebar": "Contents",
   "toc_cell": false,
   "toc_position": {},
   "toc_section_display": true,
   "toc_window_display": false
  }
 },
 "nbformat": 4,
 "nbformat_minor": 1
}
