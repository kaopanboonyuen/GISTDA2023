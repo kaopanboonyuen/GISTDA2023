{
 "cells": [
  {
   "cell_type": "code",
   "execution_count": null,
   "id": "challenging-vessel",
   "metadata": {},
   "outputs": [],
   "source": [
    "import pandas as pd\n",
    "import re"
   ]
  },
  {
   "cell_type": "code",
   "execution_count": null,
   "id": "sustainable-upgrade",
   "metadata": {},
   "outputs": [],
   "source": [
    "df = pd.read_csv('GISTDA_2021_raw.csv', low_memory=False)"
   ]
  },
  {
   "cell_type": "code",
   "execution_count": null,
   "id": "silent-island",
   "metadata": {},
   "outputs": [],
   "source": [
    "df['text'] = df['text'].apply(lambda x: re.sub('[\\n\\t\\r]',' ',str(x)))"
   ]
  },
  {
   "cell_type": "code",
   "execution_count": null,
   "id": "hundred-adaptation",
   "metadata": {},
   "outputs": [],
   "source": [
    "df.head()"
   ]
  },
  {
   "cell_type": "code",
   "execution_count": null,
   "id": "prepared-debut",
   "metadata": {},
   "outputs": [],
   "source": [
    "countries = pd.read_csv('countries.csv')"
   ]
  },
  {
   "cell_type": "code",
   "execution_count": null,
   "id": "minute-professional",
   "metadata": {},
   "outputs": [],
   "source": [
    "countries"
   ]
  },
  {
   "cell_type": "code",
   "execution_count": null,
   "id": "ordinary-armenia",
   "metadata": {},
   "outputs": [],
   "source": [
    "merge_df = df.merge(right=countries, how='left', on='country')"
   ]
  },
  {
   "cell_type": "code",
   "execution_count": null,
   "id": "aboriginal-induction",
   "metadata": {},
   "outputs": [],
   "source": [
    "merge_df.loc[merge_df['latitude_x'].isna(),'latitude'] = merge_df['latitude_y']"
   ]
  },
  {
   "cell_type": "code",
   "execution_count": null,
   "id": "loose-wyoming",
   "metadata": {},
   "outputs": [],
   "source": [
    "merge_df.loc[merge_df['latitude_x'].notna(),'latitude'] = merge_df['latitude_x']"
   ]
  },
  {
   "cell_type": "code",
   "execution_count": null,
   "id": "seven-arctic",
   "metadata": {},
   "outputs": [],
   "source": [
    "merge_df.loc[merge_df['longitude_x'].isna(),'longitude'] = merge_df['longitude_y']"
   ]
  },
  {
   "cell_type": "code",
   "execution_count": null,
   "id": "sized-spank",
   "metadata": {},
   "outputs": [],
   "source": [
    "merge_df.loc[merge_df['longitude_x'].notna(),'longitude'] = merge_df['longitude_x']"
   ]
  },
  {
   "cell_type": "code",
   "execution_count": null,
   "id": "viral-table",
   "metadata": {},
   "outputs": [],
   "source": [
    "merge_df.loc[merge_df['country_code_x'].isna(),'country_code'] = merge_df['country_code_y']"
   ]
  },
  {
   "cell_type": "code",
   "execution_count": null,
   "id": "retained-applicant",
   "metadata": {},
   "outputs": [],
   "source": [
    "merge_df.loc[merge_df['country_code_x'].notna(),'country_code'] = merge_df['country_code_x']"
   ]
  },
  {
   "cell_type": "code",
   "execution_count": null,
   "id": "unlikely-satellite",
   "metadata": {},
   "outputs": [],
   "source": [
    "merge_df = merge_df.drop(['latitude_x','longitude_x','country_code_x','latitude_y','longitude_y','country_code_y'],axis=1)"
   ]
  },
  {
   "cell_type": "code",
   "execution_count": null,
   "id": "driving-trade",
   "metadata": {},
   "outputs": [],
   "source": [
    "merge_df = merge_df[merge_df['latitude'].notna()]"
   ]
  },
  {
   "cell_type": "code",
   "execution_count": null,
   "id": "institutional-geography",
   "metadata": {},
   "outputs": [],
   "source": [
    "merge_df"
   ]
  },
  {
   "cell_type": "code",
   "execution_count": null,
   "id": "facial-groove",
   "metadata": {},
   "outputs": [],
   "source": [
    "merge_df.to_csv('GISTDA_2021_transformed.csv',index=False)"
   ]
  },
  {
   "cell_type": "code",
   "execution_count": null,
   "id": "gentle-biodiversity",
   "metadata": {},
   "outputs": [],
   "source": []
  }
 ],
 "metadata": {
  "kernelspec": {
   "display_name": "Python 3",
   "language": "python",
   "name": "python3"
  },
  "language_info": {
   "codemirror_mode": {
    "name": "ipython",
    "version": 3
   },
   "file_extension": ".py",
   "mimetype": "text/x-python",
   "name": "python",
   "nbconvert_exporter": "python",
   "pygments_lexer": "ipython3",
   "version": "3.6.8"
  }
 },
 "nbformat": 4,
 "nbformat_minor": 5
}
