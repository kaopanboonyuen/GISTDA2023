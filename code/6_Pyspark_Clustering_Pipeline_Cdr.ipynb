{
 "cells": [
  {
   "cell_type": "markdown",
   "metadata": {
    "id": "P_ipspAz0rBX"
   },
   "source": [
    "# Spark Preparation\n",
    "We check if we are in Google Colab.  If this is the case, install all necessary packages.\n",
    "\n",
    "To run spark in Colab, we need to first install all the dependencies in Colab environment i.e. Apache Spark 3.2.1 with hadoop 3.2, Java 8 and Findspark to locate the spark in the system. The tools installation can be carried out inside the Jupyter Notebook of the Colab.\n",
    "Learn more from [A Must-Read Guide on How to Work with PySpark on Google Colab for Data Scientists!](https://www.analyticsvidhya.com/blog/2020/11/a-must-read-guide-on-how-to-work-with-pyspark-on-google-colab-for-data-scientists/)\n",
    "\n",
    "credit: Natawut Nupairoj"
   ]
  },
  {
   "cell_type": "code",
   "execution_count": null,
   "metadata": {
    "id": "kt69o-zSTWJ4"
   },
   "outputs": [],
   "source": [
    "try:\n",
    "  import google.colab\n",
    "  IN_COLAB = True\n",
    "except:\n",
    "  IN_COLAB = False"
   ]
  },
  {
   "cell_type": "code",
   "execution_count": null,
   "metadata": {
    "id": "VeCDS-o4TXYf"
   },
   "outputs": [],
   "source": [
    "if IN_COLAB:\n",
    "    !apt-get install openjdk-8-jdk-headless -qq > /dev/null\n",
    "    !wget -q https://dlcdn.apache.org/spark/spark-3.2.1/spark-3.2.1-bin-hadoop3.2.tgz\n",
    "    !tar xf spark-3.2.1-bin-hadoop3.2.tgz\n",
    "    !mv spark-3.2.1-bin-hadoop3.2 spark\n",
    "    !pip install -q findspark"
   ]
  },
  {
   "cell_type": "code",
   "execution_count": null,
   "metadata": {
    "id": "dnmxISc10uR-"
   },
   "outputs": [],
   "source": [
    "if IN_COLAB:\n",
    "  import os\n",
    "  os.environ[\"JAVA_HOME\"] = \"/usr/lib/jvm/java-8-openjdk-amd64\"\n",
    "  os.environ[\"SPARK_HOME\"] = \"/content/spark\""
   ]
  },
  {
   "cell_type": "code",
   "execution_count": null,
   "metadata": {
    "id": "FS967oPi0uHx"
   },
   "outputs": [],
   "source": [
    "import findspark\n",
    "findspark.init()"
   ]
  },
  {
   "cell_type": "markdown",
   "metadata": {
    "id": "o-kdwpk-TUpL"
   },
   "source": [
    "# Pyspark_Clustering_Pipeline_Cdr"
   ]
  },
  {
   "cell_type": "code",
   "execution_count": null,
   "metadata": {
    "id": "cWvtTPTaTUpN"
   },
   "outputs": [],
   "source": [
    "#1 - import module\n",
    "from pyspark import SparkContext,SparkConf\n",
    "from pyspark.sql import SparkSession\n",
    "from pyspark.ml import Pipeline\n",
    "from pyspark.ml.clustering import KMeans\n",
    "from pyspark.ml.feature import VectorAssembler,MaxAbsScaler"
   ]
  },
  {
   "cell_type": "code",
   "execution_count": null,
   "metadata": {
    "id": "PQEzDaJnTUpR"
   },
   "outputs": [],
   "source": [
    "#2 - Create SparkContext\n",
    "from pyspark import SparkContext\n",
    "\n",
    "sc = SparkContext.getOrCreate()"
   ]
  },
  {
   "cell_type": "code",
   "execution_count": null,
   "metadata": {
    "colab": {
     "base_uri": "https://localhost:8080/",
     "height": 198
    },
    "id": "xAB-Dur0TUpW",
    "outputId": "baa3ca46-3699-4a0f-d6d5-d8c38c28d0a7"
   },
   "outputs": [],
   "source": [
    "sc"
   ]
  },
  {
   "cell_type": "code",
   "execution_count": null,
   "metadata": {
    "colab": {
     "base_uri": "https://localhost:8080/"
    },
    "id": "RU2N8mYLTUpd",
    "outputId": "265596ce-40ca-4b91-92cc-e02c9f0dc660"
   },
   "outputs": [],
   "source": [
    "sc._conf.getAll()"
   ]
  },
  {
   "cell_type": "code",
   "execution_count": null,
   "metadata": {
    "colab": {
     "base_uri": "https://localhost:8080/"
    },
    "id": "SIpKmQ0QTUpg",
    "outputId": "f2396205-517a-48b8-fa8b-26eea20d7e3b"
   },
   "outputs": [],
   "source": [
    "print  (sc.getConf().toDebugString())"
   ]
  },
  {
   "cell_type": "code",
   "execution_count": null,
   "metadata": {
    "colab": {
     "base_uri": "https://localhost:8080/"
    },
    "id": "CXxXK_1-TUpm",
    "outputId": "3bc62623-20b1-4509-f3a5-963068e82a20"
   },
   "outputs": [],
   "source": [
    "#3 - Setup SparkSession(SparkSQL)\n",
    "spark = (SparkSession\n",
    "         .builder\n",
    "         .appName(\"Pyspark_Clustering_Pipeline_Cdr\")\n",
    "         .getOrCreate())\n",
    "print (spark)"
   ]
  },
  {
   "cell_type": "code",
   "execution_count": null,
   "metadata": {
    "colab": {
     "base_uri": "https://localhost:8080/"
    },
    "id": "WbexQJ9F00E3",
    "outputId": "b1a238c6-0ce5-4edd-f97b-89b510879862"
   },
   "outputs": [],
   "source": [
    "!wget https://github.com/kaopanboonyuen/GISTDA2022/raw/main/dataset/cdr_extractFeatures.csv"
   ]
  },
  {
   "cell_type": "code",
   "execution_count": null,
   "metadata": {
    "colab": {
     "base_uri": "https://localhost:8080/"
    },
    "id": "adKrBQpCTUpp",
    "outputId": "6a94b31e-f5c5-4c3b-fe38-b5036817bdc6"
   },
   "outputs": [],
   "source": [
    "#4 - Read file to spark DataFrame\n",
    "\n",
    "data = (spark\n",
    "        .read\n",
    "        .option(\"header\",\"true\")\n",
    "        .option(\"inferSchema\", \"true\")\n",
    "        .csv(\"cdr_extractFeatures.csv\"))\n",
    "data.cache()\n",
    "print (\"finish caching data\")"
   ]
  },
  {
   "cell_type": "code",
   "execution_count": null,
   "metadata": {
    "colab": {
     "base_uri": "https://localhost:8080/",
     "height": 206
    },
    "id": "nx-e7mc5TUpt",
    "outputId": "34c8c73f-9171-408e-c097-e219ee6654f1"
   },
   "outputs": [],
   "source": [
    "data.describe().toPandas()"
   ]
  },
  {
   "cell_type": "code",
   "execution_count": null,
   "metadata": {
    "colab": {
     "base_uri": "https://localhost:8080/"
    },
    "id": "XkmLhAizTUpw",
    "outputId": "3eb0bda6-c06d-4894-cb7e-be4c449ed782"
   },
   "outputs": [],
   "source": [
    "data.printSchema()"
   ]
  },
  {
   "cell_type": "code",
   "execution_count": null,
   "metadata": {
    "colab": {
     "base_uri": "https://localhost:8080/",
     "height": 424
    },
    "id": "NK2fE67uTUp1",
    "outputId": "a581cee9-8ac1-4eff-a306-d486c8272262"
   },
   "outputs": [],
   "source": [
    "data.toPandas()"
   ]
  },
  {
   "cell_type": "code",
   "execution_count": null,
   "metadata": {
    "id": "a1yQqwzsTUp4"
   },
   "outputs": [],
   "source": [
    "#5 - Print sample 5 rows of all variables\n",
    "column_name = [\"no_CallIn_Unique\",\"no_CallOut_Unique\",\"no_CallIn\",\"no_CallOut\"\n",
    "               ,\"avg_CallIn_Length\",\"avg_CallOut_Length\",\"avg_Call_Length\"]"
   ]
  },
  {
   "cell_type": "code",
   "execution_count": null,
   "metadata": {
    "colab": {
     "base_uri": "https://localhost:8080/"
    },
    "id": "3qYf7GvmTUp7",
    "outputId": "ad54e8f4-9092-427b-e668-eaaf65ae6570"
   },
   "outputs": [],
   "source": [
    "#6 - Create Vector\n",
    "assem =  VectorAssembler(inputCols=column_name ,outputCol=\"temp_features\")\n",
    "\n",
    "print (assem)"
   ]
  },
  {
   "cell_type": "code",
   "execution_count": null,
   "metadata": {
    "colab": {
     "base_uri": "https://localhost:8080/"
    },
    "id": "3z7h9jIQTUp-",
    "outputId": "9931c2e8-1209-40f0-d480-8b482dcd9fc3"
   },
   "outputs": [],
   "source": [
    "#7 - Normalize\n",
    "scaler = MaxAbsScaler(inputCol=\"temp_features\", outputCol=\"features\")\n",
    "\n",
    "print (scaler)"
   ]
  },
  {
   "cell_type": "code",
   "execution_count": null,
   "metadata": {
    "id": "pgJ13-RpTUqE"
   },
   "outputs": [],
   "source": [
    "#8 - Create model\n",
    "kmeans = KMeans().setK(3).setSeed(50)"
   ]
  },
  {
   "cell_type": "code",
   "execution_count": null,
   "metadata": {
    "colab": {
     "base_uri": "https://localhost:8080/"
    },
    "id": "zVyoen5yTUqH",
    "outputId": "f8ce02af-348e-4c3e-c397-261446502726"
   },
   "outputs": [],
   "source": [
    "#9 - Set ML pipeline\n",
    "all_process_list = [assem,scaler,kmeans]\n",
    "for process in all_process_list: print(process)\n",
    "\n",
    "pipeline = Pipeline(stages=all_process_list)\n",
    "print (pipeline)"
   ]
  },
  {
   "cell_type": "code",
   "execution_count": null,
   "metadata": {
    "id": "M8R-uIAATUqM"
   },
   "outputs": [],
   "source": [
    "#10 - Train model\n",
    "model = pipeline.fit(data)"
   ]
  },
  {
   "cell_type": "code",
   "execution_count": null,
   "metadata": {
    "colab": {
     "base_uri": "https://localhost:8080/"
    },
    "id": "od2hLPdBTUqQ",
    "outputId": "8fca6ad4-473e-4253-ee60-39e71011c324"
   },
   "outputs": [],
   "source": [
    "#11 - Make predictions\n",
    "predictions = model.transform(data).select(\"features\",\"prediction\")\n",
    "predictions.cache()"
   ]
  },
  {
   "cell_type": "code",
   "execution_count": null,
   "metadata": {
    "colab": {
     "base_uri": "https://localhost:8080/",
     "height": 424
    },
    "id": "ZDWAaWULTUqU",
    "outputId": "e6982d71-7ed7-494c-ee94-d3a9bbfc8c37"
   },
   "outputs": [],
   "source": [
    "# Print sample result\n",
    "predictions.sample(False, 0.3, 1234).toPandas()"
   ]
  },
  {
   "cell_type": "code",
   "execution_count": null,
   "metadata": {
    "colab": {
     "base_uri": "https://localhost:8080/"
    },
    "id": "5Vur_2MSTUqe",
    "outputId": "e8d61c76-fa83-40d6-dd3b-7e6ad14bddfe"
   },
   "outputs": [],
   "source": [
    "#12 Shows Cluster's Center\n",
    "centers = model.stages[2].clusterCenters()\n",
    "\n",
    "scaler_model = model.stages[-2]\n",
    "max = scaler_model.maxAbs\n",
    "print(\"Cluster Centers: \")\n",
    "for center in centers:\n",
    "    print(center*max)"
   ]
  },
  {
   "cell_type": "code",
   "execution_count": null,
   "metadata": {
    "id": "iIC2x-BoidM0"
   },
   "outputs": [],
   "source": []
  }
 ],
 "metadata": {
  "colab": {
   "collapsed_sections": [],
   "name": "6_Pyspark_Clustering_Pipeline_Cdr.ipynb",
   "provenance": []
  },
  "kernelspec": {
   "display_name": "Python 3",
   "language": "python",
   "name": "python3"
  },
  "language_info": {
   "codemirror_mode": {
    "name": "ipython",
    "version": 3
   },
   "file_extension": ".py",
   "mimetype": "text/x-python",
   "name": "python",
   "nbconvert_exporter": "python",
   "pygments_lexer": "ipython3",
   "version": "3.8.3"
  },
  "toc": {
   "base_numbering": 1,
   "nav_menu": {},
   "number_sections": true,
   "sideBar": true,
   "skip_h1_title": false,
   "title_cell": "Table of Contents",
   "title_sidebar": "Contents",
   "toc_cell": false,
   "toc_position": {},
   "toc_section_display": true,
   "toc_window_display": false
  }
 },
 "nbformat": 4,
 "nbformat_minor": 1
}
