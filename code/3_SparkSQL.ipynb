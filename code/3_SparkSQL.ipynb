{
 "cells": [
  {
   "cell_type": "markdown",
   "metadata": {
    "id": "vZYmUUGRuIg1"
   },
   "source": [
    "# Spark Preparation\n",
    "We check if we are in Google Colab.  If this is the case, install all necessary packages.\n",
    "\n",
    "To run spark in Colab, we need to first install all the dependencies in Colab environment i.e. Apache Spark 3.2.1 with hadoop 3.2, Java 8 and Findspark to locate the spark in the system. The tools installation can be carried out inside the Jupyter Notebook of the Colab.\n",
    "Learn more from [A Must-Read Guide on How to Work with PySpark on Google Colab for Data Scientists!](https://www.analyticsvidhya.com/blog/2020/11/a-must-read-guide-on-how-to-work-with-pyspark-on-google-colab-for-data-scientists/)"
   ]
  },
  {
   "cell_type": "code",
   "execution_count": null,
   "metadata": {
    "id": "ExYymIWJuIg_"
   },
   "outputs": [],
   "source": [
    "try:\n",
    "  import google.colab\n",
    "  IN_COLAB = True\n",
    "except:\n",
    "  IN_COLAB = False"
   ]
  },
  {
   "cell_type": "code",
   "execution_count": null,
   "metadata": {
    "id": "gezOG6MiuIhB"
   },
   "outputs": [],
   "source": [
    "if IN_COLAB:\n",
    "    !apt-get install openjdk-8-jdk-headless -qq > /dev/null\n",
    "    !wget -q https://dlcdn.apache.org/spark/spark-3.2.1/spark-3.2.1-bin-hadoop3.2.tgz\n",
    "    !tar xf spark-3.2.1-bin-hadoop3.2.tgz\n",
    "    !mv spark-3.2.1-bin-hadoop3.2 spark\n",
    "    !pip install -q findspark"
   ]
  },
  {
   "cell_type": "code",
   "execution_count": null,
   "metadata": {
    "id": "r7JUdnC7uIhC"
   },
   "outputs": [],
   "source": [
    "if IN_COLAB:\n",
    "  import os\n",
    "  os.environ[\"JAVA_HOME\"] = \"/usr/lib/jvm/java-8-openjdk-amd64\"\n",
    "  os.environ[\"SPARK_HOME\"] = \"/content/spark\""
   ]
  },
  {
   "cell_type": "markdown",
   "metadata": {
    "id": "8OtyMyTOuIhD"
   },
   "source": [
    "# Start a Local Cluster\n",
    "Use findspark.init() to start a local cluster.  If you plan to use remote cluster, skip the findspark.init() and change the cluster_url according."
   ]
  },
  {
   "cell_type": "code",
   "execution_count": null,
   "metadata": {
    "id": "-wMS2LmVuIhE"
   },
   "outputs": [],
   "source": [
    "import findspark\n",
    "findspark.init()"
   ]
  },
  {
   "cell_type": "code",
   "execution_count": null,
   "metadata": {
    "id": "3HWQm8NYuIhE"
   },
   "outputs": [],
   "source": [
    "cluster_url = 'local'"
   ]
  },
  {
   "cell_type": "code",
   "execution_count": null,
   "metadata": {
    "id": "X1Umd4VauIhF"
   },
   "outputs": [],
   "source": [
    "from pyspark.sql import SparkSession"
   ]
  },
  {
   "cell_type": "code",
   "execution_count": null,
   "metadata": {
    "id": "IW713i9wuIhG"
   },
   "outputs": [],
   "source": [
    "spark = SparkSession.builder\\\n",
    "        .master(cluster_url)\\\n",
    "        .appName('SparkSQL')\\\n",
    "        .getOrCreate()"
   ]
  },
  {
   "cell_type": "markdown",
   "metadata": {
    "id": "MKX-Oo1VuIhH"
   },
   "source": [
    "# Spark SQL Data Preparation\n",
    "\n",
    "First, we read a csv file.  We can provide option such as delimiter and header.  We then rename the colume names to remove dot ('.') in the names."
   ]
  },
  {
   "cell_type": "code",
   "execution_count": null,
   "metadata": {
    "colab": {
     "base_uri": "https://localhost:8080/"
    },
    "id": "ZjeU4JVduIhI",
    "outputId": "63049ffe-10ea-4581-9e5d-4be49b30836a"
   },
   "outputs": [],
   "source": [
    "!wget https://github.com/kaopanboonyuen/2110446_DataScience_2021s2/raw/main/code/week9_spark/bank-additional-full.csv -O bank-additional-full.csv"
   ]
  },
  {
   "cell_type": "code",
   "execution_count": null,
   "metadata": {
    "id": "OZICg5xDuIhI"
   },
   "outputs": [],
   "source": [
    "path = 'bank-additional-full.csv'"
   ]
  },
  {
   "cell_type": "code",
   "execution_count": null,
   "metadata": {
    "id": "nz59EECLuIhJ"
   },
   "outputs": [],
   "source": [
    "df = spark.read.option(\"delimiter\", \";\").option(\"header\", True).csv(path)"
   ]
  },
  {
   "cell_type": "code",
   "execution_count": null,
   "metadata": {
    "colab": {
     "base_uri": "https://localhost:8080/"
    },
    "id": "l2KOjusluIhJ",
    "outputId": "26c80d23-c43d-42d8-edcc-941d87c9a8ce"
   },
   "outputs": [],
   "source": [
    "df.columns"
   ]
  },
  {
   "cell_type": "code",
   "execution_count": null,
   "metadata": {
    "id": "m2XB0Dg6uIhK"
   },
   "outputs": [],
   "source": [
    "cols = [c.replace('.', '_') for c in df.columns]\n",
    "df = df.toDF(*cols)"
   ]
  },
  {
   "cell_type": "code",
   "execution_count": null,
   "metadata": {
    "colab": {
     "base_uri": "https://localhost:8080/"
    },
    "id": "e1GqVfxSuIhK",
    "outputId": "80c8dbd0-970d-4ea5-ed0f-0cce41f1f619"
   },
   "outputs": [],
   "source": [
    "df.columns"
   ]
  },
  {
   "cell_type": "markdown",
   "metadata": {
    "id": "zTzlvMoquIhL"
   },
   "source": [
    "Check out data and schema"
   ]
  },
  {
   "cell_type": "code",
   "execution_count": null,
   "metadata": {
    "colab": {
     "base_uri": "https://localhost:8080/"
    },
    "id": "lRiJKu4euIhL",
    "outputId": "7a158d8e-04f8-4fea-cbd2-d37be37c75af"
   },
   "outputs": [],
   "source": [
    "df.show(5)"
   ]
  },
  {
   "cell_type": "code",
   "execution_count": null,
   "metadata": {
    "colab": {
     "base_uri": "https://localhost:8080/"
    },
    "id": "WQhMsyzwuIhL",
    "outputId": "fcf45d09-4bfd-4c11-bf46-c81e76dbcbb4",
    "scrolled": false
   },
   "outputs": [],
   "source": [
    "df.printSchema()"
   ]
  },
  {
   "cell_type": "markdown",
   "metadata": {
    "id": "7Hz1j9hyuIhM"
   },
   "source": [
    "Spark SQL seems to not perform any guess on datatype.  To convert to proper data type, we cast each column to proper type using **'cast'** and replace back to the same column using **'withColumn'**."
   ]
  },
  {
   "cell_type": "code",
   "execution_count": null,
   "metadata": {
    "id": "2Oj3iIXuuIhM"
   },
   "outputs": [],
   "source": [
    "df = df.withColumn('age', df.age.cast('int'))"
   ]
  },
  {
   "cell_type": "code",
   "execution_count": null,
   "metadata": {
    "id": "5qXqo3QGuIhN"
   },
   "outputs": [],
   "source": [
    "from pyspark.sql.functions import col"
   ]
  },
  {
   "cell_type": "code",
   "execution_count": null,
   "metadata": {
    "id": "N4tY780nuIhN"
   },
   "outputs": [],
   "source": [
    "cols = ['age', 'duration', 'campaign', 'pdays', 'previous', 'nr_employed']\n",
    "for c in cols:\n",
    "    df = df.withColumn(c, col(c).cast('int'))"
   ]
  },
  {
   "cell_type": "code",
   "execution_count": null,
   "metadata": {
    "id": "Vxb5wKe4uIhO"
   },
   "outputs": [],
   "source": [
    "cols = ['emp_var_rate', 'cons_price_idx', 'cons_conf_idx', 'euribor3m']\n",
    "for c in cols:\n",
    "    df = df.withColumn(c, col(c).cast('double'))"
   ]
  },
  {
   "cell_type": "markdown",
   "metadata": {
    "id": "JwKe1YCXuIhP"
   },
   "source": [
    "Cast and also rename the column y to label"
   ]
  },
  {
   "cell_type": "code",
   "execution_count": null,
   "metadata": {
    "id": "9KuStuONuIhP"
   },
   "outputs": [],
   "source": [
    "df = df.withColumn('label', df.y.cast('boolean'))"
   ]
  },
  {
   "cell_type": "code",
   "execution_count": null,
   "metadata": {
    "colab": {
     "base_uri": "https://localhost:8080/"
    },
    "id": "PW0kUHSAuIhP",
    "outputId": "e85916f8-6481-482e-d512-224565976e27",
    "scrolled": false
   },
   "outputs": [],
   "source": [
    "df.printSchema()"
   ]
  },
  {
   "cell_type": "markdown",
   "metadata": {
    "id": "UhaCsVP_uIhP"
   },
   "source": [
    "# Spark SQL Commands\n",
    "\n",
    "We can select some columns using **'select'** and select some rows using **'filter'**.  Note that we can perform basic math to columns."
   ]
  },
  {
   "cell_type": "code",
   "execution_count": null,
   "metadata": {
    "colab": {
     "base_uri": "https://localhost:8080/"
    },
    "id": "o4tT-7x1uIhQ",
    "outputId": "9424ca46-42c7-4a03-ae43-b4fdcb358172"
   },
   "outputs": [],
   "source": [
    "df.select(df['job'], df['education'], df['housing']).show(5)"
   ]
  },
  {
   "cell_type": "code",
   "execution_count": null,
   "metadata": {
    "colab": {
     "base_uri": "https://localhost:8080/"
    },
    "id": "PLp6ISdcuIhQ",
    "outputId": "8c130739-7a43-48b8-c9a9-35a23be75f3e"
   },
   "outputs": [],
   "source": [
    "df.select(df['age'], df['duration'], df['pdays'], df['age']*2, df['duration']+df['pdays']).show(10)"
   ]
  },
  {
   "cell_type": "code",
   "execution_count": null,
   "metadata": {
    "colab": {
     "base_uri": "https://localhost:8080/"
    },
    "id": "CkmrTgqauIhR",
    "outputId": "00d2af70-1424-41ff-f853-4de2027e52eb"
   },
   "outputs": [],
   "source": [
    "df.filter(df['duration'] < 100).show(5)"
   ]
  },
  {
   "cell_type": "code",
   "execution_count": null,
   "metadata": {
    "colab": {
     "base_uri": "https://localhost:8080/"
    },
    "id": "k8sIBlkKuIhR",
    "outputId": "e2e26a62-970a-46f9-d003-ba7fc2a70816"
   },
   "outputs": [],
   "source": [
    "df.filter((df['age'] > 60) & (df['age'] <= 65)).select('age', 'marital').show(5)"
   ]
  },
  {
   "cell_type": "markdown",
   "metadata": {
    "id": "rRwiFe17uIhR"
   },
   "source": [
    "# Aggregate and Groupby Functions\n",
    "We can use several built-in aggegrate functions.  We can also use groupby for group operations"
   ]
  },
  {
   "cell_type": "code",
   "execution_count": null,
   "metadata": {
    "id": "cqjTgj-buIhS"
   },
   "outputs": [],
   "source": [
    "from pyspark.sql.functions import avg, min, max, countDistinct"
   ]
  },
  {
   "cell_type": "code",
   "execution_count": null,
   "metadata": {
    "colab": {
     "base_uri": "https://localhost:8080/"
    },
    "id": "afPR_WrMuIhS",
    "outputId": "e4d42927-645c-4b9f-b360-b5ee0849dc4c"
   },
   "outputs": [],
   "source": [
    "df.select(avg('age'), min('age'), max('duration')).show()"
   ]
  },
  {
   "cell_type": "markdown",
   "metadata": {
    "id": "kfxUqhI9uIhS"
   },
   "source": [
    "Groupby function allows us to work data in groups."
   ]
  },
  {
   "cell_type": "code",
   "execution_count": null,
   "metadata": {
    "colab": {
     "base_uri": "https://localhost:8080/"
    },
    "id": "jAnGd3KduIhZ",
    "outputId": "f91c7843-42e8-4a23-f077-c435bec8a900"
   },
   "outputs": [],
   "source": [
    "df.groupby('marital').count().show()"
   ]
  },
  {
   "cell_type": "code",
   "execution_count": null,
   "metadata": {
    "colab": {
     "base_uri": "https://localhost:8080/"
    },
    "id": "LOnsxfl3uIhZ",
    "outputId": "1c7b13e9-e28b-44e4-a355-b2b295d28ea4"
   },
   "outputs": [],
   "source": [
    "df.groupby('marital', 'education').agg({'age': 'min'}).show()"
   ]
  },
  {
   "cell_type": "markdown",
   "metadata": {
    "id": "WuZQ3tI-uIhZ"
   },
   "source": [
    "# User-Defined Function\n",
    "We can create user-defined function using udf."
   ]
  },
  {
   "cell_type": "code",
   "execution_count": null,
   "metadata": {
    "id": "by7kXr7ruIhZ"
   },
   "outputs": [],
   "source": [
    "from pyspark.sql.functions import udf\n",
    "from pyspark.sql.types import StringType"
   ]
  },
  {
   "cell_type": "code",
   "execution_count": null,
   "metadata": {
    "id": "MvCWGL-_uIha"
   },
   "outputs": [],
   "source": [
    "def agegroup_mapping(age): \n",
    "    if age < 25:\n",
    "        return 'young'\n",
    "    if age < 55:\n",
    "        return 'adult'\n",
    "    return 'senior'\n",
    "\n",
    "to_agegroup = udf(agegroup_mapping, StringType())"
   ]
  },
  {
   "cell_type": "code",
   "execution_count": null,
   "metadata": {
    "colab": {
     "base_uri": "https://localhost:8080/"
    },
    "id": "EWktrSiwuIha",
    "outputId": "8ed8629f-fdc1-4ed0-baef-9a28f52640a1"
   },
   "outputs": [],
   "source": [
    "df.select('age', to_agegroup('age')).show(5)"
   ]
  },
  {
   "cell_type": "code",
   "execution_count": null,
   "metadata": {
    "colab": {
     "base_uri": "https://localhost:8080/"
    },
    "id": "wP3fEpZtuIhb",
    "outputId": "759f9db8-a132-4c1c-9d46-d6128207cb90"
   },
   "outputs": [],
   "source": [
    "new_df = df.withColumn('agegroup', to_agegroup(df.age))\n",
    "new_df.select(new_df['age'], new_df['agegroup']).show(10)"
   ]
  }
 ],
 "metadata": {
  "colab": {
   "collapsed_sections": [
    "UhaCsVP_uIhP",
    "rRwiFe17uIhR"
   ],
   "name": "3_SparkSQL.ipynb",
   "provenance": []
  },
  "kernelspec": {
   "display_name": "Python 3",
   "language": "python",
   "name": "python3"
  },
  "language_info": {
   "codemirror_mode": {
    "name": "ipython",
    "version": 3
   },
   "file_extension": ".py",
   "mimetype": "text/x-python",
   "name": "python",
   "nbconvert_exporter": "python",
   "pygments_lexer": "ipython3",
   "version": "3.8.3"
  },
  "toc": {
   "base_numbering": 1,
   "nav_menu": {},
   "number_sections": true,
   "sideBar": true,
   "skip_h1_title": false,
   "title_cell": "Table of Contents",
   "title_sidebar": "Contents",
   "toc_cell": false,
   "toc_position": {},
   "toc_section_display": true,
   "toc_window_display": false
  },
  "varInspector": {
   "cols": {
    "lenName": 16,
    "lenType": 16,
    "lenVar": 40
   },
   "kernels_config": {
    "python": {
     "delete_cmd_postfix": "",
     "delete_cmd_prefix": "del ",
     "library": "var_list.py",
     "varRefreshCmd": "print(var_dic_list())"
    },
    "r": {
     "delete_cmd_postfix": ") ",
     "delete_cmd_prefix": "rm(",
     "library": "var_list.r",
     "varRefreshCmd": "cat(var_dic_list()) "
    }
   },
   "types_to_exclude": [
    "module",
    "function",
    "builtin_function_or_method",
    "instance",
    "_Feature"
   ],
   "window_display": false
  }
 },
 "nbformat": 4,
 "nbformat_minor": 1
}
