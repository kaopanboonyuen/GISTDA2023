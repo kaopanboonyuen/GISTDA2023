{
  "nbformat": 4,
  "nbformat_minor": 0,
  "metadata": {
    "colab": {
      "provenance": []
    },
    "kernelspec": {
      "name": "python3",
      "display_name": "Python 3"
    },
    "language_info": {
      "name": "python"
    }
  },
  "cells": [
    {
      "cell_type": "markdown",
      "source": [
        "# A Simple Introduction to Web Scraping with Beautiful Soup\n",
        "\n",
        "![](https://github.com/kaopanboonyuen/GISTDA2023/raw/main/img/gistda_day1.png)\n",
        "\n",
        "\n",
        "Credit: \n",
        "\n",
        "[1] https://realpython.com/beautiful-soup-web-scraper-python/\n",
        "\n",
        "[2] https://www.analyticsvidhya.com/blog/2021/08/a-simple-introduction-to-web-scraping-with-beautiful-soup/\n",
        "\n",
        "[3] https://www.scrapingbee.com/blog/python-web-scraping-beautiful-soup/"
      ],
      "metadata": {
        "id": "_3C2-BbEQ67J"
      }
    },
    {
      "cell_type": "code",
      "execution_count": 1,
      "metadata": {
        "id": "eufi7kMfMYmY"
      },
      "outputs": [],
      "source": [
        "from bs4 import BeautifulSoup \n",
        "import requests\n",
        "import pandas as pd\n",
        "import re"
      ]
    },
    {
      "cell_type": "markdown",
      "source": [
        "Beautiful Soup is a library useful to extract data from HTML and XML files. A sort of parse tree is built for the parsed page. Indeed, an HTML document is composed of a tree of tags. I will show an example of HTML code to make you grasp this concept.\n",
        "\n",
        "\n",
        "<!-- <!DOCTYPE html>\n",
        "<html>\n",
        "<head>\n",
        "<title>Tutorial of Web scraping</title>\n",
        "</head>\n",
        "<body>\n",
        "<h1>1. Import libraries</h1>\n",
        "<p>Let's import: </p>\n",
        "</body>\n",
        "</html> -->\n",
        "\n",
        "![](https://cdn-images-1.medium.com/max/1000/1*iOWLHDOtqxgngIOj9N3Hzw.png)"
      ],
      "metadata": {
        "id": "WUADewBeevMG"
      }
    },
    {
      "cell_type": "code",
      "source": [
        "url = 'https://en.wikipedia.org/wiki/Big_data'\n",
        "req = requests.get(url)\n",
        "print(req)"
      ],
      "metadata": {
        "colab": {
          "base_uri": "https://localhost:8080/"
        },
        "id": "HLuT23oQerEi",
        "outputId": "3ac58778-144a-4442-950a-ff76f678971c"
      },
      "execution_count": 2,
      "outputs": [
        {
          "output_type": "stream",
          "name": "stdout",
          "text": [
            "<Response [200]>\n"
          ]
        }
      ]
    },
    {
      "cell_type": "code",
      "source": [
        "soup = BeautifulSoup(req.text,\"html.parser\")\n",
        "print(type(soup))"
      ],
      "metadata": {
        "colab": {
          "base_uri": "https://localhost:8080/"
        },
        "id": "brudDXWMfGGQ",
        "outputId": "4d15bb21-aff7-4020-f3be-1f81430d5f63"
      },
      "execution_count": 3,
      "outputs": [
        {
          "output_type": "stream",
          "name": "stdout",
          "text": [
            "<class 'bs4.BeautifulSoup'>\n"
          ]
        }
      ]
    },
    {
      "cell_type": "code",
      "source": [
        "print(soup.prettify()[:100])"
      ],
      "metadata": {
        "colab": {
          "base_uri": "https://localhost:8080/"
        },
        "id": "OxeGYkVwk87m",
        "outputId": "7631ef6c-cbf3-4079-d6fa-adff7566aa1e"
      },
      "execution_count": 4,
      "outputs": [
        {
          "output_type": "stream",
          "name": "stdout",
          "text": [
            "<!DOCTYPE html>\n",
            "<html class=\"client-nojs vector-feature-language-in-header-enabled vector-feature-la\n"
          ]
        }
      ]
    },
    {
      "cell_type": "markdown",
      "source": [
        "## Beautiful Soup DOM Tree\n",
        "The structure of Beautiful Soup bases on the concept of DOM, which is used in all web browsers.  DOM is a tree of all elements in the webpage.  Each element node consists of:\n",
        "- tag\n",
        "- innerHTML/outerHTML\n",
        "- id\n",
        "- attributes\n",
        "- parent and children\n",
        "\n",
        "Note: DOM = Document Object Model \n",
        "\n",
        "### Traversing simple HTML's DOM Tree\n",
        "\n",
        "In our example, the structure is as followed:\n",
        "\n",
        "```\n",
        "html\n",
        "+-- head\n",
        "|   +-- title\n",
        "|   +-- meta\n",
        "|   +-- meta\n",
        "|   +-- style\n",
        "+-- body\n",
        "    +-- div\n",
        "    |   +-- h1\n",
        "    |   +-- p\n",
        "    |       +-- b\n",
        "    +-- div\n",
        "    |   +-- a\n",
        "    |   +-- a\n",
        "    |   +-- a\n",
        "    |   +-- a\n",
        "    +-- div\n",
        "    |   +--div\n",
        "    |   |   +-- h2\n",
        "    |   |   +-- h5\n",
        "    |   |   +-- ...\n",
        "    |   +--div\n",
        "    |       +-- h2\n",
        "    |       +-- h5\n",
        "    |       +-- ...\n",
        "    +-- div\n",
        "        +-- h2\n",
        "```"
      ],
      "metadata": {
        "id": "JFs_oWEGlqBw"
      }
    },
    {
      "cell_type": "code",
      "source": [
        "# title is a tag of one of the element node in the example.\n",
        "# we can refer to the node by using the tag name\n",
        "type(soup.title)"
      ],
      "metadata": {
        "colab": {
          "base_uri": "https://localhost:8080/"
        },
        "id": "kj9NOzb_k8-c",
        "outputId": "42ab417d-ab3c-4731-946e-edb4bd851738"
      },
      "execution_count": 5,
      "outputs": [
        {
          "output_type": "execute_result",
          "data": {
            "text/plain": [
              "bs4.element.Tag"
            ]
          },
          "metadata": {},
          "execution_count": 5
        }
      ]
    },
    {
      "cell_type": "code",
      "source": [
        "soup.head.style"
      ],
      "metadata": {
        "id": "urWWh4neltzo"
      },
      "execution_count": 6,
      "outputs": []
    },
    {
      "cell_type": "code",
      "source": [
        "# we can get tag of a node with 'name'\n",
        "soup.title.name"
      ],
      "metadata": {
        "colab": {
          "base_uri": "https://localhost:8080/",
          "height": 35
        },
        "id": "-TcKs_KNlvMH",
        "outputId": "32f1acb6-fdd2-4a27-d52e-ebe6406f387c"
      },
      "execution_count": 7,
      "outputs": [
        {
          "output_type": "execute_result",
          "data": {
            "text/plain": [
              "'title'"
            ],
            "application/vnd.google.colaboratory.intrinsic+json": {
              "type": "string"
            }
          },
          "metadata": {},
          "execution_count": 7
        }
      ]
    },
    {
      "cell_type": "code",
      "source": [
        "# we can get outerHTML by converting node to string\n",
        "str(soup.title)"
      ],
      "metadata": {
        "colab": {
          "base_uri": "https://localhost:8080/",
          "height": 35
        },
        "id": "SIHrhP6klwgr",
        "outputId": "84ed79a6-3b7d-4b86-aabe-6f06c4b35628"
      },
      "execution_count": 8,
      "outputs": [
        {
          "output_type": "execute_result",
          "data": {
            "text/plain": [
              "'<title>Big data - Wikipedia</title>'"
            ],
            "application/vnd.google.colaboratory.intrinsic+json": {
              "type": "string"
            }
          },
          "metadata": {},
          "execution_count": 8
        }
      ]
    },
    {
      "cell_type": "code",
      "source": [
        "# we can get innerHTML with 'string'\n",
        "soup.title.string"
      ],
      "metadata": {
        "colab": {
          "base_uri": "https://localhost:8080/",
          "height": 35
        },
        "id": "YmZt-kxElyvZ",
        "outputId": "7ff66a8c-1677-40b3-cea3-80a9ed00fef8"
      },
      "execution_count": 9,
      "outputs": [
        {
          "output_type": "execute_result",
          "data": {
            "text/plain": [
              "'Big data - Wikipedia'"
            ],
            "application/vnd.google.colaboratory.intrinsic+json": {
              "type": "string"
            }
          },
          "metadata": {},
          "execution_count": 9
        }
      ]
    },
    {
      "cell_type": "code",
      "source": [
        "# we can get id with 'id' (it is empty in this example)\n",
        "soup.title.id"
      ],
      "metadata": {
        "id": "LmNL1IU0l3MK"
      },
      "execution_count": 10,
      "outputs": []
    },
    {
      "cell_type": "code",
      "source": [
        "# getting the parent node with 'parent'\n",
        "soup.title.parent.name"
      ],
      "metadata": {
        "colab": {
          "base_uri": "https://localhost:8080/",
          "height": 35
        },
        "id": "DpJImW4rl435",
        "outputId": "47721c6f-d41a-454e-9def-280ee51ccea9"
      },
      "execution_count": 11,
      "outputs": [
        {
          "output_type": "execute_result",
          "data": {
            "text/plain": [
              "'head'"
            ],
            "application/vnd.google.colaboratory.intrinsic+json": {
              "type": "string"
            }
          },
          "metadata": {},
          "execution_count": 11
        }
      ]
    },
    {
      "cell_type": "code",
      "source": [
        "# referring to children\n",
        "soup.title.children"
      ],
      "metadata": {
        "colab": {
          "base_uri": "https://localhost:8080/"
        },
        "id": "vTqWDUzql60B",
        "outputId": "e667be58-d539-42d4-9fb8-7cc56ba04c33"
      },
      "execution_count": 12,
      "outputs": [
        {
          "output_type": "execute_result",
          "data": {
            "text/plain": [
              "<list_iterator at 0x7fdbf97aa580>"
            ]
          },
          "metadata": {},
          "execution_count": 12
        }
      ]
    },
    {
      "cell_type": "markdown",
      "source": [
        "# Wikipedia Page Data Extraction\n",
        "\n",
        "In this tutorial, we will learn how to extract a static page and convert it into useful information.\n",
        "\n",
        "We first get a wikipeidia page using requests.\n",
        "\n",
        "![](https://www.techhub.in.th/wp-content/uploads/2013/12/wikipedia-logo.jpg)"
      ],
      "metadata": {
        "id": "G9m7MBM5Cqyz"
      }
    },
    {
      "cell_type": "code",
      "source": [
        "bigdata = requests.get('https://en.wikipedia.org/wiki/Big_data')"
      ],
      "metadata": {
        "id": "tO0FMboVB-YT"
      },
      "execution_count": 13,
      "outputs": []
    },
    {
      "cell_type": "code",
      "source": [
        "len(bigdata.text)"
      ],
      "metadata": {
        "colab": {
          "base_uri": "https://localhost:8080/"
        },
        "id": "_vJfUxFsB-ao",
        "outputId": "9e4f3841-be3e-4f1d-dfd1-5e49b076481e"
      },
      "execution_count": 14,
      "outputs": [
        {
          "output_type": "execute_result",
          "data": {
            "text/plain": [
              "525615"
            ]
          },
          "metadata": {},
          "execution_count": 14
        }
      ]
    },
    {
      "cell_type": "markdown",
      "source": [
        "## Parsing a wikipedia page"
      ],
      "metadata": {
        "id": "2dRLrgFXCCg4"
      }
    },
    {
      "cell_type": "code",
      "source": [
        "soup = BeautifulSoup(bigdata.text, \"lxml\")\n",
        "#print(soup.prettify())"
      ],
      "metadata": {
        "id": "HCUgKUrxB-cu"
      },
      "execution_count": 15,
      "outputs": []
    },
    {
      "cell_type": "code",
      "source": [
        "soup.title.string"
      ],
      "metadata": {
        "colab": {
          "base_uri": "https://localhost:8080/",
          "height": 35
        },
        "id": "ki_DXKKUCGm2",
        "outputId": "2e54f1f1-a22e-4193-bc7e-845552126d12"
      },
      "execution_count": 16,
      "outputs": [
        {
          "output_type": "execute_result",
          "data": {
            "text/plain": [
              "'Big data - Wikipedia'"
            ],
            "application/vnd.google.colaboratory.intrinsic+json": {
              "type": "string"
            }
          },
          "metadata": {},
          "execution_count": 16
        }
      ]
    },
    {
      "cell_type": "code",
      "source": [
        "# soup.find_all('a')"
      ],
      "metadata": {
        "id": "Fih4EHNhCGj-"
      },
      "execution_count": 17,
      "outputs": []
    },
    {
      "cell_type": "code",
      "source": [
        "for link in soup.find_all('a', limit=15):\n",
        "    print('{} : {}'.format(link.get('class'), link.get('href')))"
      ],
      "metadata": {
        "colab": {
          "base_uri": "https://localhost:8080/"
        },
        "id": "YqXjXjPHCGhI",
        "outputId": "b6dcee09-2228-4e44-dee5-e60558301c62"
      },
      "execution_count": 18,
      "outputs": [
        {
          "output_type": "stream",
          "name": "stdout",
          "text": [
            "['mw-jump-link'] : #bodyContent\n",
            "None : /wiki/Main_Page\n",
            "None : /wiki/Wikipedia:Contents\n",
            "None : /wiki/Portal:Current_events\n",
            "None : /wiki/Special:Random\n",
            "None : /wiki/Wikipedia:About\n",
            "None : //en.wikipedia.org/wiki/Wikipedia:Contact_us\n",
            "None : https://donate.wikimedia.org/wiki/Special:FundraiserRedirector?utm_source=donate&utm_medium=sidebar&utm_campaign=C13_en.wikipedia.org&uselang=en\n",
            "None : /wiki/Help:Contents\n",
            "None : /wiki/Help:Introduction\n",
            "None : /wiki/Wikipedia:Community_portal\n",
            "None : /wiki/Special:RecentChanges\n",
            "None : /wiki/Wikipedia:File_upload_wizard\n",
            "['mw-logo'] : /wiki/Main_Page\n",
            "['mw-ui-button', 'mw-ui-quiet', 'mw-ui-icon', 'mw-ui-icon-element', 'mw-ui-icon-wikimedia-search', 'search-toggle'] : /wiki/Special:Search\n"
          ]
        }
      ]
    },
    {
      "cell_type": "code",
      "source": [
        "pattern = re.compile(r'/wiki/(.*)')"
      ],
      "metadata": {
        "id": "Z6HnU8zoCGdv"
      },
      "execution_count": 19,
      "outputs": []
    },
    {
      "cell_type": "code",
      "source": [
        "for link in soup.find_all('a', {'class': None}, limit=20):\n",
        "    href = link.get('href')\n",
        "    if href is not None:\n",
        "        match = re.match(pattern, href)\n",
        "        if match:\n",
        "            print(href)"
      ],
      "metadata": {
        "colab": {
          "base_uri": "https://localhost:8080/"
        },
        "id": "NwKf07o2CO1L",
        "outputId": "38686a58-410f-47c7-b8ba-684bde7909c2"
      },
      "execution_count": 20,
      "outputs": [
        {
          "output_type": "stream",
          "name": "stdout",
          "text": [
            "/wiki/Main_Page\n",
            "/wiki/Wikipedia:Contents\n",
            "/wiki/Portal:Current_events\n",
            "/wiki/Special:Random\n",
            "/wiki/Wikipedia:About\n",
            "/wiki/Help:Contents\n",
            "/wiki/Help:Introduction\n",
            "/wiki/Wikipedia:Community_portal\n",
            "/wiki/Special:RecentChanges\n",
            "/wiki/Wikipedia:File_upload_wizard\n",
            "/wiki/Help:Introduction\n",
            "/wiki/Special:MyContributions\n",
            "/wiki/Special:MyTalk\n",
            "/wiki/Big_data\n"
          ]
        }
      ]
    },
    {
      "cell_type": "code",
      "source": [
        "a_list = soup.select('div.div-col ul a')\n",
        "a_list"
      ],
      "metadata": {
        "colab": {
          "base_uri": "https://localhost:8080/"
        },
        "id": "RMqR4gimCOp_",
        "outputId": "b744d5b9-fae7-4288-aee1-72c34df7d027"
      },
      "execution_count": 21,
      "outputs": [
        {
          "output_type": "execute_result",
          "data": {
            "text/plain": [
              "[<a href=\"/wiki/Big_data_ethics\" title=\"Big data ethics\">Big data ethics</a>,\n",
              " <a href=\"/wiki/Big_data_maturity_model\" title=\"Big data maturity model\">Big data maturity model</a>,\n",
              " <a href=\"/wiki/Big_memory\" title=\"Big memory\">Big memory</a>,\n",
              " <a href=\"/wiki/Data_curation\" title=\"Data curation\">Data curation</a>,\n",
              " <a href=\"/wiki/Data_defined_storage\" title=\"Data defined storage\">Data defined storage</a>,\n",
              " <a href=\"/wiki/Data_engineering\" title=\"Data engineering\">Data engineering</a>,\n",
              " <a href=\"/wiki/Data_lineage\" title=\"Data lineage\">Data lineage</a>,\n",
              " <a href=\"/wiki/Data_philanthropy\" title=\"Data philanthropy\">Data philanthropy</a>,\n",
              " <a href=\"/wiki/Data_science\" title=\"Data science\">Data science</a>,\n",
              " <a href=\"/wiki/Datafication\" title=\"Datafication\">Datafication</a>,\n",
              " <a href=\"/wiki/Document-oriented_database\" title=\"Document-oriented database\">Document-oriented database</a>,\n",
              " <a href=\"/wiki/List_of_big_data_companies\" title=\"List of big data companies\">List of big data companies</a>,\n",
              " <a href=\"/wiki/Very_large_database\" title=\"Very large database\">Very large database</a>,\n",
              " <a href=\"/wiki/XLDB\" title=\"XLDB\">XLDB</a>]"
            ]
          },
          "metadata": {},
          "execution_count": 21
        }
      ]
    },
    {
      "cell_type": "code",
      "source": [
        "for e in a_list:\n",
        "    print(e['href'])"
      ],
      "metadata": {
        "colab": {
          "base_uri": "https://localhost:8080/"
        },
        "id": "KVLr7YyNCZBP",
        "outputId": "d81171a7-2b9e-4b4e-fc56-a15df23b969c"
      },
      "execution_count": 22,
      "outputs": [
        {
          "output_type": "stream",
          "name": "stdout",
          "text": [
            "/wiki/Big_data_ethics\n",
            "/wiki/Big_data_maturity_model\n",
            "/wiki/Big_memory\n",
            "/wiki/Data_curation\n",
            "/wiki/Data_defined_storage\n",
            "/wiki/Data_engineering\n",
            "/wiki/Data_lineage\n",
            "/wiki/Data_philanthropy\n",
            "/wiki/Data_science\n",
            "/wiki/Datafication\n",
            "/wiki/Document-oriented_database\n",
            "/wiki/List_of_big_data_companies\n",
            "/wiki/Very_large_database\n",
            "/wiki/XLDB\n"
          ]
        }
      ]
    },
    {
      "cell_type": "code",
      "source": [
        "data = []\n",
        "for e in a_list:\n",
        "    data.append({ 'keyword' : e.string, 'link' : e['href'] })\n",
        "df = pd.DataFrame(data)"
      ],
      "metadata": {
        "id": "1FTYD7UOCY-G"
      },
      "execution_count": 23,
      "outputs": []
    },
    {
      "cell_type": "code",
      "source": [
        "df"
      ],
      "metadata": {
        "colab": {
          "base_uri": "https://localhost:8080/",
          "height": 488
        },
        "id": "vq57_FdMCY33",
        "outputId": "aa3d2dcb-2664-458a-baeb-bbb04acd0b58"
      },
      "execution_count": 24,
      "outputs": [
        {
          "output_type": "execute_result",
          "data": {
            "text/plain": [
              "                       keyword                              link\n",
              "0              Big data ethics             /wiki/Big_data_ethics\n",
              "1      Big data maturity model     /wiki/Big_data_maturity_model\n",
              "2                   Big memory                  /wiki/Big_memory\n",
              "3                Data curation               /wiki/Data_curation\n",
              "4         Data defined storage        /wiki/Data_defined_storage\n",
              "5             Data engineering            /wiki/Data_engineering\n",
              "6                 Data lineage                /wiki/Data_lineage\n",
              "7            Data philanthropy           /wiki/Data_philanthropy\n",
              "8                 Data science                /wiki/Data_science\n",
              "9                 Datafication                /wiki/Datafication\n",
              "10  Document-oriented database  /wiki/Document-oriented_database\n",
              "11  List of big data companies  /wiki/List_of_big_data_companies\n",
              "12         Very large database         /wiki/Very_large_database\n",
              "13                        XLDB                        /wiki/XLDB"
            ],
            "text/html": [
              "\n",
              "  <div id=\"df-0c7e834e-a392-46fa-87f0-758b07d87ba5\">\n",
              "    <div class=\"colab-df-container\">\n",
              "      <div>\n",
              "<style scoped>\n",
              "    .dataframe tbody tr th:only-of-type {\n",
              "        vertical-align: middle;\n",
              "    }\n",
              "\n",
              "    .dataframe tbody tr th {\n",
              "        vertical-align: top;\n",
              "    }\n",
              "\n",
              "    .dataframe thead th {\n",
              "        text-align: right;\n",
              "    }\n",
              "</style>\n",
              "<table border=\"1\" class=\"dataframe\">\n",
              "  <thead>\n",
              "    <tr style=\"text-align: right;\">\n",
              "      <th></th>\n",
              "      <th>keyword</th>\n",
              "      <th>link</th>\n",
              "    </tr>\n",
              "  </thead>\n",
              "  <tbody>\n",
              "    <tr>\n",
              "      <th>0</th>\n",
              "      <td>Big data ethics</td>\n",
              "      <td>/wiki/Big_data_ethics</td>\n",
              "    </tr>\n",
              "    <tr>\n",
              "      <th>1</th>\n",
              "      <td>Big data maturity model</td>\n",
              "      <td>/wiki/Big_data_maturity_model</td>\n",
              "    </tr>\n",
              "    <tr>\n",
              "      <th>2</th>\n",
              "      <td>Big memory</td>\n",
              "      <td>/wiki/Big_memory</td>\n",
              "    </tr>\n",
              "    <tr>\n",
              "      <th>3</th>\n",
              "      <td>Data curation</td>\n",
              "      <td>/wiki/Data_curation</td>\n",
              "    </tr>\n",
              "    <tr>\n",
              "      <th>4</th>\n",
              "      <td>Data defined storage</td>\n",
              "      <td>/wiki/Data_defined_storage</td>\n",
              "    </tr>\n",
              "    <tr>\n",
              "      <th>5</th>\n",
              "      <td>Data engineering</td>\n",
              "      <td>/wiki/Data_engineering</td>\n",
              "    </tr>\n",
              "    <tr>\n",
              "      <th>6</th>\n",
              "      <td>Data lineage</td>\n",
              "      <td>/wiki/Data_lineage</td>\n",
              "    </tr>\n",
              "    <tr>\n",
              "      <th>7</th>\n",
              "      <td>Data philanthropy</td>\n",
              "      <td>/wiki/Data_philanthropy</td>\n",
              "    </tr>\n",
              "    <tr>\n",
              "      <th>8</th>\n",
              "      <td>Data science</td>\n",
              "      <td>/wiki/Data_science</td>\n",
              "    </tr>\n",
              "    <tr>\n",
              "      <th>9</th>\n",
              "      <td>Datafication</td>\n",
              "      <td>/wiki/Datafication</td>\n",
              "    </tr>\n",
              "    <tr>\n",
              "      <th>10</th>\n",
              "      <td>Document-oriented database</td>\n",
              "      <td>/wiki/Document-oriented_database</td>\n",
              "    </tr>\n",
              "    <tr>\n",
              "      <th>11</th>\n",
              "      <td>List of big data companies</td>\n",
              "      <td>/wiki/List_of_big_data_companies</td>\n",
              "    </tr>\n",
              "    <tr>\n",
              "      <th>12</th>\n",
              "      <td>Very large database</td>\n",
              "      <td>/wiki/Very_large_database</td>\n",
              "    </tr>\n",
              "    <tr>\n",
              "      <th>13</th>\n",
              "      <td>XLDB</td>\n",
              "      <td>/wiki/XLDB</td>\n",
              "    </tr>\n",
              "  </tbody>\n",
              "</table>\n",
              "</div>\n",
              "      <button class=\"colab-df-convert\" onclick=\"convertToInteractive('df-0c7e834e-a392-46fa-87f0-758b07d87ba5')\"\n",
              "              title=\"Convert this dataframe to an interactive table.\"\n",
              "              style=\"display:none;\">\n",
              "        \n",
              "  <svg xmlns=\"http://www.w3.org/2000/svg\" height=\"24px\"viewBox=\"0 0 24 24\"\n",
              "       width=\"24px\">\n",
              "    <path d=\"M0 0h24v24H0V0z\" fill=\"none\"/>\n",
              "    <path d=\"M18.56 5.44l.94 2.06.94-2.06 2.06-.94-2.06-.94-.94-2.06-.94 2.06-2.06.94zm-11 1L8.5 8.5l.94-2.06 2.06-.94-2.06-.94L8.5 2.5l-.94 2.06-2.06.94zm10 10l.94 2.06.94-2.06 2.06-.94-2.06-.94-.94-2.06-.94 2.06-2.06.94z\"/><path d=\"M17.41 7.96l-1.37-1.37c-.4-.4-.92-.59-1.43-.59-.52 0-1.04.2-1.43.59L10.3 9.45l-7.72 7.72c-.78.78-.78 2.05 0 2.83L4 21.41c.39.39.9.59 1.41.59.51 0 1.02-.2 1.41-.59l7.78-7.78 2.81-2.81c.8-.78.8-2.07 0-2.86zM5.41 20L4 18.59l7.72-7.72 1.47 1.35L5.41 20z\"/>\n",
              "  </svg>\n",
              "      </button>\n",
              "      \n",
              "  <style>\n",
              "    .colab-df-container {\n",
              "      display:flex;\n",
              "      flex-wrap:wrap;\n",
              "      gap: 12px;\n",
              "    }\n",
              "\n",
              "    .colab-df-convert {\n",
              "      background-color: #E8F0FE;\n",
              "      border: none;\n",
              "      border-radius: 50%;\n",
              "      cursor: pointer;\n",
              "      display: none;\n",
              "      fill: #1967D2;\n",
              "      height: 32px;\n",
              "      padding: 0 0 0 0;\n",
              "      width: 32px;\n",
              "    }\n",
              "\n",
              "    .colab-df-convert:hover {\n",
              "      background-color: #E2EBFA;\n",
              "      box-shadow: 0px 1px 2px rgba(60, 64, 67, 0.3), 0px 1px 3px 1px rgba(60, 64, 67, 0.15);\n",
              "      fill: #174EA6;\n",
              "    }\n",
              "\n",
              "    [theme=dark] .colab-df-convert {\n",
              "      background-color: #3B4455;\n",
              "      fill: #D2E3FC;\n",
              "    }\n",
              "\n",
              "    [theme=dark] .colab-df-convert:hover {\n",
              "      background-color: #434B5C;\n",
              "      box-shadow: 0px 1px 3px 1px rgba(0, 0, 0, 0.15);\n",
              "      filter: drop-shadow(0px 1px 2px rgba(0, 0, 0, 0.3));\n",
              "      fill: #FFFFFF;\n",
              "    }\n",
              "  </style>\n",
              "\n",
              "      <script>\n",
              "        const buttonEl =\n",
              "          document.querySelector('#df-0c7e834e-a392-46fa-87f0-758b07d87ba5 button.colab-df-convert');\n",
              "        buttonEl.style.display =\n",
              "          google.colab.kernel.accessAllowed ? 'block' : 'none';\n",
              "\n",
              "        async function convertToInteractive(key) {\n",
              "          const element = document.querySelector('#df-0c7e834e-a392-46fa-87f0-758b07d87ba5');\n",
              "          const dataTable =\n",
              "            await google.colab.kernel.invokeFunction('convertToInteractive',\n",
              "                                                     [key], {});\n",
              "          if (!dataTable) return;\n",
              "\n",
              "          const docLinkHtml = 'Like what you see? Visit the ' +\n",
              "            '<a target=\"_blank\" href=https://colab.research.google.com/notebooks/data_table.ipynb>data table notebook</a>'\n",
              "            + ' to learn more about interactive tables.';\n",
              "          element.innerHTML = '';\n",
              "          dataTable['output_type'] = 'display_data';\n",
              "          await google.colab.output.renderOutput(dataTable, element);\n",
              "          const docLink = document.createElement('div');\n",
              "          docLink.innerHTML = docLinkHtml;\n",
              "          element.appendChild(docLink);\n",
              "        }\n",
              "      </script>\n",
              "    </div>\n",
              "  </div>\n",
              "  "
            ]
          },
          "metadata": {},
          "execution_count": 24
        }
      ]
    },
    {
      "cell_type": "markdown",
      "source": [
        "# REST API Data Extraction\n",
        "\n",
        "![](https://raw.githubusercontent.com/Codecademy/articles/0b631b51723fbb3cc652ef5f009082aa71916e63/images/rest_api.svg)\n",
        "\n",
        "Gathering data from a REST API is quite typical.  Most Single-Page-Application (SPA) and AJAX dynamic pages rely on REST APIs.  In addition, most vendor-specific APIs such as Facebook, Twitter, etc., base on REST.\n",
        "\n",
        "The most important step of extracting data via REST API is to identify the endpoint."
      ],
      "metadata": {
        "id": "U5xdWHt-DGF4"
      }
    },
    {
      "cell_type": "code",
      "source": [
        "import requests\n",
        "import json\n",
        "import pprint"
      ],
      "metadata": {
        "id": "q7m7gRGrDFYz"
      },
      "execution_count": 25,
      "outputs": []
    },
    {
      "cell_type": "code",
      "source": [
        "api_url = 'http://api.settrade.com/api/market/SET/info'"
      ],
      "metadata": {
        "id": "FXII1UBiDIUC"
      },
      "execution_count": 26,
      "outputs": []
    },
    {
      "cell_type": "code",
      "source": [
        "data_info = requests.get(api_url)\n",
        "data_info.text"
      ],
      "metadata": {
        "colab": {
          "base_uri": "https://localhost:8080/",
          "height": 157
        },
        "id": "zgcQJUAcDIQ7",
        "outputId": "899cdf21-fe8a-45d2-c0b3-b99962792d51"
      },
      "execution_count": 27,
      "outputs": [
        {
          "output_type": "execute_result",
          "data": {
            "text/plain": [
              "'{\"market_name\":\"SET\",\"market_display_name\":\"SET\",\"market_status\":\"Closed\",\"datetime\":\"29/03/2023 23:37:47\",\"gainer_amount\":617,\"gainer_volume\":6.765037939E9,\"unchange_amount\":612,\"unchange_volume\":2.117060024E9,\"loser_amount\":754,\"loser_volume\":5.633700384E9,\"index\":[{\"index_name\":\"SET\",\"index_display_name\":\"SET\",\"market\":\"SET\",\"prior\":1606.91,\"last\":1610.52,\"change\":3.61,\"percent_change\":0.2246,\"high\":1615.29,\"low\":1602.43,\"total_volume\":1.4606734024E10,\"total_value\":4.454078432419E10,\"flag_url\":null},{\"index_name\":\"SET50\",\"index_display_name\":\"SET50\",\"market\":\"SET\",\"prior\":967.78,\"last\":971.45,\"change\":3.67,\"percent_change\":0.3792,\"high\":974.3,\"low\":965.49,\"total_volume\":1.028903641E9,\"total_value\":2.809787411577E10,\"flag_url\":null},{\"index_name\":\"SET100\",\"index_display_name\":\"SET100\",\"market\":\"SET\",\"prior\":2167.87,\"last\":2175.29,\"change\":7.42,\"percent_change\":0.3422,\"high\":2181.62,\"low\":2162.55,\"total_volume\":1.566862302E9,\"total_value\":3.315673146461E10,\"flag_url\":null},{\"index_name\":\"sSET\",\"index_display_name\":\"sSET\",\"market\":\"SET\",\"prior\":1043.06,\"last\":1044.79,\"change\":1.73,\"percent_change\":0.1658,\"high\":1047.12,\"low\":1040.35,\"total_volume\":6.67914815E8,\"total_value\":2.15516338445E9,\"flag_url\":null},{\"index_name\":\"SETCLMV\",\"index_display_name\":\"SETCLMV\",\"market\":\"SET\",\"prior\":958.3,\"last\":957.54,\"change\":-0.76,\"percent_change\":-0.0793,\"high\":963.59,\"low\":953.78,\"total_volume\":5.66155646E8,\"total_value\":1.740790932281E10,\"flag_url\":null},{\"index_name\":\"SETHD\",\"index_display_name\":\"SETHD\",\"market\":\"SET\",\"prior\":1158.42,\"last\":1160.24,\"change\":1.82,\"percent_change\":0.1571,\"high\":1165.21,\"low\":1153.89,\"total_volume\":7.01068845E8,\"total_value\":1.036643196096E10,\"flag_url\":null},{\"index_name\":\"SETTHSI\",\"index_display_name\":\"SETTHSI\",\"market\":\"SET\",\"prior\":1026.38,\"last\":1028.85,\"change\":2.47,\"percent_change\":0.2406,\"high\":1032.62,\"low\":1023.44,\"total_volume\":1.494786187E9,\"total_value\":2.973582077072E10,\"flag_url\":null},{\"index_name\":\"SETWB\",\"index_display_name\":\"SETWB\",\"market\":\"SET\",\"prior\":995.6,\"last\":994.3,\"change\":-1.3,\"percent_change\":-0.1305,\"high\":999.92,\"low\":989.31,\"total_volume\":2.8151806E8,\"total_value\":8.22220444184E9,\"flag_url\":null}]}'"
            ],
            "application/vnd.google.colaboratory.intrinsic+json": {
              "type": "string"
            }
          },
          "metadata": {},
          "execution_count": 27
        }
      ]
    },
    {
      "cell_type": "code",
      "source": [
        "set_info = json.loads(data_info.text)\n",
        "pprint.pprint(set_info['index'])"
      ],
      "metadata": {
        "colab": {
          "base_uri": "https://localhost:8080/"
        },
        "id": "O1mVYogPDIL-",
        "outputId": "f9f65a8c-bf6c-41e6-c055-42603279b7b2"
      },
      "execution_count": 28,
      "outputs": [
        {
          "output_type": "stream",
          "name": "stdout",
          "text": [
            "[{'change': 3.61,\n",
            "  'flag_url': None,\n",
            "  'high': 1615.29,\n",
            "  'index_display_name': 'SET',\n",
            "  'index_name': 'SET',\n",
            "  'last': 1610.52,\n",
            "  'low': 1602.43,\n",
            "  'market': 'SET',\n",
            "  'percent_change': 0.2246,\n",
            "  'prior': 1606.91,\n",
            "  'total_value': 44540784324.19,\n",
            "  'total_volume': 14606734024.0},\n",
            " {'change': 3.67,\n",
            "  'flag_url': None,\n",
            "  'high': 974.3,\n",
            "  'index_display_name': 'SET50',\n",
            "  'index_name': 'SET50',\n",
            "  'last': 971.45,\n",
            "  'low': 965.49,\n",
            "  'market': 'SET',\n",
            "  'percent_change': 0.3792,\n",
            "  'prior': 967.78,\n",
            "  'total_value': 28097874115.77,\n",
            "  'total_volume': 1028903641.0},\n",
            " {'change': 7.42,\n",
            "  'flag_url': None,\n",
            "  'high': 2181.62,\n",
            "  'index_display_name': 'SET100',\n",
            "  'index_name': 'SET100',\n",
            "  'last': 2175.29,\n",
            "  'low': 2162.55,\n",
            "  'market': 'SET',\n",
            "  'percent_change': 0.3422,\n",
            "  'prior': 2167.87,\n",
            "  'total_value': 33156731464.61,\n",
            "  'total_volume': 1566862302.0},\n",
            " {'change': 1.73,\n",
            "  'flag_url': None,\n",
            "  'high': 1047.12,\n",
            "  'index_display_name': 'sSET',\n",
            "  'index_name': 'sSET',\n",
            "  'last': 1044.79,\n",
            "  'low': 1040.35,\n",
            "  'market': 'SET',\n",
            "  'percent_change': 0.1658,\n",
            "  'prior': 1043.06,\n",
            "  'total_value': 2155163384.45,\n",
            "  'total_volume': 667914815.0},\n",
            " {'change': -0.76,\n",
            "  'flag_url': None,\n",
            "  'high': 963.59,\n",
            "  'index_display_name': 'SETCLMV',\n",
            "  'index_name': 'SETCLMV',\n",
            "  'last': 957.54,\n",
            "  'low': 953.78,\n",
            "  'market': 'SET',\n",
            "  'percent_change': -0.0793,\n",
            "  'prior': 958.3,\n",
            "  'total_value': 17407909322.81,\n",
            "  'total_volume': 566155646.0},\n",
            " {'change': 1.82,\n",
            "  'flag_url': None,\n",
            "  'high': 1165.21,\n",
            "  'index_display_name': 'SETHD',\n",
            "  'index_name': 'SETHD',\n",
            "  'last': 1160.24,\n",
            "  'low': 1153.89,\n",
            "  'market': 'SET',\n",
            "  'percent_change': 0.1571,\n",
            "  'prior': 1158.42,\n",
            "  'total_value': 10366431960.96,\n",
            "  'total_volume': 701068845.0},\n",
            " {'change': 2.47,\n",
            "  'flag_url': None,\n",
            "  'high': 1032.62,\n",
            "  'index_display_name': 'SETTHSI',\n",
            "  'index_name': 'SETTHSI',\n",
            "  'last': 1028.85,\n",
            "  'low': 1023.44,\n",
            "  'market': 'SET',\n",
            "  'percent_change': 0.2406,\n",
            "  'prior': 1026.38,\n",
            "  'total_value': 29735820770.72,\n",
            "  'total_volume': 1494786187.0},\n",
            " {'change': -1.3,\n",
            "  'flag_url': None,\n",
            "  'high': 999.92,\n",
            "  'index_display_name': 'SETWB',\n",
            "  'index_name': 'SETWB',\n",
            "  'last': 994.3,\n",
            "  'low': 989.31,\n",
            "  'market': 'SET',\n",
            "  'percent_change': -0.1305,\n",
            "  'prior': 995.6,\n",
            "  'total_value': 8222204441.84,\n",
            "  'total_volume': 281518060.0}]\n"
          ]
        }
      ]
    },
    {
      "cell_type": "code",
      "source": [
        "market = set_info['index'][0]\n",
        "print(market['market'], market['last'])"
      ],
      "metadata": {
        "colab": {
          "base_uri": "https://localhost:8080/"
        },
        "id": "WZISp14NDIFv",
        "outputId": "f24b8c5c-7def-43fb-9945-d911211cbacb"
      },
      "execution_count": 29,
      "outputs": [
        {
          "output_type": "stream",
          "name": "stdout",
          "text": [
            "SET 1610.52\n"
          ]
        }
      ]
    },
    {
      "cell_type": "code",
      "source": [
        "for ind in set_info['index']:\n",
        "    print(ind['index_name'], ind['last'])"
      ],
      "metadata": {
        "colab": {
          "base_uri": "https://localhost:8080/"
        },
        "id": "UNcx6CrFDRGS",
        "outputId": "81cb4770-c1fd-42b8-f41b-1f8210a1e431"
      },
      "execution_count": 30,
      "outputs": [
        {
          "output_type": "stream",
          "name": "stdout",
          "text": [
            "SET 1610.52\n",
            "SET50 971.45\n",
            "SET100 2175.29\n",
            "sSET 1044.79\n",
            "SETCLMV 957.54\n",
            "SETHD 1160.24\n",
            "SETTHSI 1028.85\n",
            "SETWB 994.3\n"
          ]
        }
      ]
    },
    {
      "cell_type": "markdown",
      "source": [
        "## Data Table Scraping"
      ],
      "metadata": {
        "id": "_fHiCERJGCMF"
      }
    },
    {
      "cell_type": "code",
      "source": [
        "# Send a GET request to the website\n",
        "response = requests.get(\"https://www.w3schools.com/html/html_tables.asp\")"
      ],
      "metadata": {
        "id": "CfOh0NFQDf9F"
      },
      "execution_count": 31,
      "outputs": []
    },
    {
      "cell_type": "code",
      "source": [
        "# Parse the HTML content using BeautifulSoup\n",
        "soup = BeautifulSoup(response.content, \"html.parser\")\n",
        "\n",
        "# Find the table you want to scrape\n",
        "table = soup.find(\"table\", {\"id\": \"customers\"})"
      ],
      "metadata": {
        "id": "HZzq9eu0F8bD"
      },
      "execution_count": 32,
      "outputs": []
    },
    {
      "cell_type": "code",
      "source": [
        "# Extract the table headers\n",
        "headers = []\n",
        "for th in table.find_all(\"th\"):\n",
        "    headers.append(th.text.strip())\n",
        "\n",
        "# Extract the table rows and cells\n",
        "rows = []\n",
        "for tr in table.find_all(\"tr\"):\n",
        "    cells = []\n",
        "    for td in tr.find_all(\"td\"):\n",
        "        cells.append(td.text.strip())\n",
        "    if cells:\n",
        "        rows.append(cells)"
      ],
      "metadata": {
        "id": "2P93PB92F8Y9"
      },
      "execution_count": 33,
      "outputs": []
    },
    {
      "cell_type": "code",
      "source": [
        "# Store the table data in a Pandas DataFrame\n",
        "df = pd.DataFrame(rows, columns=headers)\n",
        "df"
      ],
      "metadata": {
        "colab": {
          "base_uri": "https://localhost:8080/",
          "height": 238
        },
        "id": "rRPEoQHpF8WK",
        "outputId": "61e84fdb-1e17-43f3-dc08-d95d47aea444"
      },
      "execution_count": 34,
      "outputs": [
        {
          "output_type": "execute_result",
          "data": {
            "text/plain": [
              "                        Company           Contact  Country\n",
              "0           Alfreds Futterkiste      Maria Anders  Germany\n",
              "1    Centro comercial Moctezuma   Francisco Chang   Mexico\n",
              "2                  Ernst Handel     Roland Mendel  Austria\n",
              "3                Island Trading     Helen Bennett       UK\n",
              "4  Laughing Bacchus Winecellars   Yoshi Tannamuri   Canada\n",
              "5  Magazzini Alimentari Riuniti  Giovanni Rovelli    Italy"
            ],
            "text/html": [
              "\n",
              "  <div id=\"df-3331ae93-5fa7-402b-954c-d8b2fc67f21b\">\n",
              "    <div class=\"colab-df-container\">\n",
              "      <div>\n",
              "<style scoped>\n",
              "    .dataframe tbody tr th:only-of-type {\n",
              "        vertical-align: middle;\n",
              "    }\n",
              "\n",
              "    .dataframe tbody tr th {\n",
              "        vertical-align: top;\n",
              "    }\n",
              "\n",
              "    .dataframe thead th {\n",
              "        text-align: right;\n",
              "    }\n",
              "</style>\n",
              "<table border=\"1\" class=\"dataframe\">\n",
              "  <thead>\n",
              "    <tr style=\"text-align: right;\">\n",
              "      <th></th>\n",
              "      <th>Company</th>\n",
              "      <th>Contact</th>\n",
              "      <th>Country</th>\n",
              "    </tr>\n",
              "  </thead>\n",
              "  <tbody>\n",
              "    <tr>\n",
              "      <th>0</th>\n",
              "      <td>Alfreds Futterkiste</td>\n",
              "      <td>Maria Anders</td>\n",
              "      <td>Germany</td>\n",
              "    </tr>\n",
              "    <tr>\n",
              "      <th>1</th>\n",
              "      <td>Centro comercial Moctezuma</td>\n",
              "      <td>Francisco Chang</td>\n",
              "      <td>Mexico</td>\n",
              "    </tr>\n",
              "    <tr>\n",
              "      <th>2</th>\n",
              "      <td>Ernst Handel</td>\n",
              "      <td>Roland Mendel</td>\n",
              "      <td>Austria</td>\n",
              "    </tr>\n",
              "    <tr>\n",
              "      <th>3</th>\n",
              "      <td>Island Trading</td>\n",
              "      <td>Helen Bennett</td>\n",
              "      <td>UK</td>\n",
              "    </tr>\n",
              "    <tr>\n",
              "      <th>4</th>\n",
              "      <td>Laughing Bacchus Winecellars</td>\n",
              "      <td>Yoshi Tannamuri</td>\n",
              "      <td>Canada</td>\n",
              "    </tr>\n",
              "    <tr>\n",
              "      <th>5</th>\n",
              "      <td>Magazzini Alimentari Riuniti</td>\n",
              "      <td>Giovanni Rovelli</td>\n",
              "      <td>Italy</td>\n",
              "    </tr>\n",
              "  </tbody>\n",
              "</table>\n",
              "</div>\n",
              "      <button class=\"colab-df-convert\" onclick=\"convertToInteractive('df-3331ae93-5fa7-402b-954c-d8b2fc67f21b')\"\n",
              "              title=\"Convert this dataframe to an interactive table.\"\n",
              "              style=\"display:none;\">\n",
              "        \n",
              "  <svg xmlns=\"http://www.w3.org/2000/svg\" height=\"24px\"viewBox=\"0 0 24 24\"\n",
              "       width=\"24px\">\n",
              "    <path d=\"M0 0h24v24H0V0z\" fill=\"none\"/>\n",
              "    <path d=\"M18.56 5.44l.94 2.06.94-2.06 2.06-.94-2.06-.94-.94-2.06-.94 2.06-2.06.94zm-11 1L8.5 8.5l.94-2.06 2.06-.94-2.06-.94L8.5 2.5l-.94 2.06-2.06.94zm10 10l.94 2.06.94-2.06 2.06-.94-2.06-.94-.94-2.06-.94 2.06-2.06.94z\"/><path d=\"M17.41 7.96l-1.37-1.37c-.4-.4-.92-.59-1.43-.59-.52 0-1.04.2-1.43.59L10.3 9.45l-7.72 7.72c-.78.78-.78 2.05 0 2.83L4 21.41c.39.39.9.59 1.41.59.51 0 1.02-.2 1.41-.59l7.78-7.78 2.81-2.81c.8-.78.8-2.07 0-2.86zM5.41 20L4 18.59l7.72-7.72 1.47 1.35L5.41 20z\"/>\n",
              "  </svg>\n",
              "      </button>\n",
              "      \n",
              "  <style>\n",
              "    .colab-df-container {\n",
              "      display:flex;\n",
              "      flex-wrap:wrap;\n",
              "      gap: 12px;\n",
              "    }\n",
              "\n",
              "    .colab-df-convert {\n",
              "      background-color: #E8F0FE;\n",
              "      border: none;\n",
              "      border-radius: 50%;\n",
              "      cursor: pointer;\n",
              "      display: none;\n",
              "      fill: #1967D2;\n",
              "      height: 32px;\n",
              "      padding: 0 0 0 0;\n",
              "      width: 32px;\n",
              "    }\n",
              "\n",
              "    .colab-df-convert:hover {\n",
              "      background-color: #E2EBFA;\n",
              "      box-shadow: 0px 1px 2px rgba(60, 64, 67, 0.3), 0px 1px 3px 1px rgba(60, 64, 67, 0.15);\n",
              "      fill: #174EA6;\n",
              "    }\n",
              "\n",
              "    [theme=dark] .colab-df-convert {\n",
              "      background-color: #3B4455;\n",
              "      fill: #D2E3FC;\n",
              "    }\n",
              "\n",
              "    [theme=dark] .colab-df-convert:hover {\n",
              "      background-color: #434B5C;\n",
              "      box-shadow: 0px 1px 3px 1px rgba(0, 0, 0, 0.15);\n",
              "      filter: drop-shadow(0px 1px 2px rgba(0, 0, 0, 0.3));\n",
              "      fill: #FFFFFF;\n",
              "    }\n",
              "  </style>\n",
              "\n",
              "      <script>\n",
              "        const buttonEl =\n",
              "          document.querySelector('#df-3331ae93-5fa7-402b-954c-d8b2fc67f21b button.colab-df-convert');\n",
              "        buttonEl.style.display =\n",
              "          google.colab.kernel.accessAllowed ? 'block' : 'none';\n",
              "\n",
              "        async function convertToInteractive(key) {\n",
              "          const element = document.querySelector('#df-3331ae93-5fa7-402b-954c-d8b2fc67f21b');\n",
              "          const dataTable =\n",
              "            await google.colab.kernel.invokeFunction('convertToInteractive',\n",
              "                                                     [key], {});\n",
              "          if (!dataTable) return;\n",
              "\n",
              "          const docLinkHtml = 'Like what you see? Visit the ' +\n",
              "            '<a target=\"_blank\" href=https://colab.research.google.com/notebooks/data_table.ipynb>data table notebook</a>'\n",
              "            + ' to learn more about interactive tables.';\n",
              "          element.innerHTML = '';\n",
              "          dataTable['output_type'] = 'display_data';\n",
              "          await google.colab.output.renderOutput(dataTable, element);\n",
              "          const docLink = document.createElement('div');\n",
              "          docLink.innerHTML = docLinkHtml;\n",
              "          element.appendChild(docLink);\n",
              "        }\n",
              "      </script>\n",
              "    </div>\n",
              "  </div>\n",
              "  "
            ]
          },
          "metadata": {},
          "execution_count": 34
        }
      ]
    },
    {
      "cell_type": "markdown",
      "source": [
        "# Real Cases: BBC news homepage\n",
        "\n",
        "![](https://d.newsweek.com/en/full/881613/33-bbc-breaking-news.jpg?w=466&h=311&f=0717db3d760d0f8559be00d641c9f167)"
      ],
      "metadata": {
        "id": "F0EAO797N4RA"
      }
    },
    {
      "cell_type": "code",
      "source": [
        "# make a GET request to the BBC news homepage\n",
        "response = requests.get('https://www.bbc.com/news')\n",
        "\n",
        "# create a BeautifulSoup object from the response content\n",
        "soup = BeautifulSoup(response.content, 'html.parser')\n",
        "\n",
        "# find all the main news headlines and their URLs\n",
        "main_headlines = soup.find_all('a', class_='gs-c-promo-heading')\n",
        "\n",
        "# iterate through the headlines and print their text and URLs\n",
        "for headline in main_headlines:\n",
        "    print('headline:',headline.text.strip())\n",
        "    print('href:',headline['href'])\n",
        "    print()"
      ],
      "metadata": {
        "colab": {
          "base_uri": "https://localhost:8080/"
        },
        "id": "8rNiDYFwGvVp",
        "outputId": "ac3b180b-28c0-4729-d786-7bb11060ef7b"
      },
      "execution_count": 35,
      "outputs": [
        {
          "output_type": "stream",
          "name": "stdout",
          "text": [
            "headline: Nashville school shooter hid guns in parents' home\n",
            "href: /news/world-us-canada-65106976\n",
            "\n",
            "headline: Nashville school shooter hid guns in parents' home\n",
            "href: /news/world-us-canada-65106976\n",
            "\n",
            "headline: 'Nashville shooter sent me messages before attack'\n",
            "href: /news/world-us-canada-65106763\n",
            "\n",
            "headline: Video of deadly Mexico fire causes outrage\n",
            "href: /news/world-latin-america-65111258\n",
            "\n",
            "headline: Young Brits told to stay away from Amsterdam\n",
            "href: /news/world-europe-65107405\n",
            "\n",
            "headline: Advanced AI risk to humanity - technology leaders\n",
            "href: /news/technology-65110030\n",
            "\n",
            "headline: US clears over-the-counter spray for opioid overdoses\n",
            "href: /news/world-us-canada-65114337\n",
            "\n",
            "headline: Swimmers in Hawaii accused of harassing dolphins\n",
            "href: /news/world-us-canada-65114336\n",
            "\n",
            "headline: Russian spies more effective than army, say experts\n",
            "href: /news/world-europe-65113340\n",
            "\n",
            "headline: Will Serial's Adnan Syed go back to jail?\n",
            "href: /news/world-us-canada-62964216\n",
            "\n",
            "headline: TV star Paul O'Grady dies aged 67\n",
            "href: /news/entertainment-arts-65108130\n",
            "\n",
            "headline: Ticketmaster faces lawsuit over Drake ticket prices\n",
            "href: /news/world-us-canada-65105755\n",
            "\n",
            "headline: TV star Paul O'Grady dies aged 67\n",
            "href: /news/entertainment-arts-65108130\n",
            "\n",
            "headline: Ticketmaster faces lawsuit over Drake ticket prices\n",
            "href: /news/world-us-canada-65105755\n",
            "\n",
            "headline: Prince Harry accuses publisher of 'criminality'\n",
            "href: /news/uk-65105315\n",
            "\n",
            "headline: LiveLiveGerman president hails new chapter as King visits Berlin\n",
            "href: /news/live/uk-65063333\n",
            "\n",
            "headline: Adidas backtracks on BLM design opposition\n",
            "href: /news/business-65107924\n",
            "\n",
            "headline: VideoBodycam footage shows Nashville police response\n",
            "href: /news/world-us-canada-65104632\n",
            "\n",
            "headline: 'My wife woke up without one of her best friends'\n",
            "href: /news/world-us-canada-65107934\n",
            "\n",
            "headline: How police stopped Nashville shooting in four minutes\n",
            "href: /news/world-us-canada-65104487\n",
            "\n",
            "headline: Custodian died doing job he 'absolutely loved'\n",
            "href: /news/world-us-canada-65095355\n",
            "\n",
            "headline: VideoSurvivor of 2022 shooting makes angry plea\n",
            "href: /news/world-us-canada-65095161\n",
            "\n",
            "headline: VideoHow Californian floods affect US food prices\n",
            "href: /news/world-us-canada-65071268\n",
            "\n",
            "headline: BBC World News TV\n",
            "href: /news/world_radio_and_tv\n",
            "\n",
            "headline: AudioBBC World Service Radio\n",
            "href: /sounds/play/live:bbc_world_service\n",
            "\n",
            "headline: VideoChatGPT: The neuroscience behind why we're still smarter than AI\n",
            "href: https://www.bbc.com/reel/video/p0fc9tlx/chatgpt-why-we-re-still-smarter-than-machines\n",
            "\n",
            "headline: VideoPaltrow trial lawyer tries to solve a physics puzzle\n",
            "href: /news/world-us-canada-65107885\n",
            "\n",
            "headline: Cheetahs born in India 70 years after extinction\n",
            "href: /news/world-asia-india-65113651\n",
            "\n",
            "headline: Fishy tale lands Ohio anglers in hot water with law\n",
            "href: /news/world-us-canada-65106997\n",
            "\n",
            "headline: Boy in tent sets world record for charity camp-out\n",
            "href: /news/uk-england-devon-65110616\n",
            "\n",
            "headline: VideoPaltrow trial lawyer tries to solve a physics puzzle\n",
            "href: /news/world-us-canada-65107885\n",
            "\n",
            "headline: VideoBodycam footage shows Nashville police response\n",
            "href: /news/world-us-canada-65104632\n",
            "\n",
            "headline: VideoHow Californian floods affect US food prices\n",
            "href: /news/world-us-canada-65071268\n",
            "\n",
            "headline: VideoPolice release CCTV of US school shooter\n",
            "href: /news/65100000\n",
            "\n",
            "headline: VideoWatch: Bike ride through UK's new super sewer\n",
            "href: /news/science-environment-65091803\n",
            "\n",
            "headline: The trial with A-listers, a Fugee and a fugitive\n",
            "href: /news/world-us-canada-65092101\n",
            "\n",
            "headline: How many US mass shootings have there been in 2023?\n",
            "href: /news/world-us-canada-41488081\n",
            "\n",
            "headline: 'God created me and he knows why I am gay'\n",
            "href: /news/world-africa-65087562\n",
            "\n",
            "headline: Dungeons & Dragons: Hollywood's 50-year-old crush\n",
            "href: /news/entertainment-arts-65092306\n",
            "\n",
            "headline: Push for climate decision at world’s top court\n",
            "href: /news/science-environment-65097831\n",
            "\n",
            "headline: Russian influx drives up rental prices in Dubai\n",
            "href: /news/business-65037061\n",
            "\n",
            "headline: Israel crisis a battle for country's identity\n",
            "href: /news/world-middle-east-65097625\n",
            "\n",
            "headline: Young Brits told to stay away from Amsterdam\n",
            "href: /news/world-europe-65107405\n",
            "\n",
            "headline: Russian spies more effective than army, say experts\n",
            "href: /news/world-europe-65113340\n",
            "\n",
            "headline: Nashville school shooter hid guns in parents' home\n",
            "href: /news/world-us-canada-65106976\n",
            "\n",
            "headline: 'Nashville shooter sent me messages before attack'\n",
            "href: /news/world-us-canada-65106763\n",
            "\n",
            "headline: Advanced AI risk to humanity - technology leaders\n",
            "href: /news/technology-65110030\n",
            "\n",
            "headline: Orthodox monks refuse to leave Kyiv monastery\n",
            "href: /news/world-europe-65117269\n",
            "\n",
            "headline: Swimmers in Hawaii accused of harassing dolphins\n",
            "href: /news/world-us-canada-65114336\n",
            "\n",
            "headline: TV star Paul O'Grady dies aged 67\n",
            "href: /news/entertainment-arts-65108130\n",
            "\n",
            "headline: Video of deadly Mexico fire causes outrage\n",
            "href: /news/world-latin-america-65111258\n",
            "\n",
            "headline: Italy to ban lab-grown meat to protect heritage\n",
            "href: /news/world-europe-65110744\n",
            "\n",
            "headline: How Covid-19 myths travelled the world\n",
            "href: https://www.bbc.com/future/article/20230328-the-long-shadow-of-covid-19-myths\n",
            "\n",
            "headline: How Gen Z is seeing gender in new ways\n",
            "href: https://www.bbc.com/worklife/article/20230327-how-young-people-are-shaking-off-gender-binaries\n",
            "\n",
            "headline: The islanders who weave their dreams\n",
            "href: https://www.bbc.com/travel/article/20230328-the-filipino-islanders-who-weave-their-dreams\n",
            "\n",
            "headline: Dungeons & Dragons 'sure to be a hit'\n",
            "href: https://www.bbc.com/culture/article/20230328-dungeons-dragons-honour-among-thieves-warm-and-upbeat\n",
            "\n",
            "headline: Why male fertility is in decline\n",
            "href: https://www.bbc.com/future/article/20230327-how-pollution-is-causing-a-male-fertility-crisis\n",
            "\n",
            "headline: Why workers are live-quitting on TikTok\n",
            "href: https://www.bbc.com/worklife/article/20230321-quittok-why-young-workers-are-live-quitting-on-tiktok\n",
            "\n",
            "headline: The outlawed drink making a comeback\n",
            "href: https://www.bbc.com/travel/article/20230327-chicha-the-banned-drink-of-colombia\n",
            "\n",
            "headline: Tottenham's Paratici banned worldwide by Fifa\n",
            "href: /sport/football/65112730\n",
            "\n",
            "headline: It's the worst time to fight me - Joshua\n",
            "href: /sport/boxing/65105636\n",
            "\n",
            "headline: Messi passes 100 goals for Argentina with hat-trick\n",
            "href: /sport/football/65108739\n",
            "\n",
            "headline: Dupont wins third Six Nations player award\n",
            "href: /sport/rugby-union/65115866\n",
            "\n",
            "headline: Teenager Litchfield in Australia's Ashes squad\n",
            "href: /sport/cricket/65109348\n",
            "\n",
            "headline: Curry leads Warriors to comeback win over Pelicans\n",
            "href: /sport/basketball/65108814\n",
            "\n",
            "headline: Root and Stokes among star names as IPL returns\n",
            "href: /sport/cricket/65082836\n",
            "\n"
          ]
        }
      ]
    },
    {
      "cell_type": "code",
      "source": [
        "# make a GET request to the BBC news homepage\n",
        "response = requests.get('https://www.bbc.com/news')\n",
        "\n",
        "# create a BeautifulSoup object from the response content\n",
        "soup = BeautifulSoup(response.content, 'html.parser')\n",
        "\n",
        "# find all the main news articles\n",
        "main_articles = soup.find_all('div', class_='gs-c-promo')\n",
        "\n",
        "# iterate through the articles and print their headline, description, and URL\n",
        "for article in main_articles:\n",
        "    try:\n",
        "      headline = article.find('a', class_='gs-c-promo-heading')\n",
        "      description = article.find('p', class_='gs-c-promo-summary')\n",
        "      url = article.find('a', class_='gs-c-promo-heading')['href']\n",
        "      \n",
        "      print('headline:', headline.text.strip())\n",
        "      print('description:',description.text.strip())\n",
        "      print('url:','https://www.bbc.com/'+url)\n",
        "      print()\n",
        "    except:\n",
        "      pass\n"
      ],
      "metadata": {
        "colab": {
          "base_uri": "https://localhost:8080/"
        },
        "id": "Z0wnn7qAKNgW",
        "outputId": "f4d07f9d-545d-498e-de61-86e18e3ec04e"
      },
      "execution_count": 36,
      "outputs": [
        {
          "output_type": "stream",
          "name": "stdout",
          "text": [
            "headline: Nashville school shooter hid guns in parents' home\n",
            "description: Police say the parents felt the suspect should not own weapons, but did not realise guns were in the house.\n",
            "url: https://www.bbc.com//news/world-us-canada-65106976\n",
            "\n",
            "headline: 'Nashville shooter sent me messages before attack'\n",
            "description: \"I'm still trying to wrap my head around what we're going through,\" former classmate Averianna Patton told the BBC.\n",
            "url: https://www.bbc.com//news/world-us-canada-65106763\n",
            "\n",
            "headline: Video of deadly Mexico fire causes outrage\n",
            "description: Footage emerges which appears to show officers failing to open a cell door as the fire erupted.\n",
            "url: https://www.bbc.com//news/world-latin-america-65111258\n",
            "\n",
            "headline: Young Brits told to stay away from Amsterdam\n",
            "description: The Dutch city targets UK men aged 18-35 in an ad campaign aimed at changing its reputation.\n",
            "url: https://www.bbc.com//news/world-europe-65107405\n",
            "\n",
            "headline: Advanced AI risk to humanity - technology leaders\n",
            "description: Elon Musk is among those calling for training in powerful artificial intelligence to be suspended.\n",
            "url: https://www.bbc.com//news/technology-65110030\n",
            "\n",
            "headline: US clears over-the-counter spray for opioid overdoses\n",
            "description: The FDA approval widens the availability of Narcan to tackle an alarmingly high drug fatality rate.\n",
            "url: https://www.bbc.com//news/world-us-canada-65114337\n",
            "\n",
            "headline: Swimmers in Hawaii accused of harassing dolphins\n",
            "description: Swimming with dolphins is popular with tourists in Hawaii but federal law bans getting too close.\n",
            "url: https://www.bbc.com//news/world-us-canada-65114336\n",
            "\n",
            "headline: Russian spies more effective than army, say experts\n",
            "description: Russia's intelligence services have had more success in Ukraine than its army, says a top think tank.\n",
            "url: https://www.bbc.com//news/world-europe-65113340\n",
            "\n",
            "headline: Will Serial's Adnan Syed go back to jail?\n",
            "description: A Maryland appeal court has reinstated Adnan Syed's murder conviction, months after his release.\n",
            "url: https://www.bbc.com//news/world-us-canada-62964216\n",
            "\n",
            "headline: TV star Paul O'Grady dies aged 67\n",
            "description: The TV presenter and comedian died \"unexpectedly but peacefully\" on Tuesday evening, his husband says.\n",
            "url: https://www.bbc.com//news/entertainment-arts-65108130\n",
            "\n",
            "headline: Ticketmaster faces lawsuit over Drake ticket prices\n",
            "description: A Canadian class-action lawsuit alleges that the ticketing site inflated prices in \"bad faith\".\n",
            "url: https://www.bbc.com//news/world-us-canada-65105755\n",
            "\n",
            "headline: TV star Paul O'Grady dies aged 67\n",
            "description: The TV presenter and comedian died \"unexpectedly but peacefully\" on Tuesday evening, his husband says.\n",
            "url: https://www.bbc.com//news/entertainment-arts-65108130\n",
            "\n",
            "headline: Ticketmaster faces lawsuit over Drake ticket prices\n",
            "description: A Canadian class-action lawsuit alleges that the ticketing site inflated prices in \"bad faith\".\n",
            "url: https://www.bbc.com//news/world-us-canada-65105755\n",
            "\n",
            "headline: Prince Harry accuses publisher of 'criminality'\n",
            "description: The Duke of Sussex is bringing a legal case alongside six other claimants, including Sir Elton John.\n",
            "url: https://www.bbc.com//news/uk-65105315\n",
            "\n",
            "headline: LiveLiveGerman president hails new chapter as King visits Berlin\n",
            "description: King and Queen Consort are in Germany for a three day visit and will attend a state banquet later.\n",
            "url: https://www.bbc.com//news/live/uk-65063333\n",
            "\n",
            "headline: Adidas backtracks on BLM design opposition\n",
            "description: The firm previously said a Black Lives Matter design would create confusion with its famous three-stripe mark.\n",
            "url: https://www.bbc.com//news/business-65107924\n",
            "\n",
            "headline: VideoBodycam footage shows Nashville police response\n",
            "headline: 'My wife woke up without one of her best friends'\n",
            "headline: How police stopped Nashville shooting in four minutes\n",
            "headline: Custodian died doing job he 'absolutely loved'\n",
            "headline: VideoSurvivor of 2022 shooting makes angry plea\n",
            "headline: VideoHow Californian floods affect US food prices\n",
            "headline: BBC World News TV\n",
            "description: The latest global news, sport, weather and documentaries\n",
            "url: https://www.bbc.com//news/world_radio_and_tv\n",
            "\n",
            "headline: AudioBBC World Service Radio\n",
            "description: Stories from around the world\n",
            "url: https://www.bbc.com//sounds/play/live:bbc_world_service\n",
            "\n",
            "headline: VideoChatGPT: The neuroscience behind why we're still smarter than AI\n",
            "headline: VideoPaltrow trial lawyer tries to solve a physics puzzle\n",
            "headline: Cheetahs born in India 70 years after extinction\n",
            "headline: Fishy tale lands Ohio anglers in hot water with law\n",
            "headline: Boy in tent sets world record for charity camp-out\n",
            "headline: The trial with A-listers, a Fugee and a fugitive\n",
            "headline: How many US mass shootings have there been in 2023?\n",
            "headline: 'God created me and he knows why I am gay'\n",
            "headline: Dungeons & Dragons: Hollywood's 50-year-old crush\n",
            "headline: Push for climate decision at world’s top court\n",
            "headline: Russian influx drives up rental prices in Dubai\n",
            "headline: Israel crisis a battle for country's identity\n",
            "headline: How Covid-19 myths travelled the world\n",
            "headline: How Gen Z is seeing gender in new ways\n",
            "headline: The islanders who weave their dreams\n",
            "headline: Dungeons & Dragons 'sure to be a hit'\n",
            "headline: Why male fertility is in decline\n",
            "headline: Why workers are live-quitting on TikTok\n",
            "headline: The outlawed drink making a comeback\n",
            "headline: Tottenham's Paratici banned worldwide by Fifa\n",
            "headline: It's the worst time to fight me - Joshua\n",
            "headline: Messi passes 100 goals for Argentina with hat-trick\n",
            "headline: Dupont wins third Six Nations player award\n",
            "headline: Teenager Litchfield in Australia's Ashes squad\n",
            "headline: Curry leads Warriors to comeback win over Pelicans\n",
            "headline: Root and Stokes among star names as IPL returns\n"
          ]
        }
      ]
    },
    {
      "cell_type": "markdown",
      "source": [
        "# Image Scraping\n",
        "\n",
        "![](https://www.enostech.com/wp-content/uploads/2022/04/AdobeStock_474211244.jpg)"
      ],
      "metadata": {
        "id": "xbkJh4LvrQ-5"
      }
    },
    {
      "cell_type": "code",
      "source": [
        "import requests\n",
        "from bs4 import BeautifulSoup\n",
        "import os\n",
        "\n",
        "os.makedirs('image_scraping_results', exist_ok = True)"
      ],
      "metadata": {
        "id": "bQfd5stS_DJ9"
      },
      "execution_count": 37,
      "outputs": []
    },
    {
      "cell_type": "code",
      "source": [
        "url = 'https://www.webdesignerdepot.com/2009/01/the-evolution-of-apple-design-between-1977-2008/'\n",
        "response = requests.get(url)\n",
        "html_content = response.content"
      ],
      "metadata": {
        "id": "C4NicN1f_d-H"
      },
      "execution_count": 38,
      "outputs": []
    },
    {
      "cell_type": "code",
      "source": [
        "soup = BeautifulSoup(html_content, 'html.parser')\n"
      ],
      "metadata": {
        "id": "-kf-zvRN_eAc"
      },
      "execution_count": 39,
      "outputs": []
    },
    {
      "cell_type": "code",
      "source": [
        "image_tags = soup.find_all('img')\n",
        "image_urls = [tag['src'] for tag in image_tags]"
      ],
      "metadata": {
        "id": "6bE2mA6c_eCi"
      },
      "execution_count": 40,
      "outputs": []
    },
    {
      "cell_type": "code",
      "source": [
        "c = 0\n",
        "for i, url in enumerate(image_urls):\n",
        "    try:\n",
        "      response = requests.get(url)\n",
        "      with open(f'image_scraping_results/image_{i}.jpg', 'wb') as f:\n",
        "        f.write(response.content)\n",
        "        print(f\"-- {c} we found the.jpg format and scrape it\")\n",
        "        c+=1\n",
        "    except:\n",
        "        print(\"!! it is not .jpg format\")\n"
      ],
      "metadata": {
        "colab": {
          "base_uri": "https://localhost:8080/"
        },
        "id": "xOhXynEc_eEp",
        "outputId": "c5746b04-8121-42cb-a87b-9ec817e8870b"
      },
      "execution_count": 41,
      "outputs": [
        {
          "output_type": "stream",
          "name": "stdout",
          "text": [
            "!! it is not .jpg format\n",
            "!! it is not .jpg format\n",
            "-- 0 we found the.jpg format and scrape it\n",
            "-- 1 we found the.jpg format and scrape it\n",
            "-- 2 we found the.jpg format and scrape it\n",
            "-- 3 we found the.jpg format and scrape it\n",
            "-- 4 we found the.jpg format and scrape it\n",
            "-- 5 we found the.jpg format and scrape it\n",
            "-- 6 we found the.jpg format and scrape it\n",
            "-- 7 we found the.jpg format and scrape it\n",
            "-- 8 we found the.jpg format and scrape it\n",
            "-- 9 we found the.jpg format and scrape it\n",
            "-- 10 we found the.jpg format and scrape it\n",
            "-- 11 we found the.jpg format and scrape it\n",
            "-- 12 we found the.jpg format and scrape it\n",
            "-- 13 we found the.jpg format and scrape it\n",
            "-- 14 we found the.jpg format and scrape it\n",
            "-- 15 we found the.jpg format and scrape it\n",
            "-- 16 we found the.jpg format and scrape it\n",
            "-- 17 we found the.jpg format and scrape it\n",
            "-- 18 we found the.jpg format and scrape it\n",
            "-- 19 we found the.jpg format and scrape it\n",
            "-- 20 we found the.jpg format and scrape it\n",
            "-- 21 we found the.jpg format and scrape it\n",
            "-- 22 we found the.jpg format and scrape it\n",
            "-- 23 we found the.jpg format and scrape it\n",
            "-- 24 we found the.jpg format and scrape it\n",
            "-- 25 we found the.jpg format and scrape it\n",
            "-- 26 we found the.jpg format and scrape it\n",
            "-- 27 we found the.jpg format and scrape it\n",
            "-- 28 we found the.jpg format and scrape it\n",
            "-- 29 we found the.jpg format and scrape it\n",
            "-- 30 we found the.jpg format and scrape it\n",
            "-- 31 we found the.jpg format and scrape it\n",
            "-- 32 we found the.jpg format and scrape it\n",
            "-- 33 we found the.jpg format and scrape it\n",
            "-- 34 we found the.jpg format and scrape it\n",
            "-- 35 we found the.jpg format and scrape it\n",
            "-- 36 we found the.jpg format and scrape it\n",
            "-- 37 we found the.jpg format and scrape it\n",
            "-- 38 we found the.jpg format and scrape it\n",
            "-- 39 we found the.jpg format and scrape it\n",
            "-- 40 we found the.jpg format and scrape it\n",
            "-- 41 we found the.jpg format and scrape it\n",
            "-- 42 we found the.jpg format and scrape it\n",
            "-- 43 we found the.jpg format and scrape it\n",
            "-- 44 we found the.jpg format and scrape it\n",
            "-- 45 we found the.jpg format and scrape it\n",
            "-- 46 we found the.jpg format and scrape it\n",
            "-- 47 we found the.jpg format and scrape it\n",
            "-- 48 we found the.jpg format and scrape it\n",
            "-- 49 we found the.jpg format and scrape it\n",
            "-- 50 we found the.jpg format and scrape it\n",
            "-- 51 we found the.jpg format and scrape it\n",
            "-- 52 we found the.jpg format and scrape it\n",
            "-- 53 we found the.jpg format and scrape it\n",
            "-- 54 we found the.jpg format and scrape it\n",
            "-- 55 we found the.jpg format and scrape it\n",
            "-- 56 we found the.jpg format and scrape it\n",
            "-- 57 we found the.jpg format and scrape it\n",
            "-- 58 we found the.jpg format and scrape it\n",
            "-- 59 we found the.jpg format and scrape it\n",
            "-- 60 we found the.jpg format and scrape it\n",
            "-- 61 we found the.jpg format and scrape it\n",
            "-- 62 we found the.jpg format and scrape it\n",
            "-- 63 we found the.jpg format and scrape it\n",
            "-- 64 we found the.jpg format and scrape it\n",
            "-- 65 we found the.jpg format and scrape it\n",
            "-- 66 we found the.jpg format and scrape it\n",
            "-- 67 we found the.jpg format and scrape it\n",
            "-- 68 we found the.jpg format and scrape it\n",
            "-- 69 we found the.jpg format and scrape it\n",
            "-- 70 we found the.jpg format and scrape it\n",
            "-- 71 we found the.jpg format and scrape it\n",
            "-- 72 we found the.jpg format and scrape it\n",
            "-- 73 we found the.jpg format and scrape it\n",
            "-- 74 we found the.jpg format and scrape it\n",
            "-- 75 we found the.jpg format and scrape it\n",
            "-- 76 we found the.jpg format and scrape it\n",
            "-- 77 we found the.jpg format and scrape it\n",
            "-- 78 we found the.jpg format and scrape it\n",
            "-- 79 we found the.jpg format and scrape it\n",
            "-- 80 we found the.jpg format and scrape it\n",
            "-- 81 we found the.jpg format and scrape it\n",
            "-- 82 we found the.jpg format and scrape it\n",
            "-- 83 we found the.jpg format and scrape it\n",
            "-- 84 we found the.jpg format and scrape it\n",
            "-- 85 we found the.jpg format and scrape it\n",
            "-- 86 we found the.jpg format and scrape it\n",
            "-- 87 we found the.jpg format and scrape it\n",
            "-- 88 we found the.jpg format and scrape it\n",
            "-- 89 we found the.jpg format and scrape it\n",
            "-- 90 we found the.jpg format and scrape it\n",
            "-- 91 we found the.jpg format and scrape it\n",
            "-- 92 we found the.jpg format and scrape it\n",
            "-- 93 we found the.jpg format and scrape it\n",
            "-- 94 we found the.jpg format and scrape it\n",
            "!! it is not .jpg format\n",
            "!! it is not .jpg format\n",
            "!! it is not .jpg format\n",
            "!! it is not .jpg format\n",
            "!! it is not .jpg format\n",
            "!! it is not .jpg format\n",
            "!! it is not .jpg format\n",
            "!! it is not .jpg format\n",
            "!! it is not .jpg format\n",
            "!! it is not .jpg format\n",
            "!! it is not .jpg format\n",
            "!! it is not .jpg format\n",
            "!! it is not .jpg format\n",
            "!! it is not .jpg format\n",
            "!! it is not .jpg format\n",
            "!! it is not .jpg format\n",
            "!! it is not .jpg format\n",
            "!! it is not .jpg format\n",
            "!! it is not .jpg format\n",
            "!! it is not .jpg format\n",
            "!! it is not .jpg format\n"
          ]
        }
      ]
    }
  ]
}