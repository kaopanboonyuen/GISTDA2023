{
 "cells": [
  {
   "cell_type": "markdown",
   "metadata": {
    "id": "NCHHw7JmBE-R"
   },
   "source": [
    "# Spark Preparation\n",
    "We check if we are in Google Colab.  If this is the case, install all necessary packages.\n",
    "\n",
    "To run spark in Colab, we need to first install all the dependencies in Colab environment i.e. Apache Spark 3.2.1 with hadoop 3.2, Java 8 and Findspark to locate the spark in the system. The tools installation can be carried out inside the Jupyter Notebook of the Colab.\n",
    "Learn more from [A Must-Read Guide on How to Work with PySpark on Google Colab for Data Scientists!](https://www.analyticsvidhya.com/blog/2020/11/a-must-read-guide-on-how-to-work-with-pyspark-on-google-colab-for-data-scientists/)\n",
    "\n",
    "credit: Natawut Nupairoj"
   ]
  },
  {
   "cell_type": "code",
   "execution_count": null,
   "metadata": {
    "id": "o5IklZSTX4mG"
   },
   "outputs": [],
   "source": [
    "try:\n",
    "  import google.colab\n",
    "  IN_COLAB = True\n",
    "except:\n",
    "  IN_COLAB = False"
   ]
  },
  {
   "cell_type": "code",
   "execution_count": null,
   "metadata": {
    "id": "9XiZNubiX9nq"
   },
   "outputs": [],
   "source": [
    "if IN_COLAB:\n",
    "    !apt-get install openjdk-8-jdk-headless -qq > /dev/null\n",
    "    !wget -q https://dlcdn.apache.org/spark/spark-3.2.1/spark-3.2.1-bin-hadoop3.2.tgz\n",
    "    !tar xf spark-3.2.1-bin-hadoop3.2.tgz\n",
    "    !mv spark-3.2.1-bin-hadoop3.2 spark\n",
    "    !pip install -q findspark"
   ]
  },
  {
   "cell_type": "code",
   "execution_count": null,
   "metadata": {
    "id": "vBwkaDE7O0PJ"
   },
   "outputs": [],
   "source": [
    "if IN_COLAB:\n",
    "  import os\n",
    "  os.environ[\"JAVA_HOME\"] = \"/usr/lib/jvm/java-8-openjdk-amd64\"\n",
    "  os.environ[\"SPARK_HOME\"] = \"/content/spark\""
   ]
  },
  {
   "cell_type": "markdown",
   "metadata": {
    "id": "Tvbv_avAY5b_"
   },
   "source": [
    "# Start a Local Cluster\n",
    "Use findspark.init() to start a local cluster.  If you plan to use remote cluster, skip the findspark.init() and change the cluster_url according."
   ]
  },
  {
   "cell_type": "code",
   "execution_count": null,
   "metadata": {
    "id": "PQg0Ed6cOl5b"
   },
   "outputs": [],
   "source": [
    "import findspark\n",
    "findspark.init()"
   ]
  },
  {
   "cell_type": "code",
   "execution_count": null,
   "metadata": {
    "id": "b715cKafZNkF"
   },
   "outputs": [],
   "source": [
    "cluster_url = 'local'"
   ]
  },
  {
   "cell_type": "code",
   "execution_count": null,
   "metadata": {
    "id": "VuvWws-GCpMg"
   },
   "outputs": [],
   "source": [
    "from pyspark.sql import SparkSession\n",
    "\n",
    "spark = SparkSession.builder\\\n",
    "        .master(cluster_url)\\\n",
    "        .appName(\"Colab\")\\\n",
    "        .config('spark.ui.port', '4040')\\\n",
    "        .getOrCreate()\n",
    "sc = spark.sparkContext"
   ]
  },
  {
   "cell_type": "markdown",
   "metadata": {
    "id": "Q4KY8J5jBB3e"
   },
   "source": [
    "# Basic Spark Commands"
   ]
  },
  {
   "cell_type": "code",
   "execution_count": null,
   "metadata": {
    "colab": {
     "base_uri": "https://localhost:8080/",
     "height": 198
    },
    "id": "ytNE6TgaBB3j",
    "outputId": "037fd569-7ba4-421c-c73d-23bc650af04d"
   },
   "outputs": [],
   "source": [
    "sc"
   ]
  },
  {
   "cell_type": "markdown",
   "metadata": {
    "id": "2USEaXdZBB3k"
   },
   "source": [
    "## Simple RDD Operations\n",
    "- *sc.parallelize(data)* \n",
    "create an RDD from data\n",
    "- *rdd.count()* \n",
    "count number of elements in an rdd\n",
    "- *rdd.filter(func)* \n",
    "create a new rdd from existing rdd and keep only those elements that func is true"
   ]
  },
  {
   "cell_type": "code",
   "execution_count": null,
   "metadata": {
    "colab": {
     "base_uri": "https://localhost:8080/"
    },
    "id": "8_iMIj_iBB3k",
    "outputId": "919dfdd5-03a3-4895-bae8-3930aaeecd07"
   },
   "outputs": [],
   "source": [
    "data = [1, 2, 3, 4, 5]\n",
    "rdd = sc.parallelize(data)\n",
    "n = rdd.count()\n",
    "print('count = {0}'.format(n))\n",
    "l = rdd.collect()\n",
    "print(l)"
   ]
  },
  {
   "cell_type": "code",
   "execution_count": null,
   "metadata": {
    "colab": {
     "base_uri": "https://localhost:8080/"
    },
    "id": "eFBOt2ZpBB3l",
    "outputId": "14c78050-00fd-43b3-9823-8c1eeb618da4"
   },
   "outputs": [],
   "source": [
    "l = rdd.take(3)\n",
    "print(l)"
   ]
  },
  {
   "cell_type": "code",
   "execution_count": null,
   "metadata": {
    "colab": {
     "base_uri": "https://localhost:8080/"
    },
    "id": "v8qY-EJRBB3l",
    "outputId": "b483ea2c-cd93-428e-e0ca-0dd0c08d5950"
   },
   "outputs": [],
   "source": [
    "f_rdd = rdd.filter(lambda d: d > 2)\n",
    "for d in f_rdd.collect():\n",
    "    print(d)\n",
    "print('filter count = {0}'.format(f_rdd.count()))"
   ]
  },
  {
   "cell_type": "markdown",
   "metadata": {
    "id": "pEh31kMTBB3l"
   },
   "source": [
    "## RDD Operations - map and reduce\n",
    "- *rdd.map(func)*\n",
    "create a new rdd by performing function func on each element in an rdd\n",
    "- *rdd.reduce(func)*\n",
    "aggregate all elements in an rdd using function func"
   ]
  },
  {
   "cell_type": "code",
   "execution_count": null,
   "metadata": {
    "id": "DCvOjO9bBB3m"
   },
   "outputs": [],
   "source": [
    "data = ['line 1', '2', 'more lines', 'last line']"
   ]
  },
  {
   "cell_type": "code",
   "execution_count": null,
   "metadata": {
    "id": "pTZex_7iBB3m"
   },
   "outputs": [],
   "source": [
    "lines = sc.parallelize(data)"
   ]
  },
  {
   "cell_type": "code",
   "execution_count": null,
   "metadata": {
    "colab": {
     "base_uri": "https://localhost:8080/"
    },
    "id": "nHYySyTvBB3m",
    "outputId": "2208e9ce-2e79-4358-e2ca-ef5b9d86f6bc"
   },
   "outputs": [],
   "source": [
    "print(lines.collect())"
   ]
  },
  {
   "cell_type": "code",
   "execution_count": null,
   "metadata": {
    "colab": {
     "base_uri": "https://localhost:8080/"
    },
    "id": "XltEtVriBB3m",
    "outputId": "9cbd9bb5-7803-43de-f549-c6e8ac7dabd1"
   },
   "outputs": [],
   "source": [
    "lineLengths = lines.map(lambda line: len(line))\n",
    "print(lineLengths.collect())"
   ]
  },
  {
   "cell_type": "code",
   "execution_count": null,
   "metadata": {
    "colab": {
     "base_uri": "https://localhost:8080/"
    },
    "id": "NIolBGhSBB3n",
    "outputId": "d651560b-cf62-4889-d42c-d87f6bf4dca4"
   },
   "outputs": [],
   "source": [
    "totalLength = lineLengths.reduce(lambda a, b: a+b)\n",
    "print(totalLength)"
   ]
  },
  {
   "cell_type": "code",
   "execution_count": null,
   "metadata": {
    "colab": {
     "base_uri": "https://localhost:8080/"
    },
    "id": "m2xTyLVwBB3n",
    "outputId": "3dce0f70-c319-483c-cf23-e4202870ec10"
   },
   "outputs": [],
   "source": [
    "data = (1,2,3,4)\n",
    "rdd = sc.parallelize(data)\n",
    "rdd2 = rdd.map(lambda x: x*2)\n",
    "print(rdd2.collect())\n",
    "sum_val = rdd2.reduce(lambda a, b: a+b)\n",
    "print('sum = {0}'.format(sum_val))\n",
    "mul_val = rdd2.reduce(lambda a, b: a*b)\n",
    "print('mul = {0}'.format(mul_val))"
   ]
  },
  {
   "cell_type": "markdown",
   "metadata": {
    "id": "hCN2Ce92BB3n"
   },
   "source": [
    "## RDD Operations - aggregate"
   ]
  },
  {
   "cell_type": "code",
   "execution_count": null,
   "metadata": {
    "colab": {
     "base_uri": "https://localhost:8080/"
    },
    "id": "HLiDl_PeBB3n",
    "outputId": "c581450f-85ff-4742-b826-29a61a248914"
   },
   "outputs": [],
   "source": [
    "rdd.aggregate((0, 0),\n",
    "              lambda acc, value: (acc[0]+value, acc[1]+1), \n",
    "              lambda acc1, acc2: (acc1[0]+acc2[0], acc1[1]+acc2[1]))"
   ]
  },
  {
   "cell_type": "code",
   "execution_count": null,
   "metadata": {
    "colab": {
     "base_uri": "https://localhost:8080/"
    },
    "id": "xlqSrrGsBB3n",
    "outputId": "18dec30d-4935-49c2-9752-07f334d3f112"
   },
   "outputs": [],
   "source": [
    "lines.aggregate((\"\", 0),\n",
    "                lambda a, s: (a[0]+s, a[1]+len(s)),\n",
    "                lambda a, b: (a[0]+b[0], a[1]+b[1]))"
   ]
  },
  {
   "cell_type": "markdown",
   "metadata": {
    "id": "yFTEFyIYBB3o"
   },
   "source": [
    "# Working with Text\n",
    "\n",
    "Before running this example, make sure that a data file 'star-wars.txt' has been uploaded to content folder of this colab"
   ]
  },
  {
   "cell_type": "code",
   "execution_count": null,
   "metadata": {
    "colab": {
     "base_uri": "https://localhost:8080/"
    },
    "id": "56er8X4HuIIS",
    "outputId": "462327e5-1d29-4289-9d4c-acc99e55c119"
   },
   "outputs": [],
   "source": [
    "!wget https://github.com/kaopanboonyuen/2110446_DataScience_2021s2/raw/main/code/week9_spark/star-wars.txt -O star-wars.txt"
   ]
  },
  {
   "cell_type": "code",
   "execution_count": null,
   "metadata": {
    "colab": {
     "base_uri": "https://localhost:8080/"
    },
    "id": "wuBT3HAwBB3o",
    "outputId": "d02b758d-bdb8-4e41-cf8f-e9db045f9d55"
   },
   "outputs": [],
   "source": [
    "sw = sc.textFile('star-wars.txt')\n",
    "print('Total = {0} lines'.format(sw.count()))\n",
    "for line in sw.take(10):\n",
    "    print('{0}: [{1}]'.format(len(line), line))"
   ]
  },
  {
   "cell_type": "code",
   "execution_count": null,
   "metadata": {
    "colab": {
     "base_uri": "https://localhost:8080/"
    },
    "id": "YB1lgr6kBB3p",
    "outputId": "ced934bb-34d2-4bf3-f6f1-47c3fa8c4cd1"
   },
   "outputs": [],
   "source": [
    "nb_lines = sw.filter(lambda line: len(line) > 0)\n",
    "print('Non blank line = {0} lines'.format(nb_lines.count()))\n",
    "all_lowers = nb_lines.map(lambda line: line.lower())\n",
    "for line in all_lowers.take(10):\n",
    "    print('{0}: [{1}]'.format(len(line), line))"
   ]
  },
  {
   "cell_type": "code",
   "execution_count": null,
   "metadata": {
    "colab": {
     "base_uri": "https://localhost:8080/"
    },
    "id": "YYz4VHwsBB3p",
    "outputId": "b4b43310-31f5-4bb2-f2a8-541a3c2d23af"
   },
   "outputs": [],
   "source": [
    "words = all_lowers.flatMap(lambda line: line.split())\n",
    "for w in words.take(5):\n",
    "    print(w)"
   ]
  },
  {
   "cell_type": "code",
   "execution_count": null,
   "metadata": {
    "colab": {
     "base_uri": "https://localhost:8080/"
    },
    "id": "__qcouaNBB3p",
    "outputId": "f7cddd84-e776-4acc-bbd0-e15e95ff03db"
   },
   "outputs": [],
   "source": [
    "mappers = words.map(lambda word: (word, 1))\n",
    "counts = mappers.reduceByKey(lambda x, y: x+y)\n",
    "for wc in counts.take(10):\n",
    "    print(wc)"
   ]
  },
  {
   "cell_type": "code",
   "execution_count": null,
   "metadata": {
    "id": "cxN0eO63BB3p"
   },
   "outputs": [],
   "source": []
  }
 ],
 "metadata": {
  "colab": {
   "collapsed_sections": [],
   "name": "1_Basic_Spark.ipynb",
   "provenance": []
  },
  "kernelspec": {
   "display_name": "Python 3",
   "language": "python",
   "name": "python3"
  },
  "language_info": {
   "codemirror_mode": {
    "name": "ipython",
    "version": 3
   },
   "file_extension": ".py",
   "mimetype": "text/x-python",
   "name": "python",
   "nbconvert_exporter": "python",
   "pygments_lexer": "ipython3",
   "version": "3.8.3"
  },
  "toc": {
   "base_numbering": 1,
   "nav_menu": {},
   "number_sections": true,
   "sideBar": true,
   "skip_h1_title": false,
   "title_cell": "Table of Contents",
   "title_sidebar": "Contents",
   "toc_cell": false,
   "toc_position": {},
   "toc_section_display": true,
   "toc_window_display": false
  },
  "varInspector": {
   "cols": {
    "lenName": 16,
    "lenType": 16,
    "lenVar": 40
   },
   "kernels_config": {
    "python": {
     "delete_cmd_postfix": "",
     "delete_cmd_prefix": "del ",
     "library": "var_list.py",
     "varRefreshCmd": "print(var_dic_list())"
    },
    "r": {
     "delete_cmd_postfix": ") ",
     "delete_cmd_prefix": "rm(",
     "library": "var_list.r",
     "varRefreshCmd": "cat(var_dic_list()) "
    }
   },
   "types_to_exclude": [
    "module",
    "function",
    "builtin_function_or_method",
    "instance",
    "_Feature"
   ],
   "window_display": false
  }
 },
 "nbformat": 4,
 "nbformat_minor": 1
}
